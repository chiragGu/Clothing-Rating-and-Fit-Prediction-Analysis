{
  "nbformat": 4,
  "nbformat_minor": 0,
  "metadata": {
    "colab": {
      "provenance": [],
      "collapsed_sections": []
    },
    "kernelspec": {
      "name": "python3",
      "display_name": "Python 3"
    },
    "language_info": {
      "name": "python"
    }
  },
  "cells": [
    {
      "cell_type": "code",
      "metadata": {
        "colab": {
          "base_uri": "https://localhost:8080/"
        },
        "id": "RaTx2Q3IWNW0",
        "outputId": "f8277130-3b9c-4f19-ae30-6ef270874fee"
      },
      "source": [
        "from google.colab import drive\n",
        "drive.mount('/content/drive')"
      ],
      "execution_count": 1,
      "outputs": [
        {
          "output_type": "stream",
          "name": "stdout",
          "text": [
            "Mounted at /content/drive\n"
          ]
        }
      ]
    },
    {
      "cell_type": "code",
      "metadata": {
        "id": "rYC1ZGtUXZQa"
      },
      "source": [
        "import gzip\n",
        "import math\n",
        "import matplotlib.pyplot as plt\n",
        "import numpy as np\n",
        "import random\n",
        "import sklearn\n",
        "import string\n",
        "from collections import defaultdict\n",
        "from nltk.stem.porter import *\n",
        "from sklearn import linear_model\n",
        "from sklearn.metrics import mean_squared_error\n",
        "import datetime\n",
        "import dateutil\n",
        "import scipy\n",
        "import tensorflow as tf\n",
        "import time\n",
        "import json\n",
        "import pandas as pd\n",
        "from dateutil import parser\n",
        "from sklearn.model_selection import train_test_split\n",
        "import tensorflow as tf\n",
        "from sklearn import metrics\n",
        "import seaborn as sns"
      ],
      "execution_count": 2,
      "outputs": []
    },
    {
      "cell_type": "markdown",
      "metadata": {
        "id": "n9jz7fhC7Gon"
      },
      "source": [
        "## Reading the data"
      ]
    },
    {
      "cell_type": "code",
      "metadata": {
        "colab": {
          "base_uri": "https://localhost:8080/"
        },
        "id": "tw8U9b2VXmuY",
        "outputId": "b5f2ec85-e2be-4ef5-e5b6-29f3261e2c84"
      },
      "source": [
        "def parseData(fname):\n",
        "    for l in open(fname):\n",
        "        yield eval(l)\n",
        "\n",
        "#path1 = \"/content/drive/MyDrive/modcloth_final_data.json\"\n",
        "path2 = \"/content/drive/MyDrive/renttherunway_final_data.json\"\n",
        "\n",
        "print(\"Reading\")\n",
        "\n",
        "#ModCloth = list(parseData(path1))\n",
        "Rent_Run = list(parseData(path2))\n",
        "print(\"Reading done\")"
      ],
      "execution_count": null,
      "outputs": [
        {
          "output_type": "stream",
          "name": "stdout",
          "text": [
            "Reading\n",
            "Reading done\n"
          ]
        }
      ]
    },
    {
      "cell_type": "code",
      "source": [
        "def parseData(fname):\n",
        "    for l in open(fname):\n",
        "        yield eval(l)\n",
        "\n",
        "#path1 = \"/content/drive/MyDrive/modcloth_final_data.json\"\n",
        "path2 = \"/content/drive/MyDrive/renttherunway_final_data.json\"\n",
        "\n",
        "print(\"Reading\")\n",
        "\n",
        "#ModCloth = list(parseData(path1))\n",
        "Rent_Run = list(parseData(path2))\n",
        "print(\"Reading done\")"
      ],
      "metadata": {
        "colab": {
          "base_uri": "https://localhost:8080/"
        },
        "id": "CGHVMvQ5Q06h",
        "outputId": "edc09f10-ccc6-4787-9afb-6ef04e149f4f"
      },
      "execution_count": 3,
      "outputs": [
        {
          "output_type": "stream",
          "name": "stdout",
          "text": [
            "Reading\n",
            "Reading done\n"
          ]
        }
      ]
    },
    {
      "cell_type": "markdown",
      "metadata": {
        "id": "9_7SyBi07L5V"
      },
      "source": [
        "## Cleaning the Data"
      ]
    },
    {
      "cell_type": "code",
      "metadata": {
        "colab": {
          "base_uri": "https://localhost:8080/"
        },
        "id": "_p5hTEaubaU7",
        "outputId": "480fa554-e6a3-4327-a330-8712ce82c4ce"
      },
      "source": [
        "Rent_Run[3]"
      ],
      "execution_count": null,
      "outputs": [
        {
          "output_type": "execute_result",
          "data": {
            "text/plain": [
              "{'age': '34',\n",
              " 'body type': 'pear',\n",
              " 'bust size': '34c',\n",
              " 'category': 'dress',\n",
              " 'fit': 'fit',\n",
              " 'height': '5\\' 5\"',\n",
              " 'item_id': '126335',\n",
              " 'rating': '8',\n",
              " 'rented for': 'formal affair',\n",
              " 'review_date': 'February 12, 2014',\n",
              " 'review_summary': 'Dress arrived on time and in perfect condition. ',\n",
              " 'review_text': \"I rented this for my company's black tie awards banquet.  I liked that this dress was short but was a little fancier with the sequins. (I generally don't care for long dresses.)  I would describe the color as more rose gold than yellow gold.  I have blonde hair and fair skin, and the color was very flattering.  This is a very forgiving dress! It's form fitting without making you feel like you're squeezed into it.  I would rent this one again.  Highly recommend!\",\n",
              " 'size': 8,\n",
              " 'user_id': '909926',\n",
              " 'weight': '135lbs'}"
            ]
          },
          "metadata": {},
          "execution_count": 4
        }
      ]
    },
    {
      "cell_type": "code",
      "metadata": {
        "colab": {
          "base_uri": "https://localhost:8080/"
        },
        "id": "7v3pE82yAlRH",
        "outputId": "33754373-340a-4080-c555-56bec27ddfea"
      },
      "source": [
        "type(Rent_Run)"
      ],
      "execution_count": null,
      "outputs": [
        {
          "output_type": "execute_result",
          "data": {
            "text/plain": [
              "list"
            ]
          },
          "metadata": {},
          "execution_count": 5
        }
      ]
    },
    {
      "cell_type": "code",
      "metadata": {
        "id": "DbeHq-HncAHL"
      },
      "source": [
        "## Creating a DataFrame\n",
        "Data_df = pd.DataFrame.from_dict(Rent_Run)"
      ],
      "execution_count": null,
      "outputs": []
    },
    {
      "cell_type": "code",
      "metadata": {
        "colab": {
          "base_uri": "https://localhost:8080/",
          "height": 310
        },
        "id": "_PKyzoI5doiE",
        "outputId": "3b4294f0-bbae-4755-a0a1-cf97195a8a8e"
      },
      "source": [
        "Data_df.head()"
      ],
      "execution_count": null,
      "outputs": [
        {
          "output_type": "execute_result",
          "data": {
            "text/html": [
              "<div>\n",
              "<style scoped>\n",
              "    .dataframe tbody tr th:only-of-type {\n",
              "        vertical-align: middle;\n",
              "    }\n",
              "\n",
              "    .dataframe tbody tr th {\n",
              "        vertical-align: top;\n",
              "    }\n",
              "\n",
              "    .dataframe thead th {\n",
              "        text-align: right;\n",
              "    }\n",
              "</style>\n",
              "<table border=\"1\" class=\"dataframe\">\n",
              "  <thead>\n",
              "    <tr style=\"text-align: right;\">\n",
              "      <th></th>\n",
              "      <th>fit</th>\n",
              "      <th>user_id</th>\n",
              "      <th>bust size</th>\n",
              "      <th>item_id</th>\n",
              "      <th>weight</th>\n",
              "      <th>rating</th>\n",
              "      <th>rented for</th>\n",
              "      <th>review_text</th>\n",
              "      <th>body type</th>\n",
              "      <th>review_summary</th>\n",
              "      <th>category</th>\n",
              "      <th>height</th>\n",
              "      <th>size</th>\n",
              "      <th>age</th>\n",
              "      <th>review_date</th>\n",
              "    </tr>\n",
              "  </thead>\n",
              "  <tbody>\n",
              "    <tr>\n",
              "      <th>0</th>\n",
              "      <td>fit</td>\n",
              "      <td>420272</td>\n",
              "      <td>34d</td>\n",
              "      <td>2260466</td>\n",
              "      <td>137lbs</td>\n",
              "      <td>10</td>\n",
              "      <td>vacation</td>\n",
              "      <td>An adorable romper! Belt and zipper were a lit...</td>\n",
              "      <td>hourglass</td>\n",
              "      <td>So many compliments!</td>\n",
              "      <td>romper</td>\n",
              "      <td>5' 8\"</td>\n",
              "      <td>14</td>\n",
              "      <td>28</td>\n",
              "      <td>April 20, 2016</td>\n",
              "    </tr>\n",
              "    <tr>\n",
              "      <th>1</th>\n",
              "      <td>fit</td>\n",
              "      <td>273551</td>\n",
              "      <td>34b</td>\n",
              "      <td>153475</td>\n",
              "      <td>132lbs</td>\n",
              "      <td>10</td>\n",
              "      <td>other</td>\n",
              "      <td>I rented this dress for a photo shoot. The the...</td>\n",
              "      <td>straight &amp; narrow</td>\n",
              "      <td>I felt so glamourous!!!</td>\n",
              "      <td>gown</td>\n",
              "      <td>5' 6\"</td>\n",
              "      <td>12</td>\n",
              "      <td>36</td>\n",
              "      <td>June 18, 2013</td>\n",
              "    </tr>\n",
              "    <tr>\n",
              "      <th>2</th>\n",
              "      <td>fit</td>\n",
              "      <td>360448</td>\n",
              "      <td>NaN</td>\n",
              "      <td>1063761</td>\n",
              "      <td>NaN</td>\n",
              "      <td>10</td>\n",
              "      <td>party</td>\n",
              "      <td>This hugged in all the right places! It was a ...</td>\n",
              "      <td>NaN</td>\n",
              "      <td>It was a great time to celebrate the (almost) ...</td>\n",
              "      <td>sheath</td>\n",
              "      <td>5' 4\"</td>\n",
              "      <td>4</td>\n",
              "      <td>116</td>\n",
              "      <td>December 14, 2015</td>\n",
              "    </tr>\n",
              "    <tr>\n",
              "      <th>3</th>\n",
              "      <td>fit</td>\n",
              "      <td>909926</td>\n",
              "      <td>34c</td>\n",
              "      <td>126335</td>\n",
              "      <td>135lbs</td>\n",
              "      <td>8</td>\n",
              "      <td>formal affair</td>\n",
              "      <td>I rented this for my company's black tie award...</td>\n",
              "      <td>pear</td>\n",
              "      <td>Dress arrived on time and in perfect condition.</td>\n",
              "      <td>dress</td>\n",
              "      <td>5' 5\"</td>\n",
              "      <td>8</td>\n",
              "      <td>34</td>\n",
              "      <td>February 12, 2014</td>\n",
              "    </tr>\n",
              "    <tr>\n",
              "      <th>4</th>\n",
              "      <td>fit</td>\n",
              "      <td>151944</td>\n",
              "      <td>34b</td>\n",
              "      <td>616682</td>\n",
              "      <td>145lbs</td>\n",
              "      <td>10</td>\n",
              "      <td>wedding</td>\n",
              "      <td>I have always been petite in my upper body and...</td>\n",
              "      <td>athletic</td>\n",
              "      <td>Was in love with this dress !!!</td>\n",
              "      <td>gown</td>\n",
              "      <td>5' 9\"</td>\n",
              "      <td>12</td>\n",
              "      <td>27</td>\n",
              "      <td>September 26, 2016</td>\n",
              "    </tr>\n",
              "  </tbody>\n",
              "</table>\n",
              "</div>"
            ],
            "text/plain": [
              "   fit user_id bust size  item_id  ... height size  age         review_date\n",
              "0  fit  420272       34d  2260466  ...  5' 8\"   14   28      April 20, 2016\n",
              "1  fit  273551       34b   153475  ...  5' 6\"   12   36       June 18, 2013\n",
              "2  fit  360448       NaN  1063761  ...  5' 4\"    4  116   December 14, 2015\n",
              "3  fit  909926       34c   126335  ...  5' 5\"    8   34   February 12, 2014\n",
              "4  fit  151944       34b   616682  ...  5' 9\"   12   27  September 26, 2016\n",
              "\n",
              "[5 rows x 15 columns]"
            ]
          },
          "metadata": {},
          "execution_count": 7
        }
      ]
    },
    {
      "cell_type": "code",
      "metadata": {
        "colab": {
          "base_uri": "https://localhost:8080/"
        },
        "id": "_Tfpc2MYdrLg",
        "outputId": "8d5707fa-4ece-4d88-c206-0ce2af41df0c"
      },
      "source": [
        "## Wrangling the DF\n",
        "print(Data_df.info())\n",
        "print(Data_df.describe())\n",
        "print(Data_df.shape)"
      ],
      "execution_count": null,
      "outputs": [
        {
          "output_type": "stream",
          "name": "stdout",
          "text": [
            "<class 'pandas.core.frame.DataFrame'>\n",
            "RangeIndex: 192544 entries, 0 to 192543\n",
            "Data columns (total 15 columns):\n",
            " #   Column          Non-Null Count   Dtype \n",
            "---  ------          --------------   ----- \n",
            " 0   fit             192544 non-null  object\n",
            " 1   user_id         192544 non-null  object\n",
            " 2   bust size       174133 non-null  object\n",
            " 3   item_id         192544 non-null  object\n",
            " 4   weight          162562 non-null  object\n",
            " 5   rating          192544 non-null  object\n",
            " 6   rented for      192534 non-null  object\n",
            " 7   review_text     192544 non-null  object\n",
            " 8   body type       177907 non-null  object\n",
            " 9   review_summary  192544 non-null  object\n",
            " 10  category        192544 non-null  object\n",
            " 11  height          191867 non-null  object\n",
            " 12  size            192544 non-null  int64 \n",
            " 13  age             191584 non-null  object\n",
            " 14  review_date     192544 non-null  object\n",
            "dtypes: int64(1), object(14)\n",
            "memory usage: 22.0+ MB\n",
            "None\n",
            "                size\n",
            "count  192544.000000\n",
            "mean       12.245175\n",
            "std         8.494877\n",
            "min         0.000000\n",
            "25%         8.000000\n",
            "50%        12.000000\n",
            "75%        16.000000\n",
            "max        58.000000\n",
            "(192544, 15)\n"
          ]
        }
      ]
    },
    {
      "cell_type": "code",
      "metadata": {
        "colab": {
          "base_uri": "https://localhost:8080/"
        },
        "id": "r16YKkqnhbwU",
        "outputId": "5259ff0c-d137-443c-9418-c67828f571c0"
      },
      "source": [
        "print(Data_df['fit'].unique())\n",
        "print(Data_df['bust size'].unique())\n",
        "print(Data_df['weight'].unique())\n",
        "print(Data_df['rating'].unique())\n",
        "print(Data_df['rented for'].unique())\n",
        "print(Data_df['body type'].unique())\n",
        "print(Data_df['category'].unique())\n",
        "print(Data_df['height'].unique())\n",
        "print(Data_df['size'].unique())\n",
        "print(Data_df['age'].unique()) \n",
        "print(Data_df['review_date'].unique())"
      ],
      "execution_count": null,
      "outputs": [
        {
          "output_type": "stream",
          "name": "stdout",
          "text": [
            "['fit' 'small' 'large']\n",
            "['34d' '34b' nan '34c' '32b' '34d+' '36d' '36a' '32d+' '36c' '32c' '32dd'\n",
            " '30dd' '32d' '36b' '34a' '34dd' '40ddd/e' '32a' '38d+' '38c' '34ddd/e'\n",
            " '38a' '38b' '38d' '36ddd/e' '38dd' '38f' '42dd' '36dd' '40g' '40dd' '28f'\n",
            " '30ddd/e' '32ddd/e' '28b' '36d+' '40d' '28dd' '34f' '42c' '30d' '30b'\n",
            " '42d' '34aa' '32aa' '36f' '28c' '40b' '36aa' '34g' '32f' '42ddd/e' '40c'\n",
            " '28g' '28aa' '36g' '30a' '44ddd/e' '30c' '30aa' '44dd' '32i' '32g' '30g'\n",
            " '38h' '30h' '34j' '38ddd/e' '32h' '28a' '44d' '40h' '38g' '34h' '36j'\n",
            " '40f' '36h' '28ddd/e' '44f' '34i' '30f' '36i' '30i' '28h' '42b' '42j'\n",
            " '32j' '46c' '48d' '38aa' '38i' '48dd' '28d' '28i' '46ddd/e' '42g' '44c'\n",
            " '42f' '40j' '38j' '46f' '44b' '44g' '42h' '40i' '44h']\n",
            "['137lbs' '132lbs' nan '135lbs' '145lbs' '138lbs' '112lbs' '118lbs'\n",
            " '114lbs' '120lbs' '142lbs' '140lbs' '170lbs' '143lbs' '115lbs' '123lbs'\n",
            " '122lbs' '165lbs' '130lbs' '155lbs' '105lbs' '190lbs' '150lbs' '136lbs'\n",
            " '128lbs' '174lbs' '125lbs' '110lbs' '160lbs' '180lbs' '175lbs' '134lbs'\n",
            " '109lbs' '124lbs' '250lbs' '195lbs' '231lbs' '161lbs' '126lbs' '210lbs'\n",
            " '215lbs' '220lbs' '163lbs' '106lbs' '178lbs' '157lbs' '185lbs' '108lbs'\n",
            " '200lbs' '92lbs' '117lbs' '146lbs' '116lbs' '141lbs' '103lbs' '121lbs'\n",
            " '127lbs' '111lbs' '152lbs' '172lbs' '107lbs' '133lbs' '248lbs' '154lbs'\n",
            " '153lbs' '131lbs' '156lbs' '129lbs' '186lbs' '100lbs' '113lbs' '148lbs'\n",
            " '119lbs' '166lbs' '144lbs' '158lbs' '95lbs' '234lbs' '139lbs' '230lbs'\n",
            " '184lbs' '102lbs' '205lbs' '168lbs' '162lbs' '147lbs' '98lbs' '225lbs'\n",
            " '204lbs' '89lbs' '159lbs' '96lbs' '176lbs' '212lbs' '149lbs' '240lbs'\n",
            " '198lbs' '169lbs' '260lbs' '196lbs' '104lbs' '173lbs' '179lbs' '101lbs'\n",
            " '239lbs' '182lbs' '151lbs' '164lbs' '218lbs' '171lbs' '255lbs' '97lbs'\n",
            " '270lbs' '187lbs' '90lbs' '199lbs' '235lbs' '193lbs' '192lbs' '189lbs'\n",
            " '201lbs' '245lbs' '191lbs' '206lbs' '216lbs' '167lbs' '188lbs' '203lbs'\n",
            " '209lbs' '224lbs' '177lbs' '265lbs' '276lbs' '219lbs' '99lbs' '211lbs'\n",
            " '194lbs' '280lbs' '207lbs' '208lbs' '285lbs' '197lbs' '290lbs' '87lbs'\n",
            " '238lbs' '93lbs' '214lbs' '227lbs' '50lbs' '217lbs' '94lbs' '70lbs'\n",
            " '88lbs' '183lbs' '300lbs' '273lbs' '181lbs' '261lbs' '246lbs' '249lbs'\n",
            " '202lbs' '241lbs' '236lbs' '256lbs' '237lbs' '233lbs' '222lbs' '232lbs'\n",
            " '275lbs' '228lbs' '223lbs' '79lbs' '229lbs' '264lbs' '269lbs' '247lbs'\n",
            " '226lbs' '221lbs' '91lbs' '213lbs' '242lbs' '288lbs' '263lbs' '58lbs'\n",
            " '85lbs' '80lbs' '253lbs' '86lbs' '243lbs' '271lbs' '251lbs']\n",
            "['10' '8' '4' '6' '2' 0]\n",
            "['vacation' 'other' 'party' 'formal affair' 'wedding' 'date' 'everyday'\n",
            " 'work' nan 'party: cocktail']\n",
            "['hourglass' 'straight & narrow' nan 'pear' 'athletic' 'full bust'\n",
            " 'petite' 'apple']\n",
            "['romper' 'gown' 'sheath' 'dress' 'leggings' 'top' 'jumpsuit' 'sweater'\n",
            " 'jacket' 'shirtdress' 'maxi' 'shift' 'pants' 'shirt' 'mini' 'skirt'\n",
            " 'pullover' 'blouse' 'suit' 'coat' 'trench' 'bomber' 'cape' 'blazer'\n",
            " 'vest' 'duster' 'ballgown' 'tank' 'poncho' 'frock' 'tunic' 'cardigan'\n",
            " 'culottes' 'down' 'trouser' 'midi' 'pant' 'legging' 'print' 'knit'\n",
            " 'culotte' 'sweatshirt' 'peacoat' 'kaftan' 'overalls' 'jogger' 'tee'\n",
            " 'combo' 'henley' 'cami' 'blouson' 'turtleneck' 'trousers' 'overcoat'\n",
            " 'hoodie' 't-shirt' 'caftan' 'tight' 'kimono' 'for' 'crewneck' 'skirts'\n",
            " 'parka' 'buttondown' 'skort' 'sweatershirt' 'sweatpants' 'jeans']\n",
            "['5\\' 8\"' '5\\' 6\"' '5\\' 4\"' '5\\' 5\"' '5\\' 9\"' '5\\' 3\"' '5\\' 2\"' '5\\' 7\"'\n",
            " '5\\' 1\"' '5\\' 10\"' '6\\' 0\"' '4\\' 10\"' '6\\' 1\"' '5\\' 11\"' '5\\' 0\"' nan\n",
            " '4\\' 11\"' '4\\' 8\"' '6\\' 2\"' '6\\' 3\"' '4\\' 9\"' '4\\' 6\"' '6\\' 4\"' '4\\' 7\"'\n",
            " '6\\' 6\"']\n",
            "[14 12  4  8 21  1 20  2 17 16 28 36 35 24 15  5 51 32 23 48 45  9 13 34\n",
            " 39  7 25 58 26 57 29 11  0 40  3 33 27 43 42 19 44 54 38 10 49 52 46  6\n",
            " 37 22 56 50 41 30 55 18]\n",
            "['28' '36' '116' '34' '27' '45' '65' '33' '30' '26' '29' '32' '35' '21'\n",
            " '20' '37' '50' '43' '47' '53' '31' '38' '48' '40' '52' '24' '25' nan '44'\n",
            " '39' '49' '22' '42' '69' '23' '17' '41' '59' '56' '46' '54' '51' '58'\n",
            " '55' '57' '62' '19' '60' '63' '61' '66' '15' '70' '16' '0' '64' '18' '87'\n",
            " '77' '68' '67' '3' '75' '91' '85' '117' '72' '2' '73' '71' '92' '9' '99'\n",
            " '1' '14' '106' '8' '109' '4' '76' '100' '5' '74' '113' '115' '81' '78'\n",
            " '97' '88' '112']\n",
            "['April 20, 2016' 'June 18, 2013' 'December 14, 2015' ...\n",
            " 'October 10, 2011' 'November 28, 2011' 'February 25, 2012']\n"
          ]
        }
      ]
    },
    {
      "cell_type": "code",
      "metadata": {
        "colab": {
          "base_uri": "https://localhost:8080/"
        },
        "id": "MzozJvW_ifZf",
        "outputId": "14e609ad-08ef-48b6-90bb-7a0a0e303d00"
      },
      "source": [
        "Data_df.dtypes"
      ],
      "execution_count": null,
      "outputs": [
        {
          "output_type": "execute_result",
          "data": {
            "text/plain": [
              "fit               object\n",
              "user_id           object\n",
              "bust size         object\n",
              "item_id           object\n",
              "weight            object\n",
              "rating            object\n",
              "rented for        object\n",
              "review_text       object\n",
              "body type         object\n",
              "review_summary    object\n",
              "category          object\n",
              "height            object\n",
              "size               int64\n",
              "age               object\n",
              "review_date       object\n",
              "dtype: object"
            ]
          },
          "metadata": {},
          "execution_count": 10
        }
      ]
    },
    {
      "cell_type": "code",
      "metadata": {
        "colab": {
          "base_uri": "https://localhost:8080/"
        },
        "id": "D08n7Bw-nnBD",
        "outputId": "040d16e1-f5d3-410c-8c17-c7c1d367a2bb"
      },
      "source": [
        "print(Data_df.isnull().sum())"
      ],
      "execution_count": null,
      "outputs": [
        {
          "output_type": "stream",
          "name": "stdout",
          "text": [
            "fit                   0\n",
            "user_id               0\n",
            "bust size         18411\n",
            "item_id               0\n",
            "weight            29982\n",
            "rating                0\n",
            "rented for           10\n",
            "review_text           0\n",
            "body type         14637\n",
            "review_summary        0\n",
            "category              0\n",
            "height              677\n",
            "size                  0\n",
            "age                 960\n",
            "review_date           0\n",
            "dtype: int64\n"
          ]
        }
      ]
    },
    {
      "cell_type": "code",
      "metadata": {
        "id": "o64SRYlnqY4p"
      },
      "source": [
        "Data_df[\"bust size\"].fillna(\"Not Applicable\", inplace = True)\n",
        "Data_df[\"body type\"].fillna(\"Not Applicable\", inplace = True)\n",
        "Data_df[\"rented for\"].fillna(\"Not Applicable\", inplace = True)"
      ],
      "execution_count": null,
      "outputs": []
    },
    {
      "cell_type": "code",
      "metadata": {
        "colab": {
          "base_uri": "https://localhost:8080/"
        },
        "id": "fo3PcgNLswar",
        "outputId": "7d942feb-845b-4775-9a1d-2c34de4b927a"
      },
      "source": [
        "print(Data_df.isnull().sum())"
      ],
      "execution_count": null,
      "outputs": [
        {
          "output_type": "stream",
          "name": "stdout",
          "text": [
            "fit                   0\n",
            "user_id               0\n",
            "bust size             0\n",
            "item_id               0\n",
            "weight            29982\n",
            "rating                0\n",
            "rented for            0\n",
            "review_text           0\n",
            "body type             0\n",
            "review_summary        0\n",
            "category              0\n",
            "height              677\n",
            "size                  0\n",
            "age                 960\n",
            "review_date           0\n",
            "dtype: int64\n"
          ]
        }
      ]
    },
    {
      "cell_type": "code",
      "metadata": {
        "colab": {
          "base_uri": "https://localhost:8080/"
        },
        "id": "o1OZZYlqsydw",
        "outputId": "087fcf19-29af-4b98-a6bb-48e60e134e51"
      },
      "source": [
        "Data_df['weight']"
      ],
      "execution_count": null,
      "outputs": [
        {
          "output_type": "execute_result",
          "data": {
            "text/plain": [
              "0         137lbs\n",
              "1         132lbs\n",
              "2            NaN\n",
              "3         135lbs\n",
              "4         145lbs\n",
              "           ...  \n",
              "192539    140lbs\n",
              "192540    100lbs\n",
              "192541    135lbs\n",
              "192542    165lbs\n",
              "192543    155lbs\n",
              "Name: weight, Length: 192544, dtype: object"
            ]
          },
          "metadata": {},
          "execution_count": 14
        }
      ]
    },
    {
      "cell_type": "code",
      "metadata": {
        "id": "_eXCE0vCtfR4"
      },
      "source": [
        "Data_df[['W1','W2']] = Data_df.weight.str.split(\"l\",expand=True)"
      ],
      "execution_count": null,
      "outputs": []
    },
    {
      "cell_type": "code",
      "metadata": {
        "colab": {
          "base_uri": "https://localhost:8080/",
          "height": 397
        },
        "id": "vzqGJi9-ujbb",
        "outputId": "c9d5e09c-5370-4afa-994b-45e85dc86385"
      },
      "source": [
        "Data_df.head()"
      ],
      "execution_count": null,
      "outputs": [
        {
          "output_type": "execute_result",
          "data": {
            "text/html": [
              "<div>\n",
              "<style scoped>\n",
              "    .dataframe tbody tr th:only-of-type {\n",
              "        vertical-align: middle;\n",
              "    }\n",
              "\n",
              "    .dataframe tbody tr th {\n",
              "        vertical-align: top;\n",
              "    }\n",
              "\n",
              "    .dataframe thead th {\n",
              "        text-align: right;\n",
              "    }\n",
              "</style>\n",
              "<table border=\"1\" class=\"dataframe\">\n",
              "  <thead>\n",
              "    <tr style=\"text-align: right;\">\n",
              "      <th></th>\n",
              "      <th>fit</th>\n",
              "      <th>user_id</th>\n",
              "      <th>bust size</th>\n",
              "      <th>item_id</th>\n",
              "      <th>weight</th>\n",
              "      <th>rating</th>\n",
              "      <th>rented for</th>\n",
              "      <th>review_text</th>\n",
              "      <th>body type</th>\n",
              "      <th>review_summary</th>\n",
              "      <th>category</th>\n",
              "      <th>height</th>\n",
              "      <th>size</th>\n",
              "      <th>age</th>\n",
              "      <th>review_date</th>\n",
              "      <th>W1</th>\n",
              "      <th>W2</th>\n",
              "    </tr>\n",
              "  </thead>\n",
              "  <tbody>\n",
              "    <tr>\n",
              "      <th>0</th>\n",
              "      <td>fit</td>\n",
              "      <td>420272</td>\n",
              "      <td>34d</td>\n",
              "      <td>2260466</td>\n",
              "      <td>137lbs</td>\n",
              "      <td>10</td>\n",
              "      <td>vacation</td>\n",
              "      <td>An adorable romper! Belt and zipper were a lit...</td>\n",
              "      <td>hourglass</td>\n",
              "      <td>So many compliments!</td>\n",
              "      <td>romper</td>\n",
              "      <td>5' 8\"</td>\n",
              "      <td>14</td>\n",
              "      <td>28</td>\n",
              "      <td>April 20, 2016</td>\n",
              "      <td>137</td>\n",
              "      <td>bs</td>\n",
              "    </tr>\n",
              "    <tr>\n",
              "      <th>1</th>\n",
              "      <td>fit</td>\n",
              "      <td>273551</td>\n",
              "      <td>34b</td>\n",
              "      <td>153475</td>\n",
              "      <td>132lbs</td>\n",
              "      <td>10</td>\n",
              "      <td>other</td>\n",
              "      <td>I rented this dress for a photo shoot. The the...</td>\n",
              "      <td>straight &amp; narrow</td>\n",
              "      <td>I felt so glamourous!!!</td>\n",
              "      <td>gown</td>\n",
              "      <td>5' 6\"</td>\n",
              "      <td>12</td>\n",
              "      <td>36</td>\n",
              "      <td>June 18, 2013</td>\n",
              "      <td>132</td>\n",
              "      <td>bs</td>\n",
              "    </tr>\n",
              "    <tr>\n",
              "      <th>2</th>\n",
              "      <td>fit</td>\n",
              "      <td>360448</td>\n",
              "      <td>Not Applicable</td>\n",
              "      <td>1063761</td>\n",
              "      <td>NaN</td>\n",
              "      <td>10</td>\n",
              "      <td>party</td>\n",
              "      <td>This hugged in all the right places! It was a ...</td>\n",
              "      <td>Not Applicable</td>\n",
              "      <td>It was a great time to celebrate the (almost) ...</td>\n",
              "      <td>sheath</td>\n",
              "      <td>5' 4\"</td>\n",
              "      <td>4</td>\n",
              "      <td>116</td>\n",
              "      <td>December 14, 2015</td>\n",
              "      <td>NaN</td>\n",
              "      <td>NaN</td>\n",
              "    </tr>\n",
              "    <tr>\n",
              "      <th>3</th>\n",
              "      <td>fit</td>\n",
              "      <td>909926</td>\n",
              "      <td>34c</td>\n",
              "      <td>126335</td>\n",
              "      <td>135lbs</td>\n",
              "      <td>8</td>\n",
              "      <td>formal affair</td>\n",
              "      <td>I rented this for my company's black tie award...</td>\n",
              "      <td>pear</td>\n",
              "      <td>Dress arrived on time and in perfect condition.</td>\n",
              "      <td>dress</td>\n",
              "      <td>5' 5\"</td>\n",
              "      <td>8</td>\n",
              "      <td>34</td>\n",
              "      <td>February 12, 2014</td>\n",
              "      <td>135</td>\n",
              "      <td>bs</td>\n",
              "    </tr>\n",
              "    <tr>\n",
              "      <th>4</th>\n",
              "      <td>fit</td>\n",
              "      <td>151944</td>\n",
              "      <td>34b</td>\n",
              "      <td>616682</td>\n",
              "      <td>145lbs</td>\n",
              "      <td>10</td>\n",
              "      <td>wedding</td>\n",
              "      <td>I have always been petite in my upper body and...</td>\n",
              "      <td>athletic</td>\n",
              "      <td>Was in love with this dress !!!</td>\n",
              "      <td>gown</td>\n",
              "      <td>5' 9\"</td>\n",
              "      <td>12</td>\n",
              "      <td>27</td>\n",
              "      <td>September 26, 2016</td>\n",
              "      <td>145</td>\n",
              "      <td>bs</td>\n",
              "    </tr>\n",
              "  </tbody>\n",
              "</table>\n",
              "</div>"
            ],
            "text/plain": [
              "   fit user_id       bust size  item_id  ...  age         review_date   W1   W2\n",
              "0  fit  420272             34d  2260466  ...   28      April 20, 2016  137   bs\n",
              "1  fit  273551             34b   153475  ...   36       June 18, 2013  132   bs\n",
              "2  fit  360448  Not Applicable  1063761  ...  116   December 14, 2015  NaN  NaN\n",
              "3  fit  909926             34c   126335  ...   34   February 12, 2014  135   bs\n",
              "4  fit  151944             34b   616682  ...   27  September 26, 2016  145   bs\n",
              "\n",
              "[5 rows x 17 columns]"
            ]
          },
          "metadata": {},
          "execution_count": 16
        }
      ]
    },
    {
      "cell_type": "code",
      "metadata": {
        "id": "uq9wFDiYulaC"
      },
      "source": [
        "#Data_df.drop(['weight', 'W2'], axis = 1)\n",
        "Data_df = Data_df.drop(['weight','W2'], axis = 1)\n",
        "Data_df.rename(columns = {\"W1\": \"weight\"}, \n",
        "          inplace = True)"
      ],
      "execution_count": null,
      "outputs": []
    },
    {
      "cell_type": "code",
      "metadata": {
        "colab": {
          "base_uri": "https://localhost:8080/",
          "height": 328
        },
        "id": "ILCCpYaKx7bl",
        "outputId": "e27a3f23-9f7a-41f9-a4d5-98008dd62b69"
      },
      "source": [
        "Data_df.head()"
      ],
      "execution_count": null,
      "outputs": [
        {
          "output_type": "execute_result",
          "data": {
            "text/html": [
              "<div>\n",
              "<style scoped>\n",
              "    .dataframe tbody tr th:only-of-type {\n",
              "        vertical-align: middle;\n",
              "    }\n",
              "\n",
              "    .dataframe tbody tr th {\n",
              "        vertical-align: top;\n",
              "    }\n",
              "\n",
              "    .dataframe thead th {\n",
              "        text-align: right;\n",
              "    }\n",
              "</style>\n",
              "<table border=\"1\" class=\"dataframe\">\n",
              "  <thead>\n",
              "    <tr style=\"text-align: right;\">\n",
              "      <th></th>\n",
              "      <th>fit</th>\n",
              "      <th>user_id</th>\n",
              "      <th>bust size</th>\n",
              "      <th>item_id</th>\n",
              "      <th>rating</th>\n",
              "      <th>rented for</th>\n",
              "      <th>review_text</th>\n",
              "      <th>body type</th>\n",
              "      <th>review_summary</th>\n",
              "      <th>category</th>\n",
              "      <th>height</th>\n",
              "      <th>size</th>\n",
              "      <th>age</th>\n",
              "      <th>review_date</th>\n",
              "      <th>weight</th>\n",
              "    </tr>\n",
              "  </thead>\n",
              "  <tbody>\n",
              "    <tr>\n",
              "      <th>0</th>\n",
              "      <td>fit</td>\n",
              "      <td>420272</td>\n",
              "      <td>34d</td>\n",
              "      <td>2260466</td>\n",
              "      <td>10</td>\n",
              "      <td>vacation</td>\n",
              "      <td>An adorable romper! Belt and zipper were a lit...</td>\n",
              "      <td>hourglass</td>\n",
              "      <td>So many compliments!</td>\n",
              "      <td>romper</td>\n",
              "      <td>5' 8\"</td>\n",
              "      <td>14</td>\n",
              "      <td>28</td>\n",
              "      <td>April 20, 2016</td>\n",
              "      <td>137</td>\n",
              "    </tr>\n",
              "    <tr>\n",
              "      <th>1</th>\n",
              "      <td>fit</td>\n",
              "      <td>273551</td>\n",
              "      <td>34b</td>\n",
              "      <td>153475</td>\n",
              "      <td>10</td>\n",
              "      <td>other</td>\n",
              "      <td>I rented this dress for a photo shoot. The the...</td>\n",
              "      <td>straight &amp; narrow</td>\n",
              "      <td>I felt so glamourous!!!</td>\n",
              "      <td>gown</td>\n",
              "      <td>5' 6\"</td>\n",
              "      <td>12</td>\n",
              "      <td>36</td>\n",
              "      <td>June 18, 2013</td>\n",
              "      <td>132</td>\n",
              "    </tr>\n",
              "    <tr>\n",
              "      <th>2</th>\n",
              "      <td>fit</td>\n",
              "      <td>360448</td>\n",
              "      <td>Not Applicable</td>\n",
              "      <td>1063761</td>\n",
              "      <td>10</td>\n",
              "      <td>party</td>\n",
              "      <td>This hugged in all the right places! It was a ...</td>\n",
              "      <td>Not Applicable</td>\n",
              "      <td>It was a great time to celebrate the (almost) ...</td>\n",
              "      <td>sheath</td>\n",
              "      <td>5' 4\"</td>\n",
              "      <td>4</td>\n",
              "      <td>116</td>\n",
              "      <td>December 14, 2015</td>\n",
              "      <td>NaN</td>\n",
              "    </tr>\n",
              "    <tr>\n",
              "      <th>3</th>\n",
              "      <td>fit</td>\n",
              "      <td>909926</td>\n",
              "      <td>34c</td>\n",
              "      <td>126335</td>\n",
              "      <td>8</td>\n",
              "      <td>formal affair</td>\n",
              "      <td>I rented this for my company's black tie award...</td>\n",
              "      <td>pear</td>\n",
              "      <td>Dress arrived on time and in perfect condition.</td>\n",
              "      <td>dress</td>\n",
              "      <td>5' 5\"</td>\n",
              "      <td>8</td>\n",
              "      <td>34</td>\n",
              "      <td>February 12, 2014</td>\n",
              "      <td>135</td>\n",
              "    </tr>\n",
              "    <tr>\n",
              "      <th>4</th>\n",
              "      <td>fit</td>\n",
              "      <td>151944</td>\n",
              "      <td>34b</td>\n",
              "      <td>616682</td>\n",
              "      <td>10</td>\n",
              "      <td>wedding</td>\n",
              "      <td>I have always been petite in my upper body and...</td>\n",
              "      <td>athletic</td>\n",
              "      <td>Was in love with this dress !!!</td>\n",
              "      <td>gown</td>\n",
              "      <td>5' 9\"</td>\n",
              "      <td>12</td>\n",
              "      <td>27</td>\n",
              "      <td>September 26, 2016</td>\n",
              "      <td>145</td>\n",
              "    </tr>\n",
              "  </tbody>\n",
              "</table>\n",
              "</div>"
            ],
            "text/plain": [
              "   fit user_id       bust size  item_id  ... size  age         review_date weight\n",
              "0  fit  420272             34d  2260466  ...   14   28      April 20, 2016    137\n",
              "1  fit  273551             34b   153475  ...   12   36       June 18, 2013    132\n",
              "2  fit  360448  Not Applicable  1063761  ...    4  116   December 14, 2015    NaN\n",
              "3  fit  909926             34c   126335  ...    8   34   February 12, 2014    135\n",
              "4  fit  151944             34b   616682  ...   12   27  September 26, 2016    145\n",
              "\n",
              "[5 rows x 15 columns]"
            ]
          },
          "metadata": {},
          "execution_count": 18
        }
      ]
    },
    {
      "cell_type": "code",
      "metadata": {
        "colab": {
          "base_uri": "https://localhost:8080/"
        },
        "id": "YdPTh_HGvlWf",
        "outputId": "e2573c5f-c32a-49e6-e973-1e0e0067ae01"
      },
      "source": [
        "Data_df.dtypes"
      ],
      "execution_count": null,
      "outputs": [
        {
          "output_type": "execute_result",
          "data": {
            "text/plain": [
              "fit               object\n",
              "user_id           object\n",
              "bust size         object\n",
              "item_id           object\n",
              "rating            object\n",
              "rented for        object\n",
              "review_text       object\n",
              "body type         object\n",
              "review_summary    object\n",
              "category          object\n",
              "height            object\n",
              "size               int64\n",
              "age               object\n",
              "review_date       object\n",
              "weight            object\n",
              "dtype: object"
            ]
          },
          "metadata": {},
          "execution_count": 19
        }
      ]
    },
    {
      "cell_type": "code",
      "metadata": {
        "id": "hA_kU1tvv7NI"
      },
      "source": [
        "Data_df[['weight']] = Data_df[['weight']].apply(pd.to_numeric)"
      ],
      "execution_count": null,
      "outputs": []
    },
    {
      "cell_type": "code",
      "metadata": {
        "colab": {
          "base_uri": "https://localhost:8080/"
        },
        "id": "HlWLv0p-yMot",
        "outputId": "526b3fc5-8511-4295-85b4-21ae3d770ba8"
      },
      "source": [
        "mean_wt = Data_df['weight'].mean()\n",
        "mean_wt"
      ],
      "execution_count": null,
      "outputs": [
        {
          "output_type": "execute_result",
          "data": {
            "text/plain": [
              "137.39170900948562"
            ]
          },
          "metadata": {},
          "execution_count": 21
        }
      ]
    },
    {
      "cell_type": "code",
      "metadata": {
        "id": "oyh4kaWPygCd"
      },
      "source": [
        "Data_df['weight'].fillna(value=mean_wt, inplace=True)"
      ],
      "execution_count": null,
      "outputs": []
    },
    {
      "cell_type": "code",
      "metadata": {
        "colab": {
          "base_uri": "https://localhost:8080/",
          "height": 328
        },
        "id": "Qt-HfZPcyuwn",
        "outputId": "f0de4e4c-edf9-4f8f-8a9d-a4572e733799"
      },
      "source": [
        "Data_df.head()"
      ],
      "execution_count": null,
      "outputs": [
        {
          "output_type": "execute_result",
          "data": {
            "text/html": [
              "<div>\n",
              "<style scoped>\n",
              "    .dataframe tbody tr th:only-of-type {\n",
              "        vertical-align: middle;\n",
              "    }\n",
              "\n",
              "    .dataframe tbody tr th {\n",
              "        vertical-align: top;\n",
              "    }\n",
              "\n",
              "    .dataframe thead th {\n",
              "        text-align: right;\n",
              "    }\n",
              "</style>\n",
              "<table border=\"1\" class=\"dataframe\">\n",
              "  <thead>\n",
              "    <tr style=\"text-align: right;\">\n",
              "      <th></th>\n",
              "      <th>fit</th>\n",
              "      <th>user_id</th>\n",
              "      <th>bust size</th>\n",
              "      <th>item_id</th>\n",
              "      <th>rating</th>\n",
              "      <th>rented for</th>\n",
              "      <th>review_text</th>\n",
              "      <th>body type</th>\n",
              "      <th>review_summary</th>\n",
              "      <th>category</th>\n",
              "      <th>height</th>\n",
              "      <th>size</th>\n",
              "      <th>age</th>\n",
              "      <th>review_date</th>\n",
              "      <th>weight</th>\n",
              "    </tr>\n",
              "  </thead>\n",
              "  <tbody>\n",
              "    <tr>\n",
              "      <th>0</th>\n",
              "      <td>fit</td>\n",
              "      <td>420272</td>\n",
              "      <td>34d</td>\n",
              "      <td>2260466</td>\n",
              "      <td>10</td>\n",
              "      <td>vacation</td>\n",
              "      <td>An adorable romper! Belt and zipper were a lit...</td>\n",
              "      <td>hourglass</td>\n",
              "      <td>So many compliments!</td>\n",
              "      <td>romper</td>\n",
              "      <td>5' 8\"</td>\n",
              "      <td>14</td>\n",
              "      <td>28</td>\n",
              "      <td>April 20, 2016</td>\n",
              "      <td>137.000000</td>\n",
              "    </tr>\n",
              "    <tr>\n",
              "      <th>1</th>\n",
              "      <td>fit</td>\n",
              "      <td>273551</td>\n",
              "      <td>34b</td>\n",
              "      <td>153475</td>\n",
              "      <td>10</td>\n",
              "      <td>other</td>\n",
              "      <td>I rented this dress for a photo shoot. The the...</td>\n",
              "      <td>straight &amp; narrow</td>\n",
              "      <td>I felt so glamourous!!!</td>\n",
              "      <td>gown</td>\n",
              "      <td>5' 6\"</td>\n",
              "      <td>12</td>\n",
              "      <td>36</td>\n",
              "      <td>June 18, 2013</td>\n",
              "      <td>132.000000</td>\n",
              "    </tr>\n",
              "    <tr>\n",
              "      <th>2</th>\n",
              "      <td>fit</td>\n",
              "      <td>360448</td>\n",
              "      <td>Not Applicable</td>\n",
              "      <td>1063761</td>\n",
              "      <td>10</td>\n",
              "      <td>party</td>\n",
              "      <td>This hugged in all the right places! It was a ...</td>\n",
              "      <td>Not Applicable</td>\n",
              "      <td>It was a great time to celebrate the (almost) ...</td>\n",
              "      <td>sheath</td>\n",
              "      <td>5' 4\"</td>\n",
              "      <td>4</td>\n",
              "      <td>116</td>\n",
              "      <td>December 14, 2015</td>\n",
              "      <td>137.391709</td>\n",
              "    </tr>\n",
              "    <tr>\n",
              "      <th>3</th>\n",
              "      <td>fit</td>\n",
              "      <td>909926</td>\n",
              "      <td>34c</td>\n",
              "      <td>126335</td>\n",
              "      <td>8</td>\n",
              "      <td>formal affair</td>\n",
              "      <td>I rented this for my company's black tie award...</td>\n",
              "      <td>pear</td>\n",
              "      <td>Dress arrived on time and in perfect condition.</td>\n",
              "      <td>dress</td>\n",
              "      <td>5' 5\"</td>\n",
              "      <td>8</td>\n",
              "      <td>34</td>\n",
              "      <td>February 12, 2014</td>\n",
              "      <td>135.000000</td>\n",
              "    </tr>\n",
              "    <tr>\n",
              "      <th>4</th>\n",
              "      <td>fit</td>\n",
              "      <td>151944</td>\n",
              "      <td>34b</td>\n",
              "      <td>616682</td>\n",
              "      <td>10</td>\n",
              "      <td>wedding</td>\n",
              "      <td>I have always been petite in my upper body and...</td>\n",
              "      <td>athletic</td>\n",
              "      <td>Was in love with this dress !!!</td>\n",
              "      <td>gown</td>\n",
              "      <td>5' 9\"</td>\n",
              "      <td>12</td>\n",
              "      <td>27</td>\n",
              "      <td>September 26, 2016</td>\n",
              "      <td>145.000000</td>\n",
              "    </tr>\n",
              "  </tbody>\n",
              "</table>\n",
              "</div>"
            ],
            "text/plain": [
              "   fit user_id       bust size  ...  age         review_date      weight\n",
              "0  fit  420272             34d  ...   28      April 20, 2016  137.000000\n",
              "1  fit  273551             34b  ...   36       June 18, 2013  132.000000\n",
              "2  fit  360448  Not Applicable  ...  116   December 14, 2015  137.391709\n",
              "3  fit  909926             34c  ...   34   February 12, 2014  135.000000\n",
              "4  fit  151944             34b  ...   27  September 26, 2016  145.000000\n",
              "\n",
              "[5 rows x 15 columns]"
            ]
          },
          "metadata": {},
          "execution_count": 23
        }
      ]
    },
    {
      "cell_type": "code",
      "metadata": {
        "colab": {
          "base_uri": "https://localhost:8080/"
        },
        "id": "5V0hLCAdywXm",
        "outputId": "c35be5c0-9e57-457d-b93d-e0eb5e44a514"
      },
      "source": [
        "Data_df['height'][:10]"
      ],
      "execution_count": null,
      "outputs": [
        {
          "output_type": "execute_result",
          "data": {
            "text/plain": [
              "0    5' 8\"\n",
              "1    5' 6\"\n",
              "2    5' 4\"\n",
              "3    5' 5\"\n",
              "4    5' 9\"\n",
              "5    5' 8\"\n",
              "6    5' 3\"\n",
              "7    5' 3\"\n",
              "8    5' 6\"\n",
              "9    5' 3\"\n",
              "Name: height, dtype: object"
            ]
          },
          "metadata": {},
          "execution_count": 24
        }
      ]
    },
    {
      "cell_type": "code",
      "metadata": {
        "id": "zaqoYPvM18ss"
      },
      "source": [
        "#Data_df[['W1','W2']] = Data_df.height.str.split(\"l\",expand=True)"
      ],
      "execution_count": null,
      "outputs": []
    },
    {
      "cell_type": "code",
      "metadata": {
        "id": "CBxJ4YbL0Ddu"
      },
      "source": [
        "def feet_to_float(cell_string):\n",
        "    try:\n",
        "        split_strings = cell_string.replace('\"','').replace(\"'\",'').split()\n",
        "        float_value = float(split_strings[0])*12 +float(split_strings[1])\n",
        "    except:\n",
        "        float_value = np.nan\n",
        "    return float_value"
      ],
      "execution_count": null,
      "outputs": []
    },
    {
      "cell_type": "code",
      "metadata": {
        "id": "NeFZ6nt-0qjW"
      },
      "source": [
        "#df = Data_df.copy()\n",
        "#df['height'] = df['height'].apply(feet_to_float)\n",
        "#df.head()"
      ],
      "execution_count": null,
      "outputs": []
    },
    {
      "cell_type": "code",
      "metadata": {
        "colab": {
          "base_uri": "https://localhost:8080/",
          "height": 328
        },
        "id": "_GX01PdD3KaD",
        "outputId": "7557fc3f-d90b-45ba-9a59-902cd62d6631"
      },
      "source": [
        "Data_df['height'] = Data_df['height'].apply(feet_to_float)\n",
        "Data_df.head()"
      ],
      "execution_count": null,
      "outputs": [
        {
          "output_type": "execute_result",
          "data": {
            "text/html": [
              "<div>\n",
              "<style scoped>\n",
              "    .dataframe tbody tr th:only-of-type {\n",
              "        vertical-align: middle;\n",
              "    }\n",
              "\n",
              "    .dataframe tbody tr th {\n",
              "        vertical-align: top;\n",
              "    }\n",
              "\n",
              "    .dataframe thead th {\n",
              "        text-align: right;\n",
              "    }\n",
              "</style>\n",
              "<table border=\"1\" class=\"dataframe\">\n",
              "  <thead>\n",
              "    <tr style=\"text-align: right;\">\n",
              "      <th></th>\n",
              "      <th>fit</th>\n",
              "      <th>user_id</th>\n",
              "      <th>bust size</th>\n",
              "      <th>item_id</th>\n",
              "      <th>rating</th>\n",
              "      <th>rented for</th>\n",
              "      <th>review_text</th>\n",
              "      <th>body type</th>\n",
              "      <th>review_summary</th>\n",
              "      <th>category</th>\n",
              "      <th>height</th>\n",
              "      <th>size</th>\n",
              "      <th>age</th>\n",
              "      <th>review_date</th>\n",
              "      <th>weight</th>\n",
              "    </tr>\n",
              "  </thead>\n",
              "  <tbody>\n",
              "    <tr>\n",
              "      <th>0</th>\n",
              "      <td>fit</td>\n",
              "      <td>420272</td>\n",
              "      <td>34d</td>\n",
              "      <td>2260466</td>\n",
              "      <td>10</td>\n",
              "      <td>vacation</td>\n",
              "      <td>An adorable romper! Belt and zipper were a lit...</td>\n",
              "      <td>hourglass</td>\n",
              "      <td>So many compliments!</td>\n",
              "      <td>romper</td>\n",
              "      <td>68.0</td>\n",
              "      <td>14</td>\n",
              "      <td>28</td>\n",
              "      <td>April 20, 2016</td>\n",
              "      <td>137.000000</td>\n",
              "    </tr>\n",
              "    <tr>\n",
              "      <th>1</th>\n",
              "      <td>fit</td>\n",
              "      <td>273551</td>\n",
              "      <td>34b</td>\n",
              "      <td>153475</td>\n",
              "      <td>10</td>\n",
              "      <td>other</td>\n",
              "      <td>I rented this dress for a photo shoot. The the...</td>\n",
              "      <td>straight &amp; narrow</td>\n",
              "      <td>I felt so glamourous!!!</td>\n",
              "      <td>gown</td>\n",
              "      <td>66.0</td>\n",
              "      <td>12</td>\n",
              "      <td>36</td>\n",
              "      <td>June 18, 2013</td>\n",
              "      <td>132.000000</td>\n",
              "    </tr>\n",
              "    <tr>\n",
              "      <th>2</th>\n",
              "      <td>fit</td>\n",
              "      <td>360448</td>\n",
              "      <td>Not Applicable</td>\n",
              "      <td>1063761</td>\n",
              "      <td>10</td>\n",
              "      <td>party</td>\n",
              "      <td>This hugged in all the right places! It was a ...</td>\n",
              "      <td>Not Applicable</td>\n",
              "      <td>It was a great time to celebrate the (almost) ...</td>\n",
              "      <td>sheath</td>\n",
              "      <td>64.0</td>\n",
              "      <td>4</td>\n",
              "      <td>116</td>\n",
              "      <td>December 14, 2015</td>\n",
              "      <td>137.391709</td>\n",
              "    </tr>\n",
              "    <tr>\n",
              "      <th>3</th>\n",
              "      <td>fit</td>\n",
              "      <td>909926</td>\n",
              "      <td>34c</td>\n",
              "      <td>126335</td>\n",
              "      <td>8</td>\n",
              "      <td>formal affair</td>\n",
              "      <td>I rented this for my company's black tie award...</td>\n",
              "      <td>pear</td>\n",
              "      <td>Dress arrived on time and in perfect condition.</td>\n",
              "      <td>dress</td>\n",
              "      <td>65.0</td>\n",
              "      <td>8</td>\n",
              "      <td>34</td>\n",
              "      <td>February 12, 2014</td>\n",
              "      <td>135.000000</td>\n",
              "    </tr>\n",
              "    <tr>\n",
              "      <th>4</th>\n",
              "      <td>fit</td>\n",
              "      <td>151944</td>\n",
              "      <td>34b</td>\n",
              "      <td>616682</td>\n",
              "      <td>10</td>\n",
              "      <td>wedding</td>\n",
              "      <td>I have always been petite in my upper body and...</td>\n",
              "      <td>athletic</td>\n",
              "      <td>Was in love with this dress !!!</td>\n",
              "      <td>gown</td>\n",
              "      <td>69.0</td>\n",
              "      <td>12</td>\n",
              "      <td>27</td>\n",
              "      <td>September 26, 2016</td>\n",
              "      <td>145.000000</td>\n",
              "    </tr>\n",
              "  </tbody>\n",
              "</table>\n",
              "</div>"
            ],
            "text/plain": [
              "   fit user_id       bust size  ...  age         review_date      weight\n",
              "0  fit  420272             34d  ...   28      April 20, 2016  137.000000\n",
              "1  fit  273551             34b  ...   36       June 18, 2013  132.000000\n",
              "2  fit  360448  Not Applicable  ...  116   December 14, 2015  137.391709\n",
              "3  fit  909926             34c  ...   34   February 12, 2014  135.000000\n",
              "4  fit  151944             34b  ...   27  September 26, 2016  145.000000\n",
              "\n",
              "[5 rows x 15 columns]"
            ]
          },
          "metadata": {},
          "execution_count": 28
        }
      ]
    },
    {
      "cell_type": "code",
      "metadata": {
        "colab": {
          "base_uri": "https://localhost:8080/"
        },
        "id": "L8hhJby24JHc",
        "outputId": "0675a232-6bda-4be5-a9c1-5e2765f6994a"
      },
      "source": [
        "Data_df.dtypes"
      ],
      "execution_count": null,
      "outputs": [
        {
          "output_type": "execute_result",
          "data": {
            "text/plain": [
              "fit                object\n",
              "user_id            object\n",
              "bust size          object\n",
              "item_id            object\n",
              "rating             object\n",
              "rented for         object\n",
              "review_text        object\n",
              "body type          object\n",
              "review_summary     object\n",
              "category           object\n",
              "height            float64\n",
              "size                int64\n",
              "age                object\n",
              "review_date        object\n",
              "weight            float64\n",
              "dtype: object"
            ]
          },
          "metadata": {},
          "execution_count": 29
        }
      ]
    },
    {
      "cell_type": "code",
      "metadata": {
        "colab": {
          "base_uri": "https://localhost:8080/"
        },
        "id": "q1DNn5nX4agv",
        "outputId": "111fefcf-0570-477a-a4ae-98f9ab340990"
      },
      "source": [
        "Data_df['age'][:10]"
      ],
      "execution_count": null,
      "outputs": [
        {
          "output_type": "execute_result",
          "data": {
            "text/plain": [
              "0     28\n",
              "1     36\n",
              "2    116\n",
              "3     34\n",
              "4     27\n",
              "5     45\n",
              "6     27\n",
              "7     65\n",
              "8     27\n",
              "9     33\n",
              "Name: age, dtype: object"
            ]
          },
          "metadata": {},
          "execution_count": 30
        }
      ]
    },
    {
      "cell_type": "code",
      "metadata": {
        "id": "DQitt4B84rQI"
      },
      "source": [
        "Data_df[['age']] = Data_df[['age']].apply(pd.to_numeric)"
      ],
      "execution_count": null,
      "outputs": []
    },
    {
      "cell_type": "code",
      "metadata": {
        "colab": {
          "base_uri": "https://localhost:8080/"
        },
        "id": "qsKcfO-o42fn",
        "outputId": "9378bcaa-e50f-414e-e4a9-a3547c73b0d5"
      },
      "source": [
        "mean_age = Data_df['age'].mean()\n",
        "mean_age"
      ],
      "execution_count": null,
      "outputs": [
        {
          "output_type": "execute_result",
          "data": {
            "text/plain": [
              "33.871017412727575"
            ]
          },
          "metadata": {},
          "execution_count": 32
        }
      ]
    },
    {
      "cell_type": "code",
      "metadata": {
        "id": "fnwLshfx5KdA"
      },
      "source": [
        "Data_df['age'].fillna(value=mean_age, inplace=True)"
      ],
      "execution_count": null,
      "outputs": []
    },
    {
      "cell_type": "code",
      "metadata": {
        "id": "EsU2jgh9TbAN"
      },
      "source": [
        "age_outlier = (Data_df[\"age\"] == 0) | (Data_df[\"age\"] > 90) \n",
        "Data_df[\"age\"] = np.where(age_outlier == True,mean_age,Data_df[\"age\"])"
      ],
      "execution_count": null,
      "outputs": []
    },
    {
      "cell_type": "code",
      "metadata": {
        "colab": {
          "base_uri": "https://localhost:8080/"
        },
        "id": "N_4GCAFK5ToT",
        "outputId": "0d4ff342-474d-41ca-aa9b-d2ea12ff950b"
      },
      "source": [
        "mean_ht = Data_df['height'].mean()\n",
        "mean_ht"
      ],
      "execution_count": null,
      "outputs": [
        {
          "output_type": "execute_result",
          "data": {
            "text/plain": [
              "65.31062142004617"
            ]
          },
          "metadata": {},
          "execution_count": 34
        }
      ]
    },
    {
      "cell_type": "code",
      "metadata": {
        "id": "MtDrNlcU5cTD"
      },
      "source": [
        "Data_df['height'].fillna(value=mean_ht, inplace=True)"
      ],
      "execution_count": null,
      "outputs": []
    },
    {
      "cell_type": "code",
      "metadata": {
        "colab": {
          "base_uri": "https://localhost:8080/"
        },
        "id": "iC7zZ9mH5gAn",
        "outputId": "bcddf0cc-849f-4aa6-e7f6-4b9c495f31d7"
      },
      "source": [
        "print(Data_df.isnull().sum())"
      ],
      "execution_count": null,
      "outputs": [
        {
          "output_type": "stream",
          "name": "stdout",
          "text": [
            "fit               0\n",
            "user_id           0\n",
            "bust size         0\n",
            "item_id           0\n",
            "rating            0\n",
            "rented for        0\n",
            "review_text       0\n",
            "body type         0\n",
            "review_summary    0\n",
            "category          0\n",
            "height            0\n",
            "size              0\n",
            "age               0\n",
            "review_date       0\n",
            "weight            0\n",
            "dtype: int64\n"
          ]
        }
      ]
    },
    {
      "cell_type": "code",
      "metadata": {
        "id": "AQzTtHh37SPb"
      },
      "source": [
        "# df['review_date'] = pd.to_datetime(df['review_date'], infer_datetime_format=True)"
      ],
      "execution_count": null,
      "outputs": []
    },
    {
      "cell_type": "code",
      "metadata": {
        "id": "-gbDa692-AxO"
      },
      "source": [
        "# df['review_date_ts'] = df[['review_date']].apply(lambda x: x[0].timestamp(), axis=1).astype(int)"
      ],
      "execution_count": null,
      "outputs": []
    },
    {
      "cell_type": "code",
      "metadata": {
        "id": "71v-Zeok-iCM"
      },
      "source": [
        "Data_df['review_date'] = pd.to_datetime(Data_df['review_date'], infer_datetime_format=True)\n",
        "Data_df['review_date_ts'] = Data_df[['review_date']].apply(lambda x: x[0].timestamp(), axis=1).astype(int)"
      ],
      "execution_count": null,
      "outputs": []
    },
    {
      "cell_type": "code",
      "metadata": {
        "colab": {
          "base_uri": "https://localhost:8080/"
        },
        "id": "y794pco0_28x",
        "outputId": "5956b20d-1cb3-4b82-fcb2-972b6d046e7f"
      },
      "source": [
        "Data_df.dtypes"
      ],
      "execution_count": null,
      "outputs": [
        {
          "output_type": "execute_result",
          "data": {
            "text/plain": [
              "fit                       object\n",
              "user_id                   object\n",
              "bust size                 object\n",
              "item_id                   object\n",
              "rating                    object\n",
              "rented for                object\n",
              "review_text               object\n",
              "body type                 object\n",
              "review_summary            object\n",
              "category                  object\n",
              "height                   float64\n",
              "size                       int64\n",
              "age                      float64\n",
              "review_date       datetime64[ns]\n",
              "weight                   float64\n",
              "review_date_ts             int64\n",
              "dtype: object"
            ]
          },
          "metadata": {},
          "execution_count": 40
        }
      ]
    },
    {
      "cell_type": "code",
      "metadata": {
        "id": "F6RPJQNrAAh2"
      },
      "source": [
        "Data_df[['rating']] = Data_df[['rating']].apply(pd.to_numeric)"
      ],
      "execution_count": null,
      "outputs": []
    },
    {
      "cell_type": "code",
      "metadata": {
        "colab": {
          "base_uri": "https://localhost:8080/",
          "height": 484
        },
        "id": "oHasflUDAaqL",
        "outputId": "c4af1b94-be65-446f-8943-3dbf15ca4078"
      },
      "source": [
        "Data_df.head()"
      ],
      "execution_count": null,
      "outputs": [
        {
          "output_type": "execute_result",
          "data": {
            "text/html": [
              "<div>\n",
              "<style scoped>\n",
              "    .dataframe tbody tr th:only-of-type {\n",
              "        vertical-align: middle;\n",
              "    }\n",
              "\n",
              "    .dataframe tbody tr th {\n",
              "        vertical-align: top;\n",
              "    }\n",
              "\n",
              "    .dataframe thead th {\n",
              "        text-align: right;\n",
              "    }\n",
              "</style>\n",
              "<table border=\"1\" class=\"dataframe\">\n",
              "  <thead>\n",
              "    <tr style=\"text-align: right;\">\n",
              "      <th></th>\n",
              "      <th>fit</th>\n",
              "      <th>user_id</th>\n",
              "      <th>bust size</th>\n",
              "      <th>item_id</th>\n",
              "      <th>rating</th>\n",
              "      <th>rented for</th>\n",
              "      <th>review_text</th>\n",
              "      <th>body type</th>\n",
              "      <th>review_summary</th>\n",
              "      <th>category</th>\n",
              "      <th>height</th>\n",
              "      <th>size</th>\n",
              "      <th>age</th>\n",
              "      <th>review_date</th>\n",
              "      <th>weight</th>\n",
              "      <th>review_date_ts</th>\n",
              "    </tr>\n",
              "  </thead>\n",
              "  <tbody>\n",
              "    <tr>\n",
              "      <th>0</th>\n",
              "      <td>fit</td>\n",
              "      <td>420272</td>\n",
              "      <td>34d</td>\n",
              "      <td>2260466</td>\n",
              "      <td>10</td>\n",
              "      <td>vacation</td>\n",
              "      <td>An adorable romper! Belt and zipper were a lit...</td>\n",
              "      <td>hourglass</td>\n",
              "      <td>So many compliments!</td>\n",
              "      <td>romper</td>\n",
              "      <td>68.0</td>\n",
              "      <td>14</td>\n",
              "      <td>28.0</td>\n",
              "      <td>2016-04-20</td>\n",
              "      <td>137.000000</td>\n",
              "      <td>1461110400</td>\n",
              "    </tr>\n",
              "    <tr>\n",
              "      <th>1</th>\n",
              "      <td>fit</td>\n",
              "      <td>273551</td>\n",
              "      <td>34b</td>\n",
              "      <td>153475</td>\n",
              "      <td>10</td>\n",
              "      <td>other</td>\n",
              "      <td>I rented this dress for a photo shoot. The the...</td>\n",
              "      <td>straight &amp; narrow</td>\n",
              "      <td>I felt so glamourous!!!</td>\n",
              "      <td>gown</td>\n",
              "      <td>66.0</td>\n",
              "      <td>12</td>\n",
              "      <td>36.0</td>\n",
              "      <td>2013-06-18</td>\n",
              "      <td>132.000000</td>\n",
              "      <td>1371513600</td>\n",
              "    </tr>\n",
              "    <tr>\n",
              "      <th>2</th>\n",
              "      <td>fit</td>\n",
              "      <td>360448</td>\n",
              "      <td>Not Applicable</td>\n",
              "      <td>1063761</td>\n",
              "      <td>10</td>\n",
              "      <td>party</td>\n",
              "      <td>This hugged in all the right places! It was a ...</td>\n",
              "      <td>Not Applicable</td>\n",
              "      <td>It was a great time to celebrate the (almost) ...</td>\n",
              "      <td>sheath</td>\n",
              "      <td>64.0</td>\n",
              "      <td>4</td>\n",
              "      <td>116.0</td>\n",
              "      <td>2015-12-14</td>\n",
              "      <td>137.391709</td>\n",
              "      <td>1450051200</td>\n",
              "    </tr>\n",
              "    <tr>\n",
              "      <th>3</th>\n",
              "      <td>fit</td>\n",
              "      <td>909926</td>\n",
              "      <td>34c</td>\n",
              "      <td>126335</td>\n",
              "      <td>8</td>\n",
              "      <td>formal affair</td>\n",
              "      <td>I rented this for my company's black tie award...</td>\n",
              "      <td>pear</td>\n",
              "      <td>Dress arrived on time and in perfect condition.</td>\n",
              "      <td>dress</td>\n",
              "      <td>65.0</td>\n",
              "      <td>8</td>\n",
              "      <td>34.0</td>\n",
              "      <td>2014-02-12</td>\n",
              "      <td>135.000000</td>\n",
              "      <td>1392163200</td>\n",
              "    </tr>\n",
              "    <tr>\n",
              "      <th>4</th>\n",
              "      <td>fit</td>\n",
              "      <td>151944</td>\n",
              "      <td>34b</td>\n",
              "      <td>616682</td>\n",
              "      <td>10</td>\n",
              "      <td>wedding</td>\n",
              "      <td>I have always been petite in my upper body and...</td>\n",
              "      <td>athletic</td>\n",
              "      <td>Was in love with this dress !!!</td>\n",
              "      <td>gown</td>\n",
              "      <td>69.0</td>\n",
              "      <td>12</td>\n",
              "      <td>27.0</td>\n",
              "      <td>2016-09-26</td>\n",
              "      <td>145.000000</td>\n",
              "      <td>1474848000</td>\n",
              "    </tr>\n",
              "  </tbody>\n",
              "</table>\n",
              "</div>"
            ],
            "text/plain": [
              "   fit user_id       bust size  ... review_date      weight review_date_ts\n",
              "0  fit  420272             34d  ...  2016-04-20  137.000000     1461110400\n",
              "1  fit  273551             34b  ...  2013-06-18  132.000000     1371513600\n",
              "2  fit  360448  Not Applicable  ...  2015-12-14  137.391709     1450051200\n",
              "3  fit  909926             34c  ...  2014-02-12  135.000000     1392163200\n",
              "4  fit  151944             34b  ...  2016-09-26  145.000000     1474848000\n",
              "\n",
              "[5 rows x 16 columns]"
            ]
          },
          "metadata": {},
          "execution_count": 42
        }
      ]
    },
    {
      "cell_type": "code",
      "metadata": {
        "id": "INfO4RrHAfhL",
        "colab": {
          "base_uri": "https://localhost:8080/",
          "height": 484
        },
        "outputId": "fd67c1c1-3a43-4b20-ff76-34d16016b2a4"
      },
      "source": [
        "df = Data_df.copy()\n",
        "df.head()"
      ],
      "execution_count": null,
      "outputs": [
        {
          "output_type": "execute_result",
          "data": {
            "text/html": [
              "<div>\n",
              "<style scoped>\n",
              "    .dataframe tbody tr th:only-of-type {\n",
              "        vertical-align: middle;\n",
              "    }\n",
              "\n",
              "    .dataframe tbody tr th {\n",
              "        vertical-align: top;\n",
              "    }\n",
              "\n",
              "    .dataframe thead th {\n",
              "        text-align: right;\n",
              "    }\n",
              "</style>\n",
              "<table border=\"1\" class=\"dataframe\">\n",
              "  <thead>\n",
              "    <tr style=\"text-align: right;\">\n",
              "      <th></th>\n",
              "      <th>fit</th>\n",
              "      <th>user_id</th>\n",
              "      <th>bust size</th>\n",
              "      <th>item_id</th>\n",
              "      <th>rating</th>\n",
              "      <th>rented for</th>\n",
              "      <th>review_text</th>\n",
              "      <th>body type</th>\n",
              "      <th>review_summary</th>\n",
              "      <th>category</th>\n",
              "      <th>height</th>\n",
              "      <th>size</th>\n",
              "      <th>age</th>\n",
              "      <th>review_date</th>\n",
              "      <th>weight</th>\n",
              "      <th>review_date_ts</th>\n",
              "    </tr>\n",
              "  </thead>\n",
              "  <tbody>\n",
              "    <tr>\n",
              "      <th>0</th>\n",
              "      <td>fit</td>\n",
              "      <td>420272</td>\n",
              "      <td>34d</td>\n",
              "      <td>2260466</td>\n",
              "      <td>10</td>\n",
              "      <td>vacation</td>\n",
              "      <td>An adorable romper! Belt and zipper were a lit...</td>\n",
              "      <td>hourglass</td>\n",
              "      <td>So many compliments!</td>\n",
              "      <td>romper</td>\n",
              "      <td>68.0</td>\n",
              "      <td>14</td>\n",
              "      <td>28.0</td>\n",
              "      <td>2016-04-20</td>\n",
              "      <td>137.000000</td>\n",
              "      <td>1461110400</td>\n",
              "    </tr>\n",
              "    <tr>\n",
              "      <th>1</th>\n",
              "      <td>fit</td>\n",
              "      <td>273551</td>\n",
              "      <td>34b</td>\n",
              "      <td>153475</td>\n",
              "      <td>10</td>\n",
              "      <td>other</td>\n",
              "      <td>I rented this dress for a photo shoot. The the...</td>\n",
              "      <td>straight &amp; narrow</td>\n",
              "      <td>I felt so glamourous!!!</td>\n",
              "      <td>gown</td>\n",
              "      <td>66.0</td>\n",
              "      <td>12</td>\n",
              "      <td>36.0</td>\n",
              "      <td>2013-06-18</td>\n",
              "      <td>132.000000</td>\n",
              "      <td>1371513600</td>\n",
              "    </tr>\n",
              "    <tr>\n",
              "      <th>2</th>\n",
              "      <td>fit</td>\n",
              "      <td>360448</td>\n",
              "      <td>Not Applicable</td>\n",
              "      <td>1063761</td>\n",
              "      <td>10</td>\n",
              "      <td>party</td>\n",
              "      <td>This hugged in all the right places! It was a ...</td>\n",
              "      <td>Not Applicable</td>\n",
              "      <td>It was a great time to celebrate the (almost) ...</td>\n",
              "      <td>sheath</td>\n",
              "      <td>64.0</td>\n",
              "      <td>4</td>\n",
              "      <td>116.0</td>\n",
              "      <td>2015-12-14</td>\n",
              "      <td>137.391709</td>\n",
              "      <td>1450051200</td>\n",
              "    </tr>\n",
              "    <tr>\n",
              "      <th>3</th>\n",
              "      <td>fit</td>\n",
              "      <td>909926</td>\n",
              "      <td>34c</td>\n",
              "      <td>126335</td>\n",
              "      <td>8</td>\n",
              "      <td>formal affair</td>\n",
              "      <td>I rented this for my company's black tie award...</td>\n",
              "      <td>pear</td>\n",
              "      <td>Dress arrived on time and in perfect condition.</td>\n",
              "      <td>dress</td>\n",
              "      <td>65.0</td>\n",
              "      <td>8</td>\n",
              "      <td>34.0</td>\n",
              "      <td>2014-02-12</td>\n",
              "      <td>135.000000</td>\n",
              "      <td>1392163200</td>\n",
              "    </tr>\n",
              "    <tr>\n",
              "      <th>4</th>\n",
              "      <td>fit</td>\n",
              "      <td>151944</td>\n",
              "      <td>34b</td>\n",
              "      <td>616682</td>\n",
              "      <td>10</td>\n",
              "      <td>wedding</td>\n",
              "      <td>I have always been petite in my upper body and...</td>\n",
              "      <td>athletic</td>\n",
              "      <td>Was in love with this dress !!!</td>\n",
              "      <td>gown</td>\n",
              "      <td>69.0</td>\n",
              "      <td>12</td>\n",
              "      <td>27.0</td>\n",
              "      <td>2016-09-26</td>\n",
              "      <td>145.000000</td>\n",
              "      <td>1474848000</td>\n",
              "    </tr>\n",
              "  </tbody>\n",
              "</table>\n",
              "</div>"
            ],
            "text/plain": [
              "   fit user_id       bust size  ... review_date      weight review_date_ts\n",
              "0  fit  420272             34d  ...  2016-04-20  137.000000     1461110400\n",
              "1  fit  273551             34b  ...  2013-06-18  132.000000     1371513600\n",
              "2  fit  360448  Not Applicable  ...  2015-12-14  137.391709     1450051200\n",
              "3  fit  909926             34c  ...  2014-02-12  135.000000     1392163200\n",
              "4  fit  151944             34b  ...  2016-09-26  145.000000     1474848000\n",
              "\n",
              "[5 rows x 16 columns]"
            ]
          },
          "metadata": {},
          "execution_count": 43
        }
      ]
    },
    {
      "cell_type": "code",
      "metadata": {
        "id": "HQbL_lcxCZK1"
      },
      "source": [
        "df['user_id_len'] = df['user_id'].astype(str).map(len)"
      ],
      "execution_count": null,
      "outputs": []
    },
    {
      "cell_type": "code",
      "metadata": {
        "colab": {
          "base_uri": "https://localhost:8080/"
        },
        "id": "-oA8nT9qCmjH",
        "outputId": "c9b741d8-ed6d-4c42-eabe-1f9a63dce9dc"
      },
      "source": [
        "df.user_id_len.unique()"
      ],
      "execution_count": null,
      "outputs": [
        {
          "output_type": "execute_result",
          "data": {
            "text/plain": [
              "array([6, 5, 4, 3, 2, 1])"
            ]
          },
          "metadata": {},
          "execution_count": 45
        }
      ]
    },
    {
      "cell_type": "code",
      "metadata": {
        "colab": {
          "base_uri": "https://localhost:8080/"
        },
        "id": "6SbyiilSDTPm",
        "outputId": "c007bf55-916b-4de0-831b-908f0882f4d6"
      },
      "source": [
        "len(df.review_summary.unique())"
      ],
      "execution_count": null,
      "outputs": [
        {
          "output_type": "execute_result",
          "data": {
            "text/plain": [
              "154731"
            ]
          },
          "metadata": {},
          "execution_count": 46
        }
      ]
    },
    {
      "cell_type": "code",
      "metadata": {
        "colab": {
          "base_uri": "https://localhost:8080/"
        },
        "id": "jU_jEMPeDADw",
        "outputId": "c575e7b0-e12e-4e9b-9267-dcf247949984"
      },
      "source": [
        "len(df)"
      ],
      "execution_count": null,
      "outputs": [
        {
          "output_type": "execute_result",
          "data": {
            "text/plain": [
              "192544"
            ]
          },
          "metadata": {},
          "execution_count": 47
        }
      ]
    },
    {
      "cell_type": "code",
      "metadata": {
        "id": "6gNoD33SEfjW"
      },
      "source": [
        "df['Review_ID_rand'] = df['review_text'].apply(lambda x: random.randint(11111111,99999999))"
      ],
      "execution_count": null,
      "outputs": []
    },
    {
      "cell_type": "code",
      "metadata": {
        "colab": {
          "base_uri": "https://localhost:8080/",
          "height": 521
        },
        "id": "SjPAcS9TFKS3",
        "outputId": "a6865278-7d2a-45f5-cfca-c9485873b486"
      },
      "source": [
        "df.head()"
      ],
      "execution_count": null,
      "outputs": [
        {
          "output_type": "execute_result",
          "data": {
            "text/html": [
              "<div>\n",
              "<style scoped>\n",
              "    .dataframe tbody tr th:only-of-type {\n",
              "        vertical-align: middle;\n",
              "    }\n",
              "\n",
              "    .dataframe tbody tr th {\n",
              "        vertical-align: top;\n",
              "    }\n",
              "\n",
              "    .dataframe thead th {\n",
              "        text-align: right;\n",
              "    }\n",
              "</style>\n",
              "<table border=\"1\" class=\"dataframe\">\n",
              "  <thead>\n",
              "    <tr style=\"text-align: right;\">\n",
              "      <th></th>\n",
              "      <th>fit</th>\n",
              "      <th>user_id</th>\n",
              "      <th>bust size</th>\n",
              "      <th>item_id</th>\n",
              "      <th>rating</th>\n",
              "      <th>rented for</th>\n",
              "      <th>review_text</th>\n",
              "      <th>body type</th>\n",
              "      <th>review_summary</th>\n",
              "      <th>category</th>\n",
              "      <th>height</th>\n",
              "      <th>size</th>\n",
              "      <th>age</th>\n",
              "      <th>review_date</th>\n",
              "      <th>weight</th>\n",
              "      <th>review_date_ts</th>\n",
              "      <th>user_id_len</th>\n",
              "      <th>Review_ID_rand</th>\n",
              "    </tr>\n",
              "  </thead>\n",
              "  <tbody>\n",
              "    <tr>\n",
              "      <th>0</th>\n",
              "      <td>fit</td>\n",
              "      <td>420272</td>\n",
              "      <td>34d</td>\n",
              "      <td>2260466</td>\n",
              "      <td>10</td>\n",
              "      <td>vacation</td>\n",
              "      <td>An adorable romper! Belt and zipper were a lit...</td>\n",
              "      <td>hourglass</td>\n",
              "      <td>So many compliments!</td>\n",
              "      <td>romper</td>\n",
              "      <td>68.0</td>\n",
              "      <td>14</td>\n",
              "      <td>28.0</td>\n",
              "      <td>2016-04-20</td>\n",
              "      <td>137.000000</td>\n",
              "      <td>1461110400</td>\n",
              "      <td>6</td>\n",
              "      <td>85972849</td>\n",
              "    </tr>\n",
              "    <tr>\n",
              "      <th>1</th>\n",
              "      <td>fit</td>\n",
              "      <td>273551</td>\n",
              "      <td>34b</td>\n",
              "      <td>153475</td>\n",
              "      <td>10</td>\n",
              "      <td>other</td>\n",
              "      <td>I rented this dress for a photo shoot. The the...</td>\n",
              "      <td>straight &amp; narrow</td>\n",
              "      <td>I felt so glamourous!!!</td>\n",
              "      <td>gown</td>\n",
              "      <td>66.0</td>\n",
              "      <td>12</td>\n",
              "      <td>36.0</td>\n",
              "      <td>2013-06-18</td>\n",
              "      <td>132.000000</td>\n",
              "      <td>1371513600</td>\n",
              "      <td>6</td>\n",
              "      <td>94411659</td>\n",
              "    </tr>\n",
              "    <tr>\n",
              "      <th>2</th>\n",
              "      <td>fit</td>\n",
              "      <td>360448</td>\n",
              "      <td>Not Applicable</td>\n",
              "      <td>1063761</td>\n",
              "      <td>10</td>\n",
              "      <td>party</td>\n",
              "      <td>This hugged in all the right places! It was a ...</td>\n",
              "      <td>Not Applicable</td>\n",
              "      <td>It was a great time to celebrate the (almost) ...</td>\n",
              "      <td>sheath</td>\n",
              "      <td>64.0</td>\n",
              "      <td>4</td>\n",
              "      <td>116.0</td>\n",
              "      <td>2015-12-14</td>\n",
              "      <td>137.391709</td>\n",
              "      <td>1450051200</td>\n",
              "      <td>6</td>\n",
              "      <td>63189581</td>\n",
              "    </tr>\n",
              "    <tr>\n",
              "      <th>3</th>\n",
              "      <td>fit</td>\n",
              "      <td>909926</td>\n",
              "      <td>34c</td>\n",
              "      <td>126335</td>\n",
              "      <td>8</td>\n",
              "      <td>formal affair</td>\n",
              "      <td>I rented this for my company's black tie award...</td>\n",
              "      <td>pear</td>\n",
              "      <td>Dress arrived on time and in perfect condition.</td>\n",
              "      <td>dress</td>\n",
              "      <td>65.0</td>\n",
              "      <td>8</td>\n",
              "      <td>34.0</td>\n",
              "      <td>2014-02-12</td>\n",
              "      <td>135.000000</td>\n",
              "      <td>1392163200</td>\n",
              "      <td>6</td>\n",
              "      <td>47210419</td>\n",
              "    </tr>\n",
              "    <tr>\n",
              "      <th>4</th>\n",
              "      <td>fit</td>\n",
              "      <td>151944</td>\n",
              "      <td>34b</td>\n",
              "      <td>616682</td>\n",
              "      <td>10</td>\n",
              "      <td>wedding</td>\n",
              "      <td>I have always been petite in my upper body and...</td>\n",
              "      <td>athletic</td>\n",
              "      <td>Was in love with this dress !!!</td>\n",
              "      <td>gown</td>\n",
              "      <td>69.0</td>\n",
              "      <td>12</td>\n",
              "      <td>27.0</td>\n",
              "      <td>2016-09-26</td>\n",
              "      <td>145.000000</td>\n",
              "      <td>1474848000</td>\n",
              "      <td>6</td>\n",
              "      <td>22706373</td>\n",
              "    </tr>\n",
              "  </tbody>\n",
              "</table>\n",
              "</div>"
            ],
            "text/plain": [
              "   fit user_id       bust size  ... review_date_ts  user_id_len Review_ID_rand\n",
              "0  fit  420272             34d  ...     1461110400            6       85972849\n",
              "1  fit  273551             34b  ...     1371513600            6       94411659\n",
              "2  fit  360448  Not Applicable  ...     1450051200            6       63189581\n",
              "3  fit  909926             34c  ...     1392163200            6       47210419\n",
              "4  fit  151944             34b  ...     1474848000            6       22706373\n",
              "\n",
              "[5 rows x 18 columns]"
            ]
          },
          "metadata": {},
          "execution_count": 49
        }
      ]
    },
    {
      "cell_type": "code",
      "metadata": {
        "id": "YMaoxToDFSIs"
      },
      "source": [
        "df_tfidf = df.to_dict('records') "
      ],
      "execution_count": null,
      "outputs": []
    },
    {
      "cell_type": "code",
      "metadata": {
        "colab": {
          "base_uri": "https://localhost:8080/",
          "height": 35
        },
        "id": "aiwiao6HdDME",
        "outputId": "590204d1-b0e8-46e6-99f3-e02e4f97214f"
      },
      "source": [
        "df['user_id'].min()"
      ],
      "execution_count": null,
      "outputs": [
        {
          "output_type": "execute_result",
          "data": {
            "application/vnd.google.colaboratory.intrinsic+json": {
              "type": "string"
            },
            "text/plain": [
              "'100011'"
            ]
          },
          "metadata": {},
          "execution_count": 205
        }
      ]
    },
    {
      "cell_type": "code",
      "metadata": {
        "colab": {
          "base_uri": "https://localhost:8080/",
          "height": 35
        },
        "id": "f7vrTILQdLXr",
        "outputId": "7a36fba7-5b1b-4ee0-ab05-80f686c7914e"
      },
      "source": [
        "df['user_id'].max()"
      ],
      "execution_count": null,
      "outputs": [
        {
          "output_type": "execute_result",
          "data": {
            "application/vnd.google.colaboratory.intrinsic+json": {
              "type": "string"
            },
            "text/plain": [
              "'999997'"
            ]
          },
          "metadata": {},
          "execution_count": 206
        }
      ]
    },
    {
      "cell_type": "code",
      "metadata": {
        "colab": {
          "base_uri": "https://localhost:8080/"
        },
        "id": "tGyQgbu1FfEd",
        "outputId": "9336fe4f-824e-4ec1-80cc-4dff7d697de4"
      },
      "source": [
        "df_tfidf[0]"
      ],
      "execution_count": null,
      "outputs": [
        {
          "output_type": "execute_result",
          "data": {
            "text/plain": [
              "{'Review_ID_rand': 85972849,\n",
              " 'age': 28.0,\n",
              " 'body type': 'hourglass',\n",
              " 'bust size': '34d',\n",
              " 'category': 'romper',\n",
              " 'fit': 'fit',\n",
              " 'height': 68.0,\n",
              " 'item_id': '2260466',\n",
              " 'rating': 10,\n",
              " 'rented for': 'vacation',\n",
              " 'review_date': Timestamp('2016-04-20 00:00:00'),\n",
              " 'review_date_ts': 1461110400,\n",
              " 'review_summary': 'So many compliments!',\n",
              " 'review_text': \"An adorable romper! Belt and zipper were a little hard to navigate in a full day of wear/bathroom use, but that's to be expected. Wish it had pockets, but other than that-- absolutely perfect! I got a million compliments.\",\n",
              " 'size': 14,\n",
              " 'user_id': '420272',\n",
              " 'user_id_len': 6,\n",
              " 'weight': 137.0}"
            ]
          },
          "metadata": {},
          "execution_count": 51
        }
      ]
    },
    {
      "cell_type": "code",
      "metadata": {
        "id": "GHoWh2ucBE3q"
      },
      "source": [
        "Clean_Data = Data_df.to_dict('records')"
      ],
      "execution_count": null,
      "outputs": []
    },
    {
      "cell_type": "code",
      "metadata": {
        "colab": {
          "base_uri": "https://localhost:8080/"
        },
        "id": "AlUKdSmRBgxN",
        "outputId": "41559436-deef-4391-eae9-ae8a3ea6a6a7"
      },
      "source": [
        "Clean_Data[1]"
      ],
      "execution_count": null,
      "outputs": [
        {
          "output_type": "execute_result",
          "data": {
            "text/plain": [
              "{'age': 36.0,\n",
              " 'body type': 'straight & narrow',\n",
              " 'bust size': '34b',\n",
              " 'category': 'gown',\n",
              " 'fit': 'fit',\n",
              " 'height': 66.0,\n",
              " 'item_id': '153475',\n",
              " 'rating': 10,\n",
              " 'rented for': 'other',\n",
              " 'review_date': Timestamp('2013-06-18 00:00:00'),\n",
              " 'review_date_ts': 1371513600,\n",
              " 'review_summary': 'I felt so glamourous!!!',\n",
              " 'review_text': 'I rented this dress for a photo shoot. The theme was \"Hollywood Glam and Big Beautiful Hats\". The dress was very comfortable and easy to move around in. It is definitely on my list to rent again for another formal event. ',\n",
              " 'size': 12,\n",
              " 'user_id': '273551',\n",
              " 'weight': 132.0}"
            ]
          },
          "metadata": {},
          "execution_count": 184
        }
      ]
    },
    {
      "cell_type": "markdown",
      "metadata": {
        "id": "45YFItH2LTzn"
      },
      "source": [
        "## Build a sentiment analysis model that estimates star ratings from a 1,000 word bag-of-words model (based on the most popular words). Compare models based on:\n",
        "##(a) the 1,000 most common unigrams;\n",
        "##(b) the 1,000 most common bigrams;\n",
        "##(c) the 1,000 most common trigrams;\n",
        "##(d) the 1,000 most common unigrams + bigrams;\n",
        "##(e) the 1,000 most common unigrams + trigrams;\n",
        "##(f) the 1,000 most common bigrams + trigrams;\n",
        "##(g) the 1,000 most common unigrams + bigrams + trigrams;"
      ]
    },
    {
      "cell_type": "markdown",
      "metadata": {
        "id": "odC5un3YNvJQ"
      },
      "source": [
        "### **(A) Unigram model**"
      ]
    },
    {
      "cell_type": "code",
      "metadata": {
        "id": "CsLtJULHDOQq"
      },
      "source": [
        "wordCount = defaultdict(int)\n",
        "punctuation = set(string.punctuation)\n",
        "for d in Clean_Data:\n",
        "    r = ''.join([c for c in d['review_text'].lower() if not c in punctuation])\n",
        "    ws = r.split()\n",
        "    for w in ws:\n",
        "        wordCount[w] += 1\n",
        "\n",
        "counts = [(wordCount[w], w) for w in wordCount]\n",
        "counts.sort()\n",
        "counts.reverse()"
      ],
      "execution_count": null,
      "outputs": []
    },
    {
      "cell_type": "code",
      "metadata": {
        "id": "oCbWhB2mOFZ0"
      },
      "source": [
        "words = [x[1] for x in counts[:1000]]"
      ],
      "execution_count": null,
      "outputs": []
    },
    {
      "cell_type": "code",
      "metadata": {
        "colab": {
          "base_uri": "https://localhost:8080/"
        },
        "id": "5beMp5HtOJ7V",
        "outputId": "ba5eac4a-760f-4451-e56c-461ad6683d99"
      },
      "source": [
        "words[:10]"
      ],
      "execution_count": null,
      "outputs": [
        {
          "output_type": "execute_result",
          "data": {
            "text/plain": [
              "['the', 'i', 'a', 'and', 'it', 'was', 'dress', 'to', 'this', 'but']"
            ]
          },
          "metadata": {},
          "execution_count": 56
        }
      ]
    },
    {
      "cell_type": "code",
      "metadata": {
        "id": "AmpaTitsOLUm"
      },
      "source": [
        "wordId = dict(zip(words, range(len(words))))\n",
        "wordSet = set(words)"
      ],
      "execution_count": null,
      "outputs": []
    },
    {
      "cell_type": "code",
      "metadata": {
        "id": "SVswy9KZOPKH"
      },
      "source": [
        "def feature(datum):\n",
        "    feat = [0]*len(words)\n",
        "    r = ''.join([c for c in datum['review_text'].lower() if not c in punctuation])\n",
        "    ws = r.split()\n",
        "    for w in ws:\n",
        "        if w in words:\n",
        "            feat[wordId[w]] += 1\n",
        "    feat.append(1)\n",
        "    return feat"
      ],
      "execution_count": null,
      "outputs": []
    },
    {
      "cell_type": "code",
      "metadata": {
        "id": "LVmTYG2tOUlw"
      },
      "source": [
        "## Feature Extraction\n",
        "X = [feature(d) for d in Clean_Data]\n",
        "y = [d['rating'] for d in Clean_Data]"
      ],
      "execution_count": null,
      "outputs": []
    },
    {
      "cell_type": "code",
      "metadata": {
        "id": "NLHo4mnuQk9l"
      },
      "source": [
        "X_train, X_test, y_train, y_test = train_test_split(X, y, test_size=0.30, random_state=41)"
      ],
      "execution_count": null,
      "outputs": []
    },
    {
      "cell_type": "code",
      "metadata": {
        "id": "uzGKFqJ4RZ1N"
      },
      "source": [
        "# # Regularized regression on training data\n",
        "# clf = linear_model.Ridge(1.0, fit_intercept=False)\n",
        "# clf.fit(X_train, y_train)\n",
        "# theta = clf.coef_\n",
        "# #predictions = clf.predict(X)"
      ],
      "execution_count": null,
      "outputs": []
    },
    {
      "cell_type": "code",
      "metadata": {
        "id": "LF9KjXi5F7EU"
      },
      "source": [
        "## To find the best value of 'alpha' we use cross validation fucntion RidgeCV to get the optimal MSE\n",
        "alphas = 10**np.linspace(10,-2,100)*0.5"
      ],
      "execution_count": null,
      "outputs": []
    },
    {
      "cell_type": "code",
      "metadata": {
        "id": "Jd0AyMigFgKJ"
      },
      "source": [
        "ridgecv = linear_model.RidgeCV(alphas = alphas, scoring = 'neg_mean_squared_error', normalize = True)\n",
        "ridgecv.fit(X_train, y_train)\n",
        "ridgecv.alpha_"
      ],
      "execution_count": null,
      "outputs": []
    },
    {
      "cell_type": "code",
      "metadata": {
        "colab": {
          "base_uri": "https://localhost:8080/"
        },
        "id": "eJN0F3SqGxF4",
        "outputId": "ce9ef1ec-d347-4180-9bf0-e658ac95f536"
      },
      "source": [
        "# Regularized regression on training data\n",
        "clf = linear_model.Ridge(alpha = ridgecv.alpha_, normalize = True)\n",
        "clf.fit(X_train, y_train)"
      ],
      "execution_count": null,
      "outputs": [
        {
          "output_type": "stream",
          "name": "stderr",
          "text": [
            "/usr/local/lib/python3.7/dist-packages/sklearn/linear_model/_base.py:145: FutureWarning: 'normalize' was deprecated in version 1.0 and will be removed in 1.2.\n",
            "If you wish to scale the data, use Pipeline with a StandardScaler in a preprocessing stage. To reproduce the previous behavior:\n",
            "\n",
            "from sklearn.pipeline import make_pipeline\n",
            "\n",
            "model = make_pipeline(StandardScaler(with_mean=False), Ridge())\n",
            "\n",
            "If you wish to pass a sample_weight parameter, you need to pass it as a fit parameter to each step of the pipeline as follows:\n",
            "\n",
            "kwargs = {s[0] + '__sample_weight': sample_weight for s in model.steps}\n",
            "model.fit(X, y, **kwargs)\n",
            "\n",
            "Set parameter alpha to: original_alpha * n_samples. \n",
            "  FutureWarning,\n"
          ]
        },
        {
          "output_type": "execute_result",
          "data": {
            "text/plain": [
              "Ridge(alpha=0.03527401155359316, normalize=True)"
            ]
          },
          "metadata": {},
          "execution_count": 81
        }
      ]
    },
    {
      "cell_type": "code",
      "metadata": {
        "colab": {
          "base_uri": "https://localhost:8080/"
        },
        "id": "Lo8TpixPRvQD",
        "outputId": "025c3137-ba5a-454c-a8a5-18f5c57d1d12"
      },
      "source": [
        "## Making Predictions\n",
        "Y_pred = clf.predict(X_test)\n",
        "Y_pred[:10]"
      ],
      "execution_count": null,
      "outputs": [
        {
          "output_type": "execute_result",
          "data": {
            "text/plain": [
              "array([9.1600253 , 8.74581837, 9.83216709, 9.18883586, 9.60644585,\n",
              "       1.62209883, 6.81197581, 9.04801302, 8.92822123, 9.06339349])"
            ]
          },
          "metadata": {},
          "execution_count": 82
        }
      ]
    },
    {
      "cell_type": "code",
      "metadata": {
        "id": "dJ_gdsZ8R5J2"
      },
      "source": [
        "## Finding MSE for test data and our predictions\n",
        "MSE_uni = mean_squared_error(y_test, Y_pred)"
      ],
      "execution_count": null,
      "outputs": []
    },
    {
      "cell_type": "code",
      "metadata": {
        "colab": {
          "base_uri": "https://localhost:8080/"
        },
        "id": "YvgGqYeRSJ55",
        "outputId": "812172aa-888a-4b9c-edcc-9712412bd71d"
      },
      "source": [
        "print(\"The MSE for the unigram model is: \"+ str(MSE_uni))"
      ],
      "execution_count": null,
      "outputs": [
        {
          "output_type": "stream",
          "name": "stdout",
          "text": [
            "The MSE for the unigram model is: 1.5467625234806293\n"
          ]
        }
      ]
    },
    {
      "cell_type": "code",
      "metadata": {
        "id": "ySSRhsrLSNKX"
      },
      "source": [
        "wordSort = list(zip(theta[:-1], words))\n",
        "wordSort.sort()"
      ],
      "execution_count": null,
      "outputs": []
    },
    {
      "cell_type": "code",
      "metadata": {
        "colab": {
          "base_uri": "https://localhost:8080/"
        },
        "id": "BzjJ1E-eSQ2g",
        "outputId": "c51b3e93-8b48-4f45-8cb9-69bf176ce817"
      },
      "source": [
        "## 10 most negative tokens\n",
        "wordSort[:10]"
      ],
      "execution_count": null,
      "outputs": [
        {
          "output_type": "execute_result",
          "data": {
            "text/plain": [
              "[(-0.7266698885094572, 'unfortunately'),\n",
              " (-0.6976947367128599, 'disappointed'),\n",
              " (-0.6097169125007252, 'awkward'),\n",
              " (-0.572824483162106, 'stars'),\n",
              " (-0.5442463623759888, 'boxy'),\n",
              " (-0.44697266766743726, 'weird'),\n",
              " (-0.36016957600172567, 'least'),\n",
              " (-0.35787156400896836, 'huge'),\n",
              " (-0.33604562931815973, 'baggy'),\n",
              " (-0.2980082831012176, 'end')]"
            ]
          },
          "metadata": {},
          "execution_count": 86
        }
      ]
    },
    {
      "cell_type": "code",
      "metadata": {
        "colab": {
          "base_uri": "https://localhost:8080/"
        },
        "id": "eLa7PobgSVJu",
        "outputId": "84ab782a-7dce-4db4-b806-edcb4098710a"
      },
      "source": [
        "## 10 most positive tokens\n",
        "wordSort[-10:]"
      ],
      "execution_count": null,
      "outputs": [
        {
          "output_type": "execute_result",
          "data": {
            "text/plain": [
              "[(0.30644685529065263, 'amazing'),\n",
              " (0.32383034964084445, 'excellent'),\n",
              " (0.33171664124344313, 'worried'),\n",
              " (0.3333338861566059, 'buying'),\n",
              " (0.34120179603943385, 'perfect'),\n",
              " (0.35360729868761476, 'justice'),\n",
              " (0.3554265128650439, 'deal'),\n",
              " (0.3560546557281152, 'glove'),\n",
              " (0.36524067281495937, 'incredible'),\n",
              " (0.38635638121976645, 'bother')]"
            ]
          },
          "metadata": {},
          "execution_count": 87
        }
      ]
    },
    {
      "cell_type": "markdown",
      "metadata": {
        "id": "q_cMhfViVheT"
      },
      "source": [
        "### **(B) Bigram model**"
      ]
    },
    {
      "cell_type": "code",
      "metadata": {
        "id": "48SiyvNDSXiB"
      },
      "source": [
        "wordCount = defaultdict(int)\n",
        "punctuation = set(string.punctuation)\n",
        "for d in Clean_Data:\n",
        "    r = ''.join([c for c in d['review_text'].lower() if not c in punctuation])\n",
        "    ws = r.split()\n",
        "    ws2 = [' '.join(x) for x in list(zip(ws[:-1],ws[1:]))]\n",
        "    for w in ws2:\n",
        "        wordCount[w] += 1\n",
        "\n",
        "counts = [(wordCount[w], w) for w in wordCount]\n",
        "counts.sort()\n",
        "counts.reverse()"
      ],
      "execution_count": null,
      "outputs": []
    },
    {
      "cell_type": "code",
      "metadata": {
        "id": "nKdI_GW0VsR7"
      },
      "source": [
        "words = [x[1] for x in counts[:1000]]"
      ],
      "execution_count": null,
      "outputs": []
    },
    {
      "cell_type": "code",
      "metadata": {
        "colab": {
          "base_uri": "https://localhost:8080/"
        },
        "id": "Xao5MCGJVu5x",
        "outputId": "f95920c1-e7f3-48ec-99ec-09c6696522b0"
      },
      "source": [
        "words[:10]"
      ],
      "execution_count": null,
      "outputs": [
        {
          "output_type": "execute_result",
          "data": {
            "text/plain": [
              "['this dress',\n",
              " 'it was',\n",
              " 'the dress',\n",
              " 'a little',\n",
              " 'in the',\n",
              " 'was a',\n",
              " 'and the',\n",
              " 'i wore',\n",
              " 'i was',\n",
              " 'for a']"
            ]
          },
          "metadata": {},
          "execution_count": 90
        }
      ]
    },
    {
      "cell_type": "code",
      "metadata": {
        "id": "3aq6TZRNVxP6"
      },
      "source": [
        "wordId = dict(zip(words, range(len(words))))\n",
        "wordSet = set(words)"
      ],
      "execution_count": null,
      "outputs": []
    },
    {
      "cell_type": "code",
      "metadata": {
        "id": "FhCojyuLVzIH"
      },
      "source": [
        "def feature_bi(datum):\n",
        "    feat = [0]*len(words)\n",
        "    r = ''.join([c for c in datum['review_text'].lower() if not c in punctuation])\n",
        "    ws = r.split()\n",
        "    ws2 = [' '.join(x) for x in list(zip(ws[:-1],ws[1:]))]\n",
        "    for w in ws2:\n",
        "        if w in words:\n",
        "            feat[wordId[w]] += 1\n",
        "    feat.append(1)\n",
        "    return feat"
      ],
      "execution_count": null,
      "outputs": []
    },
    {
      "cell_type": "code",
      "metadata": {
        "id": "b17Hce2KV1pt"
      },
      "source": [
        "## Feature Extraction\n",
        "X = [feature_bi(d) for d in Clean_Data]\n",
        "y = [d['rating'] for d in Clean_Data]"
      ],
      "execution_count": null,
      "outputs": []
    },
    {
      "cell_type": "code",
      "metadata": {
        "id": "dtLBq4EDWTee"
      },
      "source": [
        "X_train, X_test, y_train, y_test = train_test_split(X, y, test_size=0.30, random_state=41)"
      ],
      "execution_count": null,
      "outputs": []
    },
    {
      "cell_type": "code",
      "metadata": {
        "colab": {
          "base_uri": "https://localhost:8080/"
        },
        "id": "EErcHy4iLmXk",
        "outputId": "130b5165-08fd-4c36-ad36-617321683ecb"
      },
      "source": [
        "ridgecv = linear_model.RidgeCV(alphas = alphas, scoring = 'neg_mean_squared_error', normalize = True)\n",
        "ridgecv.fit(X_train, y_train)\n",
        "ridgecv.alpha_"
      ],
      "execution_count": null,
      "outputs": [
        {
          "output_type": "stream",
          "name": "stderr",
          "text": [
            "/usr/local/lib/python3.7/dist-packages/sklearn/linear_model/_base.py:145: FutureWarning: 'normalize' was deprecated in version 1.0 and will be removed in 1.2.\n",
            "If you wish to scale the data, use Pipeline with a StandardScaler in a preprocessing stage. To reproduce the previous behavior:\n",
            "\n",
            "from sklearn.pipeline import make_pipeline\n",
            "\n",
            "model = make_pipeline(StandardScaler(with_mean=False), _RidgeGCV())\n",
            "\n",
            "If you wish to pass a sample_weight parameter, you need to pass it as a fit parameter to each step of the pipeline as follows:\n",
            "\n",
            "kwargs = {s[0] + '__sample_weight': sample_weight for s in model.steps}\n",
            "model.fit(X, y, **kwargs)\n",
            "\n",
            "\n",
            "  FutureWarning,\n"
          ]
        },
        {
          "output_type": "execute_result",
          "data": {
            "text/plain": [
              "0.06164233697210317"
            ]
          },
          "metadata": {},
          "execution_count": 97
        }
      ]
    },
    {
      "cell_type": "code",
      "metadata": {
        "colab": {
          "base_uri": "https://localhost:8080/"
        },
        "id": "Z5INSFMyLqLB",
        "outputId": "f3587f62-65bc-4aee-a895-d60ee8480528"
      },
      "source": [
        "# Regularized regression on training data\n",
        "clf = linear_model.Ridge(alpha = ridgecv.alpha_, normalize = True)\n",
        "clf.fit(X_train, y_train)"
      ],
      "execution_count": null,
      "outputs": [
        {
          "output_type": "stream",
          "name": "stderr",
          "text": [
            "/usr/local/lib/python3.7/dist-packages/sklearn/linear_model/_base.py:145: FutureWarning: 'normalize' was deprecated in version 1.0 and will be removed in 1.2.\n",
            "If you wish to scale the data, use Pipeline with a StandardScaler in a preprocessing stage. To reproduce the previous behavior:\n",
            "\n",
            "from sklearn.pipeline import make_pipeline\n",
            "\n",
            "model = make_pipeline(StandardScaler(with_mean=False), Ridge())\n",
            "\n",
            "If you wish to pass a sample_weight parameter, you need to pass it as a fit parameter to each step of the pipeline as follows:\n",
            "\n",
            "kwargs = {s[0] + '__sample_weight': sample_weight for s in model.steps}\n",
            "model.fit(X, y, **kwargs)\n",
            "\n",
            "Set parameter alpha to: original_alpha * n_samples. \n",
            "  FutureWarning,\n"
          ]
        },
        {
          "output_type": "execute_result",
          "data": {
            "text/plain": [
              "Ridge(alpha=0.06164233697210317, normalize=True)"
            ]
          },
          "metadata": {},
          "execution_count": 98
        }
      ]
    },
    {
      "cell_type": "code",
      "metadata": {
        "id": "V2zpOJG2WZbN"
      },
      "source": [
        "# # Regularized regression on training data\n",
        "# clf = linear_model.Ridge(1.0, fit_intercept=False)\n",
        "# clf.fit(X_train, y_train)\n",
        "# theta = clf.coef_\n",
        "# #predictions = clf.predict(X)"
      ],
      "execution_count": null,
      "outputs": []
    },
    {
      "cell_type": "code",
      "metadata": {
        "colab": {
          "base_uri": "https://localhost:8080/"
        },
        "id": "StNj5MUPWepa",
        "outputId": "2aa1c04f-6335-4fcc-b8a1-a4b4645735b3"
      },
      "source": [
        "## Making Predictions\n",
        "Y_pred = clf.predict(X_test)\n",
        "Y_pred[:10]"
      ],
      "execution_count": null,
      "outputs": [
        {
          "output_type": "execute_result",
          "data": {
            "text/plain": [
              "array([ 9.14093623,  8.60356087,  9.66072321, 10.05351159,  8.59845748,\n",
              "        3.92659093,  7.04560403,  9.40955788,  9.08391711,  8.85734994])"
            ]
          },
          "metadata": {},
          "execution_count": 100
        }
      ]
    },
    {
      "cell_type": "code",
      "metadata": {
        "id": "tljODdW6WhH_"
      },
      "source": [
        "## Finding MSE for test data and our predictions\n",
        "MSE_bi = mean_squared_error(y_test, Y_pred)"
      ],
      "execution_count": null,
      "outputs": []
    },
    {
      "cell_type": "code",
      "metadata": {
        "colab": {
          "base_uri": "https://localhost:8080/"
        },
        "id": "tNuQO319WjWL",
        "outputId": "0b330292-6e88-4537-904b-2604d2f38382"
      },
      "source": [
        "print(\"The MSE for the Bigram model is: \"+ str(MSE_bi))"
      ],
      "execution_count": null,
      "outputs": [
        {
          "output_type": "stream",
          "name": "stdout",
          "text": [
            "The MSE for the Bigram model is: 1.5983417771019321\n"
          ]
        }
      ]
    },
    {
      "cell_type": "code",
      "metadata": {
        "id": "mj6ZdtFlWnyf"
      },
      "source": [
        "wordSort = list(zip(theta[:-1], words))\n",
        "wordSort.sort()"
      ],
      "execution_count": null,
      "outputs": []
    },
    {
      "cell_type": "code",
      "metadata": {
        "colab": {
          "base_uri": "https://localhost:8080/"
        },
        "id": "-af6LcVhWp0F",
        "outputId": "456a8feb-ce87-4c47-9816-6f3c8b72b067"
      },
      "source": [
        "## 10 most negative tokens\n",
        "wordSort[:10]"
      ],
      "execution_count": null,
      "outputs": [
        {
          "output_type": "execute_result",
          "data": {
            "text/plain": [
              "[(-0.7266698885094572, 'the picture'),\n",
              " (-0.6976947367128599, 'a summer'),\n",
              " (-0.6097169125007252, 'large i'),\n",
              " (-0.572824483162106, 'the day'),\n",
              " (-0.5442463623759888, '4 fit'),\n",
              " (-0.44697266766743726, 'and fun'),\n",
              " (-0.36016957600172567, 'the pattern'),\n",
              " (-0.35787156400896836, 'though i'),\n",
              " (-0.33604562931815973, 'was pretty'),\n",
              " (-0.2980082831012176, 'that was')]"
            ]
          },
          "metadata": {},
          "execution_count": 105
        }
      ]
    },
    {
      "cell_type": "code",
      "metadata": {
        "colab": {
          "base_uri": "https://localhost:8080/"
        },
        "id": "fxiyqKn6WsCe",
        "outputId": "0b1d8284-4c08-430d-a9a4-b9764daa2645"
      },
      "source": [
        "## 10 most positive tokens\n",
        "wordSort[-10:]"
      ],
      "execution_count": null,
      "outputs": [
        {
          "output_type": "execute_result",
          "data": {
            "text/plain": [
              "[(0.30644685529065263, 'the bottom'),\n",
              " (0.32383034964084445, 'dressed up'),\n",
              " (0.33171664124344313, 'so much'),\n",
              " (0.3333338861566059, 'down the'),\n",
              " (0.34120179603943385, 'with a'),\n",
              " (0.35360729868761476, 'but with'),\n",
              " (0.3554265128650439, 'only complaint'),\n",
              " (0.3560546557281152, 'flattering and'),\n",
              " (0.36524067281495937, 'been a'),\n",
              " (0.38635638121976645, 'in and')]"
            ]
          },
          "metadata": {},
          "execution_count": 106
        }
      ]
    },
    {
      "cell_type": "markdown",
      "metadata": {
        "id": "8wfXFHFFW9n4"
      },
      "source": [
        "## **(C) Trigram Model**"
      ]
    },
    {
      "cell_type": "code",
      "metadata": {
        "id": "lKqn-KcSW52E"
      },
      "source": [
        "wordCount = defaultdict(int)\n",
        "punctuation = set(string.punctuation)\n",
        "for d in Clean_Data:\n",
        "    r = ''.join([c for c in d['review_text'].lower() if not c in punctuation])\n",
        "    ws = r.split()\n",
        "    ws2 = [' '.join(x) for x in list(zip(ws[:-1],ws[1:]))]\n",
        "    ws3 = [' '.join(x) for x in list(zip(ws[:-2],ws[1:-1],ws[2:]))]\n",
        "    for w in ws3:\n",
        "        wordCount[w] += 1\n",
        "\n",
        "counts = [(wordCount[w], w) for w in wordCount]\n",
        "counts.sort()\n",
        "counts.reverse()"
      ],
      "execution_count": null,
      "outputs": []
    },
    {
      "cell_type": "code",
      "metadata": {
        "id": "PR7ZgsySXTmh"
      },
      "source": [
        "words = [x[1] for x in counts[:1000]]"
      ],
      "execution_count": null,
      "outputs": []
    },
    {
      "cell_type": "code",
      "metadata": {
        "colab": {
          "base_uri": "https://localhost:8080/"
        },
        "id": "wobfO4MOXWaQ",
        "outputId": "6c0bee84-62fe-46da-9b60-6bdd1aea7ffe"
      },
      "source": [
        "words[:10]"
      ],
      "execution_count": null,
      "outputs": [
        {
          "output_type": "execute_result",
          "data": {
            "text/plain": [
              "['it was a',\n",
              " 'was a little',\n",
              " 'true to size',\n",
              " 'the dress was',\n",
              " 'this dress was',\n",
              " 'and it was',\n",
              " 'i wore this',\n",
              " 'this dress is',\n",
              " 'of the dress',\n",
              " 'the dress is']"
            ]
          },
          "metadata": {},
          "execution_count": 109
        }
      ]
    },
    {
      "cell_type": "code",
      "metadata": {
        "id": "XiBx_2WiXXp_"
      },
      "source": [
        "wordId = dict(zip(words, range(len(words))))\n",
        "wordSet = set(words)"
      ],
      "execution_count": null,
      "outputs": []
    },
    {
      "cell_type": "code",
      "metadata": {
        "id": "baNSDanzXZa7"
      },
      "source": [
        "def feature_tri(datum):\n",
        "    feat = [0]*len(words)\n",
        "    r = ''.join([c for c in datum['review_text'].lower() if not c in punctuation])\n",
        "    ws = r.split()\n",
        "    ws2 = [' '.join(x) for x in list(zip(ws[:-1],ws[1:]))]\n",
        "    ws3 = [' '.join(x) for x in list(zip(ws[:-2],ws[1:-1],ws[2:]))]\n",
        "    for w in ws3:\n",
        "        if w in words:\n",
        "            feat[wordId[w]] += 1\n",
        "    feat.append(1)\n",
        "    return feat"
      ],
      "execution_count": null,
      "outputs": []
    },
    {
      "cell_type": "code",
      "metadata": {
        "id": "BLvyZVw6XgRs"
      },
      "source": [
        "## Feature Extraction\n",
        "X = [feature_tri(d) for d in Clean_Data]\n",
        "y = [d['rating'] for d in Clean_Data]"
      ],
      "execution_count": null,
      "outputs": []
    },
    {
      "cell_type": "code",
      "metadata": {
        "id": "2zeISnNkXnGJ"
      },
      "source": [
        "X_train, X_test, y_train, y_test = train_test_split(X, y, test_size=0.30, random_state=41)"
      ],
      "execution_count": null,
      "outputs": []
    },
    {
      "cell_type": "code",
      "metadata": {
        "colab": {
          "base_uri": "https://localhost:8080/"
        },
        "id": "FmHyQoOJMwgd",
        "outputId": "18cf789a-9bec-4b5f-c9f7-61a2cf470a20"
      },
      "source": [
        "ridgecv = linear_model.RidgeCV(alphas = alphas, scoring = 'neg_mean_squared_error', normalize = True)\n",
        "ridgecv.fit(X_train, y_train)\n",
        "ridgecv.alpha_"
      ],
      "execution_count": null,
      "outputs": [
        {
          "output_type": "stream",
          "name": "stderr",
          "text": [
            "/usr/local/lib/python3.7/dist-packages/sklearn/linear_model/_base.py:145: FutureWarning: 'normalize' was deprecated in version 1.0 and will be removed in 1.2.\n",
            "If you wish to scale the data, use Pipeline with a StandardScaler in a preprocessing stage. To reproduce the previous behavior:\n",
            "\n",
            "from sklearn.pipeline import make_pipeline\n",
            "\n",
            "model = make_pipeline(StandardScaler(with_mean=False), _RidgeGCV())\n",
            "\n",
            "If you wish to pass a sample_weight parameter, you need to pass it as a fit parameter to each step of the pipeline as follows:\n",
            "\n",
            "kwargs = {s[0] + '__sample_weight': sample_weight for s in model.steps}\n",
            "model.fit(X, y, **kwargs)\n",
            "\n",
            "\n",
            "  FutureWarning,\n"
          ]
        },
        {
          "output_type": "execute_result",
          "data": {
            "text/plain": [
              "0.0466301673441609"
            ]
          },
          "metadata": {},
          "execution_count": 114
        }
      ]
    },
    {
      "cell_type": "code",
      "metadata": {
        "colab": {
          "base_uri": "https://localhost:8080/"
        },
        "id": "0TtKR9u9MzHa",
        "outputId": "cf1b6a0b-1d88-4916-fb32-50b71e628125"
      },
      "source": [
        "# Regularized regression on training data\n",
        "clf = linear_model.Ridge(alpha = ridgecv.alpha_, normalize = True)\n",
        "clf.fit(X_train, y_train)"
      ],
      "execution_count": null,
      "outputs": [
        {
          "output_type": "stream",
          "name": "stderr",
          "text": [
            "/usr/local/lib/python3.7/dist-packages/sklearn/linear_model/_base.py:145: FutureWarning: 'normalize' was deprecated in version 1.0 and will be removed in 1.2.\n",
            "If you wish to scale the data, use Pipeline with a StandardScaler in a preprocessing stage. To reproduce the previous behavior:\n",
            "\n",
            "from sklearn.pipeline import make_pipeline\n",
            "\n",
            "model = make_pipeline(StandardScaler(with_mean=False), Ridge())\n",
            "\n",
            "If you wish to pass a sample_weight parameter, you need to pass it as a fit parameter to each step of the pipeline as follows:\n",
            "\n",
            "kwargs = {s[0] + '__sample_weight': sample_weight for s in model.steps}\n",
            "model.fit(X, y, **kwargs)\n",
            "\n",
            "Set parameter alpha to: original_alpha * n_samples. \n",
            "  FutureWarning,\n"
          ]
        },
        {
          "output_type": "execute_result",
          "data": {
            "text/plain": [
              "Ridge(alpha=0.0466301673441609, normalize=True)"
            ]
          },
          "metadata": {},
          "execution_count": 115
        }
      ]
    },
    {
      "cell_type": "code",
      "metadata": {
        "id": "8MqNkbk4Xq_Z"
      },
      "source": [
        "# # Regularized regression on training data\n",
        "# clf = linear_model.Ridge(1.0, fit_intercept=False)\n",
        "# clf.fit(X_train, y_train)\n",
        "# theta = clf.coef_\n",
        "# #predictions = clf.predict(X)"
      ],
      "execution_count": null,
      "outputs": []
    },
    {
      "cell_type": "code",
      "metadata": {
        "colab": {
          "base_uri": "https://localhost:8080/"
        },
        "id": "yp7aX2ZfXt0E",
        "outputId": "77806432-2689-4eaf-e57c-384dbd6b4a61"
      },
      "source": [
        "## Making Predictions\n",
        "Y_pred = clf.predict(X_test)\n",
        "Y_pred[:10]"
      ],
      "execution_count": null,
      "outputs": [
        {
          "output_type": "execute_result",
          "data": {
            "text/plain": [
              "array([9.39680938, 8.44443102, 9.21196757, 9.89917759, 8.95926061,\n",
              "       7.8173428 , 6.89441016, 8.00414296, 9.60953117, 8.78376535])"
            ]
          },
          "metadata": {},
          "execution_count": 116
        }
      ]
    },
    {
      "cell_type": "code",
      "metadata": {
        "id": "IbwZ8igxXwBF"
      },
      "source": [
        "## Finding MSE for test data and our predictions\n",
        "MSE_tri = mean_squared_error(y_test, Y_pred)"
      ],
      "execution_count": null,
      "outputs": []
    },
    {
      "cell_type": "code",
      "metadata": {
        "colab": {
          "base_uri": "https://localhost:8080/"
        },
        "id": "1nkK58kvXyfq",
        "outputId": "d2a961f1-24a5-47ec-b6ec-342fe5c54db0"
      },
      "source": [
        "print(\"The MSE for the Trigram model is: \"+ str(MSE_tri))"
      ],
      "execution_count": null,
      "outputs": [
        {
          "output_type": "stream",
          "name": "stdout",
          "text": [
            "The MSE for the Trigram model is: 1.7279853352074996\n"
          ]
        }
      ]
    },
    {
      "cell_type": "code",
      "metadata": {
        "id": "dL9q95hgX1wZ"
      },
      "source": [
        "wordSort = list(zip(theta[:-1], words))\n",
        "wordSort.sort()"
      ],
      "execution_count": null,
      "outputs": []
    },
    {
      "cell_type": "code",
      "metadata": {
        "colab": {
          "base_uri": "https://localhost:8080/"
        },
        "id": "NlPvLFuoX4DJ",
        "outputId": "41113472-1184-4972-de23-42d9ebebf4ed"
      },
      "source": [
        "## 10 most negative tokens\n",
        "wordSort[:10]"
      ],
      "execution_count": null,
      "outputs": [
        {
          "output_type": "execute_result",
          "data": {
            "text/plain": [
              "[(-0.7266698885094572, 'dress fit like'),\n",
              " (-0.6976947367128599, 'a dress that'),\n",
              " (-0.6097169125007252, 'it ended up'),\n",
              " (-0.572824483162106, 'little bit of'),\n",
              " (-0.5442463623759888, 'up wearing this'),\n",
              " (-0.44697266766743726, 'is that it'),\n",
              " (-0.36016957600172567, 'since it was'),\n",
              " (-0.35787156400896836, 'like i was'),\n",
              " (-0.33604562931815973, 'so i ordered'),\n",
              " (-0.2980082831012176, 'i paired it')]"
            ]
          },
          "metadata": {},
          "execution_count": 120
        }
      ]
    },
    {
      "cell_type": "code",
      "metadata": {
        "colab": {
          "base_uri": "https://localhost:8080/"
        },
        "id": "VMFB9bs5X6Ya",
        "outputId": "aa864c95-db0c-41e0-b4a3-308853b35fe3"
      },
      "source": [
        "## 10 most positive tokens\n",
        "wordSort[-10:]"
      ],
      "execution_count": null,
      "outputs": [
        {
          "output_type": "execute_result",
          "data": {
            "text/plain": [
              "[(0.30644685529065263, 'definitely rent again'),\n",
              " (0.32383034964084445, 'because i am'),\n",
              " (0.33171664124344313, 'a little large'),\n",
              " (0.3333338861566059, 'a great fit'),\n",
              " (0.34120179603943385, 'dress for a'),\n",
              " (0.35360729868761476, 'because it is'),\n",
              " (0.3554265128650439, 'a million bucks'),\n",
              " (0.3560546557281152, 'inch heels and'),\n",
              " (0.36524067281495937, 'the lace is'),\n",
              " (0.38635638121976645, 'it a little')]"
            ]
          },
          "metadata": {},
          "execution_count": 121
        }
      ]
    },
    {
      "cell_type": "markdown",
      "metadata": {
        "id": "jCyOZlX7Y6uo"
      },
      "source": [
        "## **(D) Unigram + Bigram Model**"
      ]
    },
    {
      "cell_type": "code",
      "metadata": {
        "id": "MnAVBJARYabT"
      },
      "source": [
        "wordCount = defaultdict(int)\n",
        "punctuation = set(string.punctuation)\n",
        "for d in Clean_Data:\n",
        "    r = ''.join([c for c in d['review_text'].lower() if not c in punctuation])\n",
        "    ws = r.split()\n",
        "    ws2 = [' '.join(x) for x in list(zip(ws[:-1],ws[1:]))]\n",
        "    for w in ws + ws2:\n",
        "        wordCount[w] += 1\n",
        "\n",
        "counts = [(wordCount[w], w) for w in wordCount]\n",
        "counts.sort()\n",
        "counts.reverse()"
      ],
      "execution_count": null,
      "outputs": []
    },
    {
      "cell_type": "code",
      "metadata": {
        "id": "NMxu1Y9zZHIQ"
      },
      "source": [
        "words = [x[1] for x in counts[:1000]]"
      ],
      "execution_count": null,
      "outputs": []
    },
    {
      "cell_type": "code",
      "metadata": {
        "id": "xr4cxg4TZJUT"
      },
      "source": [
        "wordId = dict(zip(words, range(len(words))))\n",
        "wordSet = set(words)"
      ],
      "execution_count": null,
      "outputs": []
    },
    {
      "cell_type": "code",
      "metadata": {
        "id": "u-h11GoqZKpX"
      },
      "source": [
        "def feature_uni_bi(datum):\n",
        "    feat = [0]*len(words)\n",
        "    r = ''.join([c for c in datum['review_text'].lower() if not c in punctuation])\n",
        "    ws = r.split()\n",
        "    ws2 = [' '.join(x) for x in list(zip(ws[:-1],ws[1:]))]\n",
        "    for w in ws + ws2:\n",
        "        if w in words:\n",
        "            feat[wordId[w]] += 1\n",
        "    feat.append(1)\n",
        "    return feat"
      ],
      "execution_count": null,
      "outputs": []
    },
    {
      "cell_type": "code",
      "metadata": {
        "id": "J77ZNumNZOJ8"
      },
      "source": [
        "## Feature Extraction\n",
        "X = [feature_uni_bi(d) for d in Clean_Data]\n",
        "y = [d['rating'] for d in Clean_Data]"
      ],
      "execution_count": null,
      "outputs": []
    },
    {
      "cell_type": "code",
      "metadata": {
        "id": "ryhEULA1XOd7"
      },
      "source": [
        "X[:2]"
      ],
      "execution_count": null,
      "outputs": []
    },
    {
      "cell_type": "code",
      "metadata": {
        "id": "MHi4dbP3ZUYQ"
      },
      "source": [
        "X_train, X_test, y_train, y_test = train_test_split(X, y, test_size=0.30, random_state=41)"
      ],
      "execution_count": null,
      "outputs": []
    },
    {
      "cell_type": "code",
      "metadata": {
        "colab": {
          "base_uri": "https://localhost:8080/"
        },
        "id": "N_yRPYwwOW2F",
        "outputId": "9dae3271-8397-4fb0-f6d9-e3e3709e067f"
      },
      "source": [
        "ridgecv = linear_model.RidgeCV(alphas = alphas, scoring = 'neg_mean_squared_error', normalize = True)\n",
        "ridgecv.fit(X_train, y_train)\n",
        "ridgecv.alpha_"
      ],
      "execution_count": null,
      "outputs": [
        {
          "output_type": "stream",
          "name": "stderr",
          "text": [
            "/usr/local/lib/python3.7/dist-packages/sklearn/linear_model/_base.py:145: FutureWarning: 'normalize' was deprecated in version 1.0 and will be removed in 1.2.\n",
            "If you wish to scale the data, use Pipeline with a StandardScaler in a preprocessing stage. To reproduce the previous behavior:\n",
            "\n",
            "from sklearn.pipeline import make_pipeline\n",
            "\n",
            "model = make_pipeline(StandardScaler(with_mean=False), _RidgeGCV())\n",
            "\n",
            "If you wish to pass a sample_weight parameter, you need to pass it as a fit parameter to each step of the pipeline as follows:\n",
            "\n",
            "kwargs = {s[0] + '__sample_weight': sample_weight for s in model.steps}\n",
            "model.fit(X, y, **kwargs)\n",
            "\n",
            "\n",
            "  FutureWarning,\n"
          ]
        },
        {
          "output_type": "execute_result",
          "data": {
            "text/plain": [
              "0.026683496156031508"
            ]
          },
          "metadata": {},
          "execution_count": 246
        }
      ]
    },
    {
      "cell_type": "code",
      "metadata": {
        "colab": {
          "base_uri": "https://localhost:8080/"
        },
        "id": "9ASsuBzUOaem",
        "outputId": "3d1ff71a-b33b-445c-fe4e-e0fc72b5ecfa"
      },
      "source": [
        "# Regularized regression on training data\n",
        "clf = linear_model.Ridge(alpha = ridgecv.alpha_, normalize = True)\n",
        "clf.fit(X_train, y_train)"
      ],
      "execution_count": null,
      "outputs": [
        {
          "output_type": "stream",
          "name": "stderr",
          "text": [
            "/usr/local/lib/python3.7/dist-packages/sklearn/linear_model/_base.py:145: FutureWarning: 'normalize' was deprecated in version 1.0 and will be removed in 1.2.\n",
            "If you wish to scale the data, use Pipeline with a StandardScaler in a preprocessing stage. To reproduce the previous behavior:\n",
            "\n",
            "from sklearn.pipeline import make_pipeline\n",
            "\n",
            "model = make_pipeline(StandardScaler(with_mean=False), Ridge())\n",
            "\n",
            "If you wish to pass a sample_weight parameter, you need to pass it as a fit parameter to each step of the pipeline as follows:\n",
            "\n",
            "kwargs = {s[0] + '__sample_weight': sample_weight for s in model.steps}\n",
            "model.fit(X, y, **kwargs)\n",
            "\n",
            "Set parameter alpha to: original_alpha * n_samples. \n",
            "  FutureWarning,\n"
          ]
        },
        {
          "output_type": "execute_result",
          "data": {
            "text/plain": [
              "Ridge(alpha=0.026683496156031508, normalize=True)"
            ]
          },
          "metadata": {},
          "execution_count": 247
        }
      ]
    },
    {
      "cell_type": "code",
      "metadata": {
        "id": "ujdVHpPyZg3I"
      },
      "source": [
        "# # Regularized regression on training data\n",
        "# clf = linear_model.Ridge(1.0, fit_intercept=False)\n",
        "# clf.fit(X_train, y_train)\n",
        "# theta = clf.coef_\n",
        "# #predictions = clf.predict(X)"
      ],
      "execution_count": null,
      "outputs": []
    },
    {
      "cell_type": "code",
      "metadata": {
        "colab": {
          "base_uri": "https://localhost:8080/"
        },
        "id": "p2jRwlSEZjQE",
        "outputId": "8d0ad85e-e185-4280-971a-4fa8acc76a8b"
      },
      "source": [
        "## Making Predictions\n",
        "Y_pred = clf.predict(X_test)\n",
        "Y_pred[:10]"
      ],
      "execution_count": null,
      "outputs": [
        {
          "output_type": "execute_result",
          "data": {
            "text/plain": [
              "array([9.23319221, 8.72305166, 9.56168624, 9.47156438, 9.30892209,\n",
              "       3.40099809, 6.82336609, 9.32652717, 8.54975074, 9.07740508])"
            ]
          },
          "metadata": {},
          "execution_count": 249
        }
      ]
    },
    {
      "cell_type": "code",
      "metadata": {
        "id": "s6acxIBQZlnx"
      },
      "source": [
        "## Finding MSE for test data and our predictions\n",
        "MSE_ub = mean_squared_error(y_test, Y_pred)"
      ],
      "execution_count": null,
      "outputs": []
    },
    {
      "cell_type": "code",
      "metadata": {
        "colab": {
          "base_uri": "https://localhost:8080/"
        },
        "id": "xDeEb0xPZnwR",
        "outputId": "b727ae6b-a379-46c9-ca31-c186076cc0d7"
      },
      "source": [
        "print(\"The MSE for the combined unigram and bigram model is: \"+ str(MSE_ub))"
      ],
      "execution_count": null,
      "outputs": [
        {
          "output_type": "stream",
          "name": "stdout",
          "text": [
            "The MSE for the combined unigram and bigram model is: 1.5403161714922609\n"
          ]
        }
      ]
    },
    {
      "cell_type": "code",
      "metadata": {
        "id": "-9GQjVQ2ZtVA"
      },
      "source": [
        "wordSort = list(zip(theta[:-1], words))\n",
        "wordSort.sort()"
      ],
      "execution_count": null,
      "outputs": []
    },
    {
      "cell_type": "code",
      "metadata": {
        "colab": {
          "base_uri": "https://localhost:8080/"
        },
        "id": "pVN3d-B8ZxPP",
        "outputId": "2b9c53de-8f4b-4bcd-9ffd-a8f84608861b"
      },
      "source": [
        "## 10 most negative tokens\n",
        "wordSort[:10]"
      ],
      "execution_count": null,
      "outputs": [
        {
          "output_type": "execute_result",
          "data": {
            "text/plain": [
              "[(-0.7266698885094572, 'fitting'),\n",
              " (-0.6976947367128599, 'im a'),\n",
              " (-0.6097169125007252, 'place'),\n",
              " (-0.572824483162106, 'jacket'),\n",
              " (-0.5442463623759888, 'totally'),\n",
              " (-0.44697266766743726, 'such'),\n",
              " (-0.36016957600172567, 'dress that'),\n",
              " (-0.35787156400896836, 'two'),\n",
              " (-0.33604562931815973, 'sizing'),\n",
              " (-0.2980082831012176, 'dress to')]"
            ]
          },
          "metadata": {},
          "execution_count": 253
        }
      ]
    },
    {
      "cell_type": "code",
      "metadata": {
        "colab": {
          "base_uri": "https://localhost:8080/"
        },
        "id": "p0TiayPOZ1YW",
        "outputId": "e42a4b59-8304-46d6-b1e6-5038c1f9f4e0"
      },
      "source": [
        "## 10 most positive tokens\n",
        "wordSort[-10:]"
      ],
      "execution_count": null,
      "outputs": [
        {
          "output_type": "execute_result",
          "data": {
            "text/plain": [
              "[(0.30644685529065263, 'other'),\n",
              " (0.32383034964084445, 'dress in'),\n",
              " (0.33171664124344313, 'style'),\n",
              " (0.3333338861566059, 'i wasnt'),\n",
              " (0.34120179603943385, 'little'),\n",
              " (0.35360729868761476, 'women'),\n",
              " (0.3554265128650439, 'it didnt'),\n",
              " (0.3560546557281152, 'able'),\n",
              " (0.36524067281495937, 'got tons'),\n",
              " (0.38635638121976645, 'due to')]"
            ]
          },
          "metadata": {},
          "execution_count": 254
        }
      ]
    },
    {
      "cell_type": "code",
      "metadata": {
        "colab": {
          "base_uri": "https://localhost:8080/",
          "height": 296
        },
        "id": "PB8fi-inUByO",
        "outputId": "f55ffca1-1668-441e-b911-fabb116dea76"
      },
      "source": [
        "## Y_pred vs y_test graph\n",
        "plt.plot(y_test, Y_pred, 'o', color='blue')\n",
        "\n",
        "plt.xlabel(\"Actual Ratings\")\n",
        "plt.ylabel(\"Predicted Ratings\")"
      ],
      "execution_count": null,
      "outputs": [
        {
          "output_type": "execute_result",
          "data": {
            "text/plain": [
              "Text(0, 0.5, 'Predicted Ratings')"
            ]
          },
          "metadata": {},
          "execution_count": 258
        },
        {
          "output_type": "display_data",
          "data": {
            "image/png": "[encoded data removed]",
            "text/plain": [
              "<Figure size 432x288 with 1 Axes>"
            ]
          },
          "metadata": {}
        }
      ]
    },
    {
      "cell_type": "markdown",
      "metadata": {
        "id": "N17MNKV4aCV7"
      },
      "source": [
        "## **(E) Unigram + Trigram Model**"
      ]
    },
    {
      "cell_type": "code",
      "metadata": {
        "id": "0-tR8M-9aBse"
      },
      "source": [
        "wordCount = defaultdict(int)\n",
        "punctuation = set(string.punctuation)\n",
        "for d in Clean_Data:\n",
        "    r = ''.join([c for c in d['review_text'].lower() if not c in punctuation])\n",
        "    ws = r.split()\n",
        "    ws2 = [' '.join(x) for x in list(zip(ws[:-1],ws[1:]))]\n",
        "    ws3 = [' '.join(x) for x in list(zip(ws[:-2],ws[1:-1],ws[2:]))]\n",
        "    for w in ws + ws3:\n",
        "        wordCount[w] += 1\n",
        "\n",
        "counts = [(wordCount[w], w) for w in wordCount]\n",
        "counts.sort()\n",
        "counts.reverse()"
      ],
      "execution_count": null,
      "outputs": []
    },
    {
      "cell_type": "code",
      "metadata": {
        "id": "YTdqFUwsaXzA"
      },
      "source": [
        "words = [x[1] for x in counts[:1000]]"
      ],
      "execution_count": null,
      "outputs": []
    },
    {
      "cell_type": "code",
      "metadata": {
        "id": "pJrPIE15abvF"
      },
      "source": [
        "wordId = dict(zip(words, range(len(words))))\n",
        "wordSet = set(words)"
      ],
      "execution_count": null,
      "outputs": []
    },
    {
      "cell_type": "code",
      "metadata": {
        "id": "proqJwTkad4u"
      },
      "source": [
        "def feature_uni_tri(datum):\n",
        "    feat = [0]*len(words)\n",
        "    r = ''.join([c for c in datum['review_text'].lower() if not c in punctuation])\n",
        "    ws = r.split()\n",
        "    ws2 = [' '.join(x) for x in list(zip(ws[:-1],ws[1:]))]\n",
        "    ws3 = [' '.join(x) for x in list(zip(ws[:-2],ws[1:-1],ws[2:]))]\n",
        "    for w in ws + ws3:\n",
        "        if w in words:\n",
        "            feat[wordId[w]] += 1\n",
        "    feat.append(1)\n",
        "    return feat"
      ],
      "execution_count": null,
      "outputs": []
    },
    {
      "cell_type": "code",
      "metadata": {
        "id": "Rx8hHQK0amwh"
      },
      "source": [
        "## Feature Extraction\n",
        "X = [feature_uni_tri(d) for d in Clean_Data]\n",
        "y = [d['rating'] for d in Clean_Data]"
      ],
      "execution_count": null,
      "outputs": []
    },
    {
      "cell_type": "code",
      "metadata": {
        "id": "UwdkUZI3apK9"
      },
      "source": [
        "X_train, X_test, y_train, y_test = train_test_split(X, y, test_size=0.30, random_state=41)"
      ],
      "execution_count": null,
      "outputs": []
    },
    {
      "cell_type": "code",
      "metadata": {
        "colab": {
          "base_uri": "https://localhost:8080/"
        },
        "id": "sEin9QVfOnax",
        "outputId": "f3e72da5-192f-4742-ffcd-898bb056f2e0"
      },
      "source": [
        "ridgecv = linear_model.RidgeCV(alphas = alphas, scoring = 'neg_mean_squared_error', normalize = True)\n",
        "ridgecv.fit(X_train, y_train)\n",
        "ridgecv.alpha_"
      ],
      "execution_count": null,
      "outputs": [
        {
          "output_type": "stream",
          "name": "stderr",
          "text": [
            "/usr/local/lib/python3.7/dist-packages/sklearn/linear_model/_base.py:145: FutureWarning: 'normalize' was deprecated in version 1.0 and will be removed in 1.2.\n",
            "If you wish to scale the data, use Pipeline with a StandardScaler in a preprocessing stage. To reproduce the previous behavior:\n",
            "\n",
            "from sklearn.pipeline import make_pipeline\n",
            "\n",
            "model = make_pipeline(StandardScaler(with_mean=False), _RidgeGCV())\n",
            "\n",
            "If you wish to pass a sample_weight parameter, you need to pass it as a fit parameter to each step of the pipeline as follows:\n",
            "\n",
            "kwargs = {s[0] + '__sample_weight': sample_weight for s in model.steps}\n",
            "model.fit(X, y, **kwargs)\n",
            "\n",
            "\n",
            "  FutureWarning,\n"
          ]
        },
        {
          "output_type": "execute_result",
          "data": {
            "text/plain": [
              "0.026683496156031508"
            ]
          },
          "metadata": {},
          "execution_count": 143
        }
      ]
    },
    {
      "cell_type": "code",
      "metadata": {
        "colab": {
          "base_uri": "https://localhost:8080/"
        },
        "id": "C5vg7QIgOpjL",
        "outputId": "22b7f6b2-8313-4d15-f174-6b19fb34661f"
      },
      "source": [
        "# Regularized regression on training data\n",
        "clf = linear_model.Ridge(alpha = ridgecv.alpha_, normalize = True)\n",
        "clf.fit(X_train, y_train)"
      ],
      "execution_count": null,
      "outputs": [
        {
          "output_type": "stream",
          "name": "stderr",
          "text": [
            "/usr/local/lib/python3.7/dist-packages/sklearn/linear_model/_base.py:145: FutureWarning: 'normalize' was deprecated in version 1.0 and will be removed in 1.2.\n",
            "If you wish to scale the data, use Pipeline with a StandardScaler in a preprocessing stage. To reproduce the previous behavior:\n",
            "\n",
            "from sklearn.pipeline import make_pipeline\n",
            "\n",
            "model = make_pipeline(StandardScaler(with_mean=False), Ridge())\n",
            "\n",
            "If you wish to pass a sample_weight parameter, you need to pass it as a fit parameter to each step of the pipeline as follows:\n",
            "\n",
            "kwargs = {s[0] + '__sample_weight': sample_weight for s in model.steps}\n",
            "model.fit(X, y, **kwargs)\n",
            "\n",
            "Set parameter alpha to: original_alpha * n_samples. \n",
            "  FutureWarning,\n"
          ]
        },
        {
          "output_type": "execute_result",
          "data": {
            "text/plain": [
              "Ridge(alpha=0.026683496156031508, normalize=True)"
            ]
          },
          "metadata": {},
          "execution_count": 144
        }
      ]
    },
    {
      "cell_type": "code",
      "metadata": {
        "id": "c58oNxtparJj"
      },
      "source": [
        "# # Regularized regression on training data\n",
        "# clf = linear_model.Ridge(1.0, fit_intercept=False)\n",
        "# clf.fit(X_train, y_train)\n",
        "# theta = clf.coef_\n",
        "# #predictions = clf.predict(X)"
      ],
      "execution_count": null,
      "outputs": []
    },
    {
      "cell_type": "code",
      "metadata": {
        "colab": {
          "base_uri": "https://localhost:8080/"
        },
        "id": "OQ10V_9OauSA",
        "outputId": "e2a8f253-69ce-4c29-ce23-b84598cc395a"
      },
      "source": [
        "## Making Predictions\n",
        "Y_pred = clf.predict(X_test)\n",
        "Y_pred[:10]"
      ],
      "execution_count": null,
      "outputs": [
        {
          "output_type": "execute_result",
          "data": {
            "text/plain": [
              "array([8.94482344, 8.71751202, 9.80307933, 9.4369024 , 9.58628219,\n",
              "       3.25214714, 6.80588249, 8.37781644, 8.92824631, 9.1184683 ])"
            ]
          },
          "metadata": {},
          "execution_count": 146
        }
      ]
    },
    {
      "cell_type": "code",
      "metadata": {
        "id": "3b-h5_amawY9"
      },
      "source": [
        "## Finding MSE for test data and our predictions\n",
        "MSE_ut = mean_squared_error(y_test, Y_pred)"
      ],
      "execution_count": null,
      "outputs": []
    },
    {
      "cell_type": "code",
      "metadata": {
        "colab": {
          "base_uri": "https://localhost:8080/"
        },
        "id": "Loxy8uYtaykR",
        "outputId": "77aeb58d-f950-4a6c-ae37-7d86189c53a3"
      },
      "source": [
        "print(\"The MSE for the combined unigram and trigram model is: \"+ str(MSE_ut))"
      ],
      "execution_count": null,
      "outputs": [
        {
          "output_type": "stream",
          "name": "stdout",
          "text": [
            "The MSE for the combined unigram and trigram model is: 1.552306314352251\n"
          ]
        }
      ]
    },
    {
      "cell_type": "code",
      "metadata": {
        "id": "FJDIvp0pa2fm"
      },
      "source": [
        "wordSort = list(zip(theta[:-1], words))\n",
        "wordSort.sort()"
      ],
      "execution_count": null,
      "outputs": []
    },
    {
      "cell_type": "code",
      "metadata": {
        "colab": {
          "base_uri": "https://localhost:8080/"
        },
        "id": "A0r937Ova5ft",
        "outputId": "0efc9092-b85c-45d6-8ed2-6f8e319605ae"
      },
      "source": [
        "## 10 most negative tokens\n",
        "wordSort[:10]"
      ],
      "execution_count": null,
      "outputs": [
        {
          "output_type": "execute_result",
          "data": {
            "text/plain": [
              "[(-0.7266698885094572, 'on the dress'),\n",
              " (-0.6976947367128599, 'vibrant'),\n",
              " (-0.6097169125007252, 'ordering'),\n",
              " (-0.572824483162106, 'outfit'),\n",
              " (-0.5442463623759888, 'across'),\n",
              " (-0.44697266766743726, 'issues'),\n",
              " (-0.36016957600172567, 'details'),\n",
              " (-0.35787156400896836, 'every'),\n",
              " (-0.33604562931815973, 'skin'),\n",
              " (-0.2980082831012176, 'best')]"
            ]
          },
          "metadata": {},
          "execution_count": 150
        }
      ]
    },
    {
      "cell_type": "code",
      "metadata": {
        "colab": {
          "base_uri": "https://localhost:8080/"
        },
        "id": "fDLCMhH1a7-k",
        "outputId": "711a759e-5d91-4cf6-8637-01419c35e048"
      },
      "source": [
        "## 10 most positive tokens\n",
        "wordSort[-10:]"
      ],
      "execution_count": null,
      "outputs": [
        {
          "output_type": "execute_result",
          "data": {
            "text/plain": [
              "[(0.30644685529065263, 'loved this dress'),\n",
              " (0.32383034964084445, 'i paired it'),\n",
              " (0.33171664124344313, 'them'),\n",
              " (0.3333338861566059, 'this for my'),\n",
              " (0.34120179603943385, 'perfect'),\n",
              " (0.35360729868761476, 'bachelorette'),\n",
              " (0.3554265128650439, 'the perfect length'),\n",
              " (0.3560546557281152, 'tape'),\n",
              " (0.36524067281495937, 'consider'),\n",
              " (0.38635638121976645, 'helped')]"
            ]
          },
          "metadata": {},
          "execution_count": 151
        }
      ]
    },
    {
      "cell_type": "markdown",
      "metadata": {
        "id": "2HzQ0Kn-bAq0"
      },
      "source": [
        "## **(F) Bigram + Trigram Model**"
      ]
    },
    {
      "cell_type": "code",
      "metadata": {
        "id": "N37KC6y2a-Gh"
      },
      "source": [
        "wordCount = defaultdict(int)\n",
        "punctuation = set(string.punctuation)\n",
        "for d in Clean_Data:\n",
        "    r = ''.join([c for c in d['review_text'].lower() if not c in punctuation])\n",
        "    ws = r.split()\n",
        "    ws2 = [' '.join(x) for x in list(zip(ws[:-1],ws[1:]))]\n",
        "    ws3 = [' '.join(x) for x in list(zip(ws[:-2],ws[1:-1],ws[2:]))]\n",
        "    for w in ws2 + ws3:\n",
        "        wordCount[w] += 1\n",
        "\n",
        "counts = [(wordCount[w], w) for w in wordCount]\n",
        "counts.sort()\n",
        "counts.reverse()"
      ],
      "execution_count": null,
      "outputs": []
    },
    {
      "cell_type": "code",
      "metadata": {
        "id": "oBhBiv1EbLoJ"
      },
      "source": [
        "words = [x[1] for x in counts[:1000]]"
      ],
      "execution_count": null,
      "outputs": []
    },
    {
      "cell_type": "code",
      "metadata": {
        "id": "j2hiXvTpbOfs"
      },
      "source": [
        "wordId = dict(zip(words, range(len(words))))\n",
        "wordSet = set(words)"
      ],
      "execution_count": null,
      "outputs": []
    },
    {
      "cell_type": "code",
      "metadata": {
        "id": "HpTN9rZ3bRAZ"
      },
      "source": [
        "def feature_bi_tri(datum):\n",
        "    feat = [0]*len(words)\n",
        "    r = ''.join([c for c in datum['review_text'].lower() if not c in punctuation])\n",
        "    ws = r.split()\n",
        "    ws2 = [' '.join(x) for x in list(zip(ws[:-1],ws[1:]))]\n",
        "    ws3 = [' '.join(x) for x in list(zip(ws[:-2],ws[1:-1],ws[2:]))]\n",
        "    for w in ws2 + ws3:\n",
        "        if w in words:\n",
        "            feat[wordId[w]] += 1\n",
        "    feat.append(1)\n",
        "    return feat"
      ],
      "execution_count": null,
      "outputs": []
    },
    {
      "cell_type": "code",
      "metadata": {
        "id": "Ni_C_HjzbXdX"
      },
      "source": [
        "## Feature Extraction\n",
        "X = [feature_bi_tri(d) for d in Clean_Data]\n",
        "y = [d['rating'] for d in Clean_Data]"
      ],
      "execution_count": null,
      "outputs": []
    },
    {
      "cell_type": "code",
      "metadata": {
        "id": "BPdQnfIrbbBM"
      },
      "source": [
        "X_train, X_test, y_train, y_test = train_test_split(X, y, test_size=0.30, random_state=41)"
      ],
      "execution_count": null,
      "outputs": []
    },
    {
      "cell_type": "code",
      "metadata": {
        "colab": {
          "base_uri": "https://localhost:8080/"
        },
        "id": "Ns8Kq2h8OxB6",
        "outputId": "038e1e5d-9c57-457d-b3d2-9ce4f9444730"
      },
      "source": [
        "ridgecv = linear_model.RidgeCV(alphas = alphas, scoring = 'neg_mean_squared_error', normalize = True)\n",
        "ridgecv.fit(X_train, y_train)\n",
        "ridgecv.alpha_"
      ],
      "execution_count": null,
      "outputs": [
        {
          "output_type": "stream",
          "name": "stderr",
          "text": [
            "/usr/local/lib/python3.7/dist-packages/sklearn/linear_model/_base.py:145: FutureWarning: 'normalize' was deprecated in version 1.0 and will be removed in 1.2.\n",
            "If you wish to scale the data, use Pipeline with a StandardScaler in a preprocessing stage. To reproduce the previous behavior:\n",
            "\n",
            "from sklearn.pipeline import make_pipeline\n",
            "\n",
            "model = make_pipeline(StandardScaler(with_mean=False), _RidgeGCV())\n",
            "\n",
            "If you wish to pass a sample_weight parameter, you need to pass it as a fit parameter to each step of the pipeline as follows:\n",
            "\n",
            "kwargs = {s[0] + '__sample_weight': sample_weight for s in model.steps}\n",
            "model.fit(X, y, **kwargs)\n",
            "\n",
            "\n",
            "  FutureWarning,\n"
          ]
        },
        {
          "output_type": "execute_result",
          "data": {
            "text/plain": [
              "0.020185086292982747"
            ]
          },
          "metadata": {},
          "execution_count": 158
        }
      ]
    },
    {
      "cell_type": "code",
      "metadata": {
        "colab": {
          "base_uri": "https://localhost:8080/"
        },
        "id": "8uRKlCK-Oze_",
        "outputId": "14ff7385-f2f5-41a5-d2bd-169b18b837c4"
      },
      "source": [
        "# Regularized regression on training data\n",
        "clf = linear_model.Ridge(alpha = ridgecv.alpha_, normalize = True)\n",
        "clf.fit(X_train, y_train)"
      ],
      "execution_count": null,
      "outputs": [
        {
          "output_type": "stream",
          "name": "stderr",
          "text": [
            "/usr/local/lib/python3.7/dist-packages/sklearn/linear_model/_base.py:145: FutureWarning: 'normalize' was deprecated in version 1.0 and will be removed in 1.2.\n",
            "If you wish to scale the data, use Pipeline with a StandardScaler in a preprocessing stage. To reproduce the previous behavior:\n",
            "\n",
            "from sklearn.pipeline import make_pipeline\n",
            "\n",
            "model = make_pipeline(StandardScaler(with_mean=False), Ridge())\n",
            "\n",
            "If you wish to pass a sample_weight parameter, you need to pass it as a fit parameter to each step of the pipeline as follows:\n",
            "\n",
            "kwargs = {s[0] + '__sample_weight': sample_weight for s in model.steps}\n",
            "model.fit(X, y, **kwargs)\n",
            "\n",
            "Set parameter alpha to: original_alpha * n_samples. \n",
            "  FutureWarning,\n"
          ]
        },
        {
          "output_type": "execute_result",
          "data": {
            "text/plain": [
              "Ridge(alpha=0.020185086292982747, normalize=True)"
            ]
          },
          "metadata": {},
          "execution_count": 159
        }
      ]
    },
    {
      "cell_type": "code",
      "metadata": {
        "id": "iZ3Y8Q4Obdw0"
      },
      "source": [
        "# # Regularized regression on training data\n",
        "# clf = linear_model.Ridge(1.0, fit_intercept=False)\n",
        "# clf.fit(X_train, y_train)\n",
        "# theta = clf.coef_\n",
        "# #predictions = clf.predict(X)"
      ],
      "execution_count": null,
      "outputs": []
    },
    {
      "cell_type": "code",
      "metadata": {
        "colab": {
          "base_uri": "https://localhost:8080/"
        },
        "id": "aQxBIhTQbgGe",
        "outputId": "06470205-5743-4f4e-ae85-2ca2b1a1997f"
      },
      "source": [
        "## Making Predictions\n",
        "Y_pred = clf.predict(X_test)\n",
        "Y_pred[:10]"
      ],
      "execution_count": null,
      "outputs": [
        {
          "output_type": "execute_result",
          "data": {
            "text/plain": [
              "array([9.02895739, 8.54925658, 9.64294379, 9.88229106, 8.92374823,\n",
              "       4.67733576, 6.97777135, 8.8837263 , 8.8789081 , 8.57015044])"
            ]
          },
          "metadata": {},
          "execution_count": 161
        }
      ]
    },
    {
      "cell_type": "code",
      "metadata": {
        "id": "SvQPuTvBbiNy"
      },
      "source": [
        "## Finding MSE for test data and our predictions\n",
        "MSE_bt = mean_squared_error(y_test, Y_pred)"
      ],
      "execution_count": null,
      "outputs": []
    },
    {
      "cell_type": "code",
      "metadata": {
        "colab": {
          "base_uri": "https://localhost:8080/"
        },
        "id": "FTZQndcmbkdu",
        "outputId": "5a287175-d3e8-4d8a-d087-e3ff5c6a6188"
      },
      "source": [
        "print(\"The MSE for the combined bigram and trigram model is: \"+ str(MSE_bt))"
      ],
      "execution_count": null,
      "outputs": [
        {
          "output_type": "stream",
          "name": "stdout",
          "text": [
            "The MSE for the combined bigram and trigram model is: 1.6108309808776067\n"
          ]
        }
      ]
    },
    {
      "cell_type": "code",
      "metadata": {
        "id": "MNxoq8MXboQw"
      },
      "source": [
        "wordSort = list(zip(theta[:-1], words))\n",
        "wordSort.sort()"
      ],
      "execution_count": null,
      "outputs": []
    },
    {
      "cell_type": "code",
      "metadata": {
        "colab": {
          "base_uri": "https://localhost:8080/"
        },
        "id": "HKHSKm9ZbqqS",
        "outputId": "039357a5-cea1-4748-9a88-f243a22e5bc1"
      },
      "source": [
        "## 10 most negative tokens\n",
        "wordSort[:10]"
      ],
      "execution_count": null,
      "outputs": [
        {
          "output_type": "execute_result",
          "data": {
            "text/plain": [
              "[(-0.7266698885094572, 'of compliments on'),\n",
              " (-0.6976947367128599, 'normally wear a'),\n",
              " (-0.6097169125007252, 'sizing up'),\n",
              " (-0.572824483162106, 'got tons'),\n",
              " (-0.5442463623759888, 'more of'),\n",
              " (-0.44697266766743726, 'though i'),\n",
              " (-0.36016957600172567, 'the knee'),\n",
              " (-0.35787156400896836, 'i felt like'),\n",
              " (-0.33604562931815973, 'because it was'),\n",
              " (-0.2980082831012176, 'would recommend')]"
            ]
          },
          "metadata": {},
          "execution_count": 165
        }
      ]
    },
    {
      "cell_type": "code",
      "metadata": {
        "colab": {
          "base_uri": "https://localhost:8080/"
        },
        "id": "4_jMQX4CbsXL",
        "outputId": "e975d4e0-b62b-4b4a-9c67-0849cb5cbd88"
      },
      "source": [
        "## 10 most positive tokens\n",
        "wordSort[-10:]"
      ],
      "execution_count": null,
      "outputs": [
        {
          "output_type": "execute_result",
          "data": {
            "text/plain": [
              "[(0.30644685529065263, 'want to'),\n",
              " (0.32383034964084445, 'comfortable in'),\n",
              " (0.33171664124344313, 'be a'),\n",
              " (0.3333338861566059, 'when you'),\n",
              " (0.34120179603943385, 'with a'),\n",
              " (0.35360729868761476, 'i wanted to'),\n",
              " (0.3554265128650439, 'dress was very'),\n",
              " (0.3560546557281152, 'wear a bra'),\n",
              " (0.36524067281495937, 'made the'),\n",
              " (0.38635638121976645, 'the fabric was')]"
            ]
          },
          "metadata": {},
          "execution_count": 166
        }
      ]
    },
    {
      "cell_type": "markdown",
      "metadata": {
        "id": "hPUzptwLb77G"
      },
      "source": [
        "## **(G) Unigram + Bigram + Trigram Model**"
      ]
    },
    {
      "cell_type": "code",
      "metadata": {
        "id": "BdLRhHtXbui7"
      },
      "source": [
        "wordCount = defaultdict(int)\n",
        "punctuation = set(string.punctuation)\n",
        "for d in Clean_Data:\n",
        "    r = ''.join([c for c in d['review_text'].lower() if not c in punctuation])\n",
        "    ws = r.split()\n",
        "    ws2 = [' '.join(x) for x in list(zip(ws[:-1],ws[1:]))]\n",
        "    ws3 = [' '.join(x) for x in list(zip(ws[:-2],ws[1:-1],ws[2:]))]\n",
        "    for w in ws + ws2 + ws3:\n",
        "        wordCount[w] += 1\n",
        "\n",
        "counts = [(wordCount[w], w) for w in wordCount]\n",
        "counts.sort()\n",
        "counts.reverse()"
      ],
      "execution_count": null,
      "outputs": []
    },
    {
      "cell_type": "code",
      "metadata": {
        "id": "vQKXp0WmcLPY"
      },
      "source": [
        "words = [x[1] for x in counts[:1000]]"
      ],
      "execution_count": null,
      "outputs": []
    },
    {
      "cell_type": "code",
      "metadata": {
        "id": "kC9z1sKbcOuu"
      },
      "source": [
        "wordId = dict(zip(words, range(len(words))))\n",
        "wordSet = set(words)"
      ],
      "execution_count": null,
      "outputs": []
    },
    {
      "cell_type": "code",
      "metadata": {
        "id": "yX0uwOvHcQyf"
      },
      "source": [
        "def feature_uni_bi_tri(datum):\n",
        "    feat = [0]*len(words)\n",
        "    r = ''.join([c for c in datum['review_text'].lower() if not c in punctuation])\n",
        "    ws = r.split()\n",
        "    ws2 = [' '.join(x) for x in list(zip(ws[:-1],ws[1:]))]\n",
        "    ws3 = [' '.join(x) for x in list(zip(ws[:-2],ws[1:-1],ws[2:]))]\n",
        "    for w in ws + ws2 + ws3:\n",
        "        if w in words:\n",
        "            feat[wordId[w]] += 1\n",
        "    feat.append(1)\n",
        "    return feat"
      ],
      "execution_count": null,
      "outputs": []
    },
    {
      "cell_type": "code",
      "metadata": {
        "id": "gOoSCILiccKm"
      },
      "source": [
        "## Feature Extraction\n",
        "X = [feature_uni_bi_tri(d) for d in Clean_Data]\n",
        "y = [d['rating'] for d in Clean_Data]"
      ],
      "execution_count": null,
      "outputs": []
    },
    {
      "cell_type": "code",
      "metadata": {
        "id": "HqNV9Cfucxnn"
      },
      "source": [
        "X_train, X_test, y_train, y_test = train_test_split(X, y, test_size=0.30, random_state=41)"
      ],
      "execution_count": null,
      "outputs": []
    },
    {
      "cell_type": "code",
      "metadata": {
        "colab": {
          "base_uri": "https://localhost:8080/"
        },
        "id": "NKTwHrFfO8YD",
        "outputId": "ac092d56-18ee-411f-837f-7aefbcf52d59"
      },
      "source": [
        "ridgecv = linear_model.RidgeCV(alphas = alphas, scoring = 'neg_mean_squared_error', normalize = True)\n",
        "ridgecv.fit(X_train, y_train)\n",
        "ridgecv.alpha_"
      ],
      "execution_count": null,
      "outputs": [
        {
          "output_type": "stream",
          "name": "stderr",
          "text": [
            "/usr/local/lib/python3.7/dist-packages/sklearn/linear_model/_base.py:145: FutureWarning: 'normalize' was deprecated in version 1.0 and will be removed in 1.2.\n",
            "If you wish to scale the data, use Pipeline with a StandardScaler in a preprocessing stage. To reproduce the previous behavior:\n",
            "\n",
            "from sklearn.pipeline import make_pipeline\n",
            "\n",
            "model = make_pipeline(StandardScaler(with_mean=False), _RidgeGCV())\n",
            "\n",
            "If you wish to pass a sample_weight parameter, you need to pass it as a fit parameter to each step of the pipeline as follows:\n",
            "\n",
            "kwargs = {s[0] + '__sample_weight': sample_weight for s in model.steps}\n",
            "model.fit(X, y, **kwargs)\n",
            "\n",
            "\n",
            "  FutureWarning,\n"
          ]
        },
        {
          "output_type": "execute_result",
          "data": {
            "text/plain": [
              "0.020185086292982747"
            ]
          },
          "metadata": {},
          "execution_count": 173
        }
      ]
    },
    {
      "cell_type": "code",
      "metadata": {
        "colab": {
          "base_uri": "https://localhost:8080/"
        },
        "id": "eAYYRq8WO-Su",
        "outputId": "d69abcf7-f5a1-4a86-9707-fef10adf5a41"
      },
      "source": [
        "# Regularized regression on training data\n",
        "clf = linear_model.Ridge(alpha = ridgecv.alpha_, normalize = True)\n",
        "clf.fit(X_train, y_train)"
      ],
      "execution_count": null,
      "outputs": [
        {
          "output_type": "stream",
          "name": "stderr",
          "text": [
            "/usr/local/lib/python3.7/dist-packages/sklearn/linear_model/_base.py:145: FutureWarning: 'normalize' was deprecated in version 1.0 and will be removed in 1.2.\n",
            "If you wish to scale the data, use Pipeline with a StandardScaler in a preprocessing stage. To reproduce the previous behavior:\n",
            "\n",
            "from sklearn.pipeline import make_pipeline\n",
            "\n",
            "model = make_pipeline(StandardScaler(with_mean=False), Ridge())\n",
            "\n",
            "If you wish to pass a sample_weight parameter, you need to pass it as a fit parameter to each step of the pipeline as follows:\n",
            "\n",
            "kwargs = {s[0] + '__sample_weight': sample_weight for s in model.steps}\n",
            "model.fit(X, y, **kwargs)\n",
            "\n",
            "Set parameter alpha to: original_alpha * n_samples. \n",
            "  FutureWarning,\n"
          ]
        },
        {
          "output_type": "execute_result",
          "data": {
            "text/plain": [
              "Ridge(alpha=0.020185086292982747, normalize=True)"
            ]
          },
          "metadata": {},
          "execution_count": 174
        }
      ]
    },
    {
      "cell_type": "code",
      "metadata": {
        "id": "sRxsUb8ndbCy"
      },
      "source": [
        "# # Regularized regression on training data\n",
        "# clf = linear_model.Ridge(1.0, fit_intercept=False)\n",
        "# clf.fit(X_train, y_train)\n",
        "# theta = clf.coef_\n",
        "# #predictions = clf.predict(X)"
      ],
      "execution_count": null,
      "outputs": []
    },
    {
      "cell_type": "code",
      "metadata": {
        "colab": {
          "base_uri": "https://localhost:8080/"
        },
        "id": "K8maMbAAddVq",
        "outputId": "2e805ceb-ab32-4f85-f927-0d8958fd9a0e"
      },
      "source": [
        "## Making Predictions\n",
        "Y_pred = clf.predict(X_test)\n",
        "Y_pred[:10]"
      ],
      "execution_count": null,
      "outputs": [
        {
          "output_type": "execute_result",
          "data": {
            "text/plain": [
              "array([9.19022106, 8.61415613, 9.69157422, 9.68157008, 9.43293341,\n",
              "       3.17131913, 6.99989785, 9.04668022, 8.59777921, 9.04491589])"
            ]
          },
          "metadata": {},
          "execution_count": 176
        }
      ]
    },
    {
      "cell_type": "code",
      "metadata": {
        "id": "541KuQpidfl4"
      },
      "source": [
        "## Finding MSE for test data and our predictions\n",
        "MSE_ubt = mean_squared_error(y_test, Y_pred)"
      ],
      "execution_count": null,
      "outputs": []
    },
    {
      "cell_type": "code",
      "metadata": {
        "colab": {
          "base_uri": "https://localhost:8080/"
        },
        "id": "j0FbdBIRdh1D",
        "outputId": "12f7b72e-4512-4600-f5e3-df12454f6428"
      },
      "source": [
        "print(\"The MSE for the combined unigram, bigram and trigram model is: \"+ str(MSE_ubt))"
      ],
      "execution_count": null,
      "outputs": [
        {
          "output_type": "stream",
          "name": "stdout",
          "text": [
            "The MSE for the combined unigram, bigram and trigram model is: 1.5483997870017656\n"
          ]
        }
      ]
    },
    {
      "cell_type": "code",
      "metadata": {
        "id": "2RUYHMeJdmyk"
      },
      "source": [
        "wordSort = list(zip(theta[:-1], words))\n",
        "wordSort.sort()"
      ],
      "execution_count": null,
      "outputs": []
    },
    {
      "cell_type": "code",
      "metadata": {
        "colab": {
          "base_uri": "https://localhost:8080/"
        },
        "id": "Fx3jMUMldo7v",
        "outputId": "5826411e-0069-4ae0-a5be-209e43d3a8db"
      },
      "source": [
        "## 10 most negative tokens\n",
        "wordSort[:10]"
      ],
      "execution_count": null,
      "outputs": [
        {
          "output_type": "execute_result",
          "data": {
            "text/plain": [
              "[(-0.7266698885094572, 'was able'),\n",
              " (-0.6976947367128599, 'experience'),\n",
              " (-0.6097169125007252, 'too much'),\n",
              " (-0.572824483162106, 'as the'),\n",
              " (-0.5442463623759888, 'is beautiful'),\n",
              " (-0.44697266766743726, 'almost'),\n",
              " (-0.36016957600172567, 'and got'),\n",
              " (-0.35787156400896836, 'say'),\n",
              " (-0.33604562931815973, 'the dress fit'),\n",
              " (-0.2980082831012176, 'that it')]"
            ]
          },
          "metadata": {},
          "execution_count": 180
        }
      ]
    },
    {
      "cell_type": "code",
      "metadata": {
        "colab": {
          "base_uri": "https://localhost:8080/"
        },
        "id": "u4g36qcMdquT",
        "outputId": "e333c871-9a2d-4e7b-d84c-ab613bd9aeb7"
      },
      "source": [
        "## 10 most positive tokens\n",
        "wordSort[-10:]"
      ],
      "execution_count": null,
      "outputs": [
        {
          "output_type": "execute_result",
          "data": {
            "text/plain": [
              "[(0.30644685529065263, 'perfect for'),\n",
              " (0.32383034964084445, 'and i got'),\n",
              " (0.33171664124344313, 'length was'),\n",
              " (0.3333338861566059, 'this for a'),\n",
              " (0.34120179603943385, 'little'),\n",
              " (0.35360729868761476, 'flats'),\n",
              " (0.3554265128650439, 'jacket'),\n",
              " (0.3560546557281152, 'a lot'),\n",
              " (0.36524067281495937, 'this to a'),\n",
              " (0.38635638121976645, 'found')]"
            ]
          },
          "metadata": {},
          "execution_count": 181
        }
      ]
    },
    {
      "cell_type": "code",
      "metadata": {
        "colab": {
          "base_uri": "https://localhost:8080/",
          "height": 296
        },
        "id": "K8tsoR8BfNGE",
        "outputId": "70334172-b0de-425c-a538-77e2b0deaae8"
      },
      "source": [
        "## Plotting the y_test and Y_pred\n",
        "x = y_test\n",
        "y = Y_pred\n",
        "\n",
        "plt.plot(x, y, 'o', color='black')\n",
        "\n",
        "plt.xlabel(\"Actual Ratings\")\n",
        "plt.ylabel(\"Predicted Ratings\")"
      ],
      "execution_count": null,
      "outputs": [
        {
          "output_type": "execute_result",
          "data": {
            "text/plain": [
              "Text(0, 0.5, 'Predicted Ratings')"
            ]
          },
          "metadata": {},
          "execution_count": 207
        },
        {
          "output_type": "display_data",
          "data": {
            "image/png": "[encoded data removed]",
            "text/plain": [
              "<Figure size 432x288 with 1 Axes>"
            ]
          },
          "metadata": {}
        }
      ]
    },
    {
      "cell_type": "code",
      "metadata": {
        "id": "vxKDfEM0uWMi"
      },
      "source": [],
      "execution_count": null,
      "outputs": []
    },
    {
      "cell_type": "markdown",
      "metadata": {
        "id": "0hL9UfKacQSL"
      },
      "source": [
        "## Plotting the values of MSE for n-grams made"
      ]
    },
    {
      "cell_type": "code",
      "metadata": {
        "colab": {
          "base_uri": "https://localhost:8080/"
        },
        "id": "l_rYWODgY2xG",
        "outputId": "fc7535b6-04a1-4d8d-ac02-aad254fed29b"
      },
      "source": [
        "MSE_values = [MSE_uni,MSE_bi,MSE_tri,MSE_ub,MSE_ut,MSE_bt,MSE_ubt]\n",
        "MSE_values"
      ],
      "execution_count": null,
      "outputs": [
        {
          "output_type": "execute_result",
          "data": {
            "text/plain": [
              "[1.5467625234806293,\n",
              " 1.5983417771019321,\n",
              " 1.7279853352074996,\n",
              " 1.5403161714922609,\n",
              " 1.552306314352251,\n",
              " 1.6108309808776067,\n",
              " 1.5483997870017656]"
            ]
          },
          "metadata": {},
          "execution_count": 195
        }
      ]
    },
    {
      "cell_type": "code",
      "metadata": {
        "id": "7Cv_Lq_VafHY"
      },
      "source": [
        "MSE = ['MSE_U','MSE_B','MSE_T','MSE_UB','MSE_UT','MSE_BT','MSE_UBT']"
      ],
      "execution_count": null,
      "outputs": []
    },
    {
      "cell_type": "code",
      "metadata": {
        "colab": {
          "base_uri": "https://localhost:8080/",
          "height": 352
        },
        "id": "4wyt_lW8ZCvl",
        "outputId": "e850ebeb-96bc-477b-dc80-3b3fa33f43ba"
      },
      "source": [
        "plt.bar(MSE,MSE_values,width=0.8,bottom=None,align='center',color = 'rgbkymc')\n",
        "plt.ylabel('MSEs')\n",
        "plt.xlabel('Models')"
      ],
      "execution_count": null,
      "outputs": [
        {
          "output_type": "stream",
          "name": "stderr",
          "text": [
            "/usr/local/lib/python3.7/dist-packages/ipykernel_launcher.py:1: MatplotlibDeprecationWarning: Using a string of single character colors as a color sequence is deprecated. Use an explicit list instead.\n",
            "  \"\"\"Entry point for launching an IPython kernel.\n"
          ]
        },
        {
          "output_type": "execute_result",
          "data": {
            "text/plain": [
              "Text(0.5, 0, 'Models')"
            ]
          },
          "metadata": {},
          "execution_count": 262
        },
        {
          "output_type": "display_data",
          "data": {
            "image/png": "[encoded data removed]",
            "text/plain": [
              "<Figure size 432x288 with 1 Axes>"
            ]
          },
          "metadata": {}
        }
      ]
    },
    {
      "cell_type": "markdown",
      "metadata": {
        "id": "rVnsNOYNcXnt"
      },
      "source": [
        "## Combination of Unigram and Bigram model returns the least MSE"
      ]
    },
    {
      "cell_type": "markdown",
      "metadata": {
        "id": "XR1uDqMM8DAW"
      },
      "source": [
        "## Tf-IDF model to get the most similar review/user, ID and the rating given based on the input of the user given. \n",
        "## We will use the combination of unigram+bigram model here as it gives the best MSE value \n",
        "## I'm using a df_tfidf data I made as I had to add a review id column so didn't want to mess up the Clean_Data"
      ]
    },
    {
      "cell_type": "code",
      "metadata": {
        "id": "6Ics6R0HdsZq",
        "colab": {
          "base_uri": "https://localhost:8080/"
        },
        "outputId": "43910224-57e6-4fab-d415-20602c1f10fb"
      },
      "source": [
        "df_tfidf[0]"
      ],
      "execution_count": null,
      "outputs": [
        {
          "output_type": "execute_result",
          "data": {
            "text/plain": [
              "{'Review_ID_rand': 85972849,\n",
              " 'age': 28.0,\n",
              " 'body type': 'hourglass',\n",
              " 'bust size': '34d',\n",
              " 'category': 'romper',\n",
              " 'fit': 'fit',\n",
              " 'height': 68.0,\n",
              " 'item_id': '2260466',\n",
              " 'rating': 10,\n",
              " 'rented for': 'vacation',\n",
              " 'review_date': Timestamp('2016-04-20 00:00:00'),\n",
              " 'review_date_ts': 1461110400,\n",
              " 'review_summary': 'So many compliments!',\n",
              " 'review_text': \"An adorable romper! Belt and zipper were a little hard to navigate in a full day of wear/bathroom use, but that's to be expected. Wish it had pockets, but other than that-- absolutely perfect! I got a million compliments.\",\n",
              " 'size': 14,\n",
              " 'user_id': '420272',\n",
              " 'user_id_len': 6,\n",
              " 'weight': 137.0}"
            ]
          },
          "metadata": {},
          "execution_count": 203
        }
      ]
    },
    {
      "cell_type": "code",
      "metadata": {
        "id": "kPpihuCEctL_"
      },
      "source": [],
      "execution_count": null,
      "outputs": []
    },
    {
      "cell_type": "code",
      "metadata": {
        "id": "u1DnwPl5Bq5e"
      },
      "source": [
        "## Uni+Bi model\n",
        " \n",
        "wordCount = defaultdict(int)\n",
        "punctuation = set(string.punctuation)\n",
        "for d in df_tfidf:\n",
        "    r = ''.join([c for c in d['review_text'].lower() if not c in punctuation])\n",
        "    ws = r.split()\n",
        "    ws2 = [' '.join(x) for x in list(zip(ws[:-1],ws[1:]))]\n",
        "    for w in ws + ws2:\n",
        "        wordCount[w] += 1\n",
        "\n",
        "counts = [(wordCount[w], w) for w in wordCount]\n",
        "counts.sort()\n",
        "counts.reverse()"
      ],
      "execution_count": null,
      "outputs": []
    },
    {
      "cell_type": "code",
      "metadata": {
        "id": "rH2435NYGwut"
      },
      "source": [
        "words = [x[1] for x in counts[:1000]]"
      ],
      "execution_count": null,
      "outputs": []
    },
    {
      "cell_type": "code",
      "metadata": {
        "colab": {
          "base_uri": "https://localhost:8080/"
        },
        "id": "2rhL7ERaHkeB",
        "outputId": "425da9db-a664-4d10-b2de-e080dc40e33b"
      },
      "source": [
        "words[:10]"
      ],
      "execution_count": null,
      "outputs": [
        {
          "output_type": "execute_result",
          "data": {
            "text/plain": [
              "['the', 'i', 'a', 'and', 'it', 'was', 'dress', 'to', 'this', 'but']"
            ]
          },
          "metadata": {},
          "execution_count": 210
        }
      ]
    },
    {
      "cell_type": "code",
      "metadata": {
        "id": "SWFatDJQJJ5r"
      },
      "source": [
        "df1 = defaultdict(int)\n",
        "for d in df_tfidf:\n",
        "    r = ''.join([c for c in d['review_text'].lower() if not c in punctuation])\n",
        "    ws = r.split()\n",
        "    ws2 = [' '.join(x) for x in list(zip(ws[:-1],ws[1:]))]\n",
        "    for w in set(ws + ws2):\n",
        "        df1[w] += 1"
      ],
      "execution_count": null,
      "outputs": []
    },
    {
      "cell_type": "code",
      "metadata": {
        "colab": {
          "base_uri": "https://localhost:8080/"
        },
        "id": "qkHYL9wnPoy1",
        "outputId": "c4c904f3-19f6-4893-9090-5ae8302c19a2"
      },
      "source": [
        "len(df_tfidf)"
      ],
      "execution_count": null,
      "outputs": [
        {
          "output_type": "execute_result",
          "data": {
            "text/plain": [
              "192544"
            ]
          },
          "metadata": {},
          "execution_count": 212
        }
      ]
    },
    {
      "cell_type": "code",
      "metadata": {
        "id": "2qAMsuQghtO_"
      },
      "source": [
        "# users = df['user_id'].to_list()"
      ],
      "execution_count": null,
      "outputs": []
    },
    {
      "cell_type": "code",
      "metadata": {
        "colab": {
          "base_uri": "https://localhost:8080/"
        },
        "id": "zKFBRw6qPbYo",
        "outputId": "6fa5c324-1e82-4889-ad5d-8036f2d950bd"
      },
      "source": [
        "print(\"Select a Review Number between 1 and 192544 when prompted\")\n",
        "Review_number = input(\"Provide a Number: \")\n",
        "Review_number = int(Review_number)\n",
        "if Review_number <= len(df_tfidf):\n",
        "  query = df_tfidf[Review_number]\n",
        "else:\n",
        "  print(\"You selected a review number out of bounds, by default selecting the first review\")\n",
        "  query = df_tfidf[0]"
      ],
      "execution_count": null,
      "outputs": [
        {
          "name": "stdout",
          "output_type": "stream",
          "text": [
            "Select a Review Number between 1 and 192544 when prompted\n",
            "Provide a Number: 3\n"
          ]
        }
      ]
    },
    {
      "cell_type": "code",
      "metadata": {
        "id": "7yCZjw6EhOLn"
      },
      "source": [
        "# *Not needed*\n",
        "# print(\"Select a User ID between 100011 and 999997 when prompted\")\n",
        "# User_number = input(\"Provide a Number: \")\n",
        "# User_number = int(User_number)\n",
        "# if User_number in users:\n",
        "#   query = df_tfidf[User_number]\n",
        "# else:\n",
        "#   print(\"You selected a User ID out of bounds, by default selecting the first User Id in dataset\")\n",
        "#   query = df_tfidf[0]"
      ],
      "execution_count": null,
      "outputs": []
    },
    {
      "cell_type": "code",
      "metadata": {
        "colab": {
          "base_uri": "https://localhost:8080/"
        },
        "id": "r0LnROagJweO",
        "outputId": "ece9500b-ec9e-441f-fb1e-1f98190bf2dc"
      },
      "source": [
        "query"
      ],
      "execution_count": null,
      "outputs": [
        {
          "output_type": "execute_result",
          "data": {
            "text/plain": [
              "{'Review_ID_rand': 47210419,\n",
              " 'age': 34.0,\n",
              " 'body type': 'pear',\n",
              " 'bust size': '34c',\n",
              " 'category': 'dress',\n",
              " 'fit': 'fit',\n",
              " 'height': 65.0,\n",
              " 'item_id': '126335',\n",
              " 'rating': 8,\n",
              " 'rented for': 'formal affair',\n",
              " 'review_date': Timestamp('2014-02-12 00:00:00'),\n",
              " 'review_date_ts': 1392163200,\n",
              " 'review_summary': 'Dress arrived on time and in perfect condition. ',\n",
              " 'review_text': \"I rented this for my company's black tie awards banquet.  I liked that this dress was short but was a little fancier with the sequins. (I generally don't care for long dresses.)  I would describe the color as more rose gold than yellow gold.  I have blonde hair and fair skin, and the color was very flattering.  This is a very forgiving dress! It's form fitting without making you feel like you're squeezed into it.  I would rent this one again.  Highly recommend!\",\n",
              " 'size': 8,\n",
              " 'user_id': '909926',\n",
              " 'user_id_len': 6,\n",
              " 'weight': 135.0}"
            ]
          },
          "metadata": {},
          "execution_count": 218
        }
      ]
    },
    {
      "cell_type": "code",
      "metadata": {
        "id": "HB2q5B-cJyWs"
      },
      "source": [
        "tf = defaultdict(int)\n",
        "r = ''.join([c for c in query['review_text'].lower() if not c in punctuation])\n",
        "ws = r.split()\n",
        "ws2 = [' '.join(x) for x in list(zip(ws[:-1],ws[1:]))]\n",
        "for w in ws + ws2:\n",
        "    tf[w] = 1\n",
        "    \n",
        "tfidf = dict(zip(words,[tf[w] * math.log2(len(df_tfidf) / df1[w]) for w in words]))\n",
        "tfidfQuery = [tf[w] * math.log2(len(df_tfidf) / df1[w]) for w in words]"
      ],
      "execution_count": null,
      "outputs": []
    },
    {
      "cell_type": "code",
      "metadata": {
        "id": "NA1zWQhhKP5Y"
      },
      "source": [
        "maxTf = [(tf[w],w) for w in words]\n",
        "maxTf.sort(reverse=True)\n",
        "maxTfIdf = [(tfidf[w],w) for w in words]\n",
        "maxTfIdf.sort(reverse=True)"
      ],
      "execution_count": null,
      "outputs": []
    },
    {
      "cell_type": "code",
      "metadata": {
        "colab": {
          "base_uri": "https://localhost:8080/"
        },
        "id": "sxrxLPF5KTAZ",
        "outputId": "d1f2d3a9-2823-4e83-c7b4-b3a0267689fa"
      },
      "source": [
        "maxTfIdf[:10]"
      ],
      "execution_count": null,
      "outputs": [
        {
          "output_type": "execute_result",
          "data": {
            "text/plain": [
              "[(6.2255928996960535, 'feel like'),\n",
              " (6.132763875257042, 'skin'),\n",
              " (5.926383101292672, 'i liked'),\n",
              " (5.884172392311414, 'form fitting'),\n",
              " (5.761225332150447, 'color was'),\n",
              " (5.7386449599975125, 'forgiving'),\n",
              " (5.717200708258449, 'form'),\n",
              " (5.661147903038946, 'black tie'),\n",
              " (5.657361299707961, 'but was'),\n",
              " (5.525886598107444, 'the sequins')]"
            ]
          },
          "metadata": {},
          "execution_count": 221
        }
      ]
    },
    {
      "cell_type": "code",
      "metadata": {
        "id": "DPzM0GDHKVN3"
      },
      "source": [
        "def Cosine(x1,x2):\n",
        "    numer = 0\n",
        "    norm1 = 0\n",
        "    norm2 = 0\n",
        "    for a1,a2 in zip(x1,x2):\n",
        "        numer += a1*a2\n",
        "        norm1 += a1**2\n",
        "        norm2 += a2**2\n",
        "    if norm1*norm2:\n",
        "        return numer / math.sqrt(norm1*norm2)\n",
        "    return 0"
      ],
      "execution_count": null,
      "outputs": []
    },
    {
      "cell_type": "code",
      "metadata": {
        "id": "l_H5PrFZKYTa"
      },
      "source": [
        "similarities = []\n",
        "for query2 in df_tfidf:\n",
        "    tf = defaultdict(int)\n",
        "    r = ''.join([c for c in query2['review_text'].lower() if not c in punctuation])\n",
        "    ws = r.split()\n",
        "    ws2 = [' '.join(x) for x in list(zip(ws[:-1],ws[1:]))]\n",
        "    for w in ws + ws2:\n",
        "        tf[w] = 1\n",
        "    tfidf2 = [tf[w] * math.log2(len(df_tfidf) / df1[w]) for w in words]\n",
        "    similarities.append((Cosine(tfidfQuery, tfidf2),query2['user_id'], query2['review_text'], query2['Review_ID_rand'],query2['rating'],query2['fit']))"
      ],
      "execution_count": null,
      "outputs": []
    },
    {
      "cell_type": "code",
      "metadata": {
        "id": "JYpUICHYKtBW"
      },
      "source": [
        "similarities.sort(reverse=True)"
      ],
      "execution_count": null,
      "outputs": []
    },
    {
      "cell_type": "code",
      "metadata": {
        "colab": {
          "base_uri": "https://localhost:8080/"
        },
        "id": "JjUlvlMNKv7O",
        "outputId": "e9a9ba99-e369-4465-f71a-533e6d3a3f81"
      },
      "source": [
        "similarities[1]"
      ],
      "execution_count": null,
      "outputs": [
        {
          "output_type": "execute_result",
          "data": {
            "text/plain": [
              "(0.3689325762015545,\n",
              " '51755',\n",
              " 'This is a very form fitting dress!',\n",
              " 77425766,\n",
              " 8,\n",
              " 'small')"
            ]
          },
          "metadata": {},
          "execution_count": 230
        }
      ]
    },
    {
      "cell_type": "code",
      "metadata": {
        "colab": {
          "base_uri": "https://localhost:8080/"
        },
        "id": "YNXrOGG5qv0T",
        "outputId": "f52c54c1-aba4-4311-c036-9052f3b59058"
      },
      "source": [
        "print(\"The most similar user based on the review is {}, with {} rating given by the most similar user\".format(str(similarities[1][1]),str(similarities[1][4])))"
      ],
      "execution_count": null,
      "outputs": [
        {
          "output_type": "stream",
          "name": "stdout",
          "text": [
            "The most similar user based on the review is 51755, with 8 rating given by the most similar user\n"
          ]
        }
      ]
    },
    {
      "cell_type": "markdown",
      "metadata": {
        "id": "e-SnEYouT8kR"
      },
      "source": [
        "## Using the tensorflow to create 3 more models like we did in homework 4 to predict the ratings"
      ]
    },
    {
      "cell_type": "code",
      "metadata": {
        "colab": {
          "base_uri": "https://localhost:8080/"
        },
        "id": "eGYX2UuGX5iy",
        "outputId": "1fc10566-7830-47f3-a0b1-9f733e9b464c"
      },
      "source": [
        "Clean_Data[158]"
      ],
      "execution_count": null,
      "outputs": [
        {
          "output_type": "execute_result",
          "data": {
            "text/plain": [
              "{'age': 29.0,\n",
              " 'body type': 'hourglass',\n",
              " 'bust size': '36c',\n",
              " 'category': 'gown',\n",
              " 'fit': 'small',\n",
              " 'height': 68.0,\n",
              " 'item_id': '131533',\n",
              " 'rating': 10,\n",
              " 'rented for': 'wedding',\n",
              " 'review_date': Timestamp('2016-04-18 00:00:00'),\n",
              " 'review_date_ts': 1460937600,\n",
              " 'review_summary': 'classy, beautiful color',\n",
              " 'review_text': \"this is a fun dress- it's very regal looking. The blue color is so bright and pretty, it will definitely catch some eyes. I got lots of compliments. it's also pretty comfortable. I didn't wear a bra even though I have a C cup chest, and it was okay because of the conservative shape of the front/top. I love the way the dress flows. \",\n",
              " 'size': 9,\n",
              " 'user_id': '500128',\n",
              " 'weight': 145.0}"
            ]
          },
          "metadata": {},
          "execution_count": 201
        }
      ]
    },
    {
      "cell_type": "code",
      "metadata": {
        "id": "Lfsw8EncM2eh"
      },
      "source": [
        "userIDs = {}\n",
        "itemIDs = {}\n",
        "interactions = []\n",
        "interactionsPerUser = defaultdict(list) ## For filtering the interactions.\n",
        "\n",
        "for d in Clean_Data:\n",
        "    u = d['user_id']\n",
        "    i = d['item_id']\n",
        "    t = d['review_date_ts']\n",
        "    r = d['rating']\n",
        "    #dt = dateutil.parser.parse(t)\n",
        "    #t = int(dt.timestamp())\n",
        "    if not u in userIDs: userIDs[u] = len(userIDs)\n",
        "    if not i in itemIDs: itemIDs[i] = len(itemIDs)\n",
        "    interactions.append((t,u,i,r))\n",
        "    interactionsPerUser[u].append((t,i,r))"
      ],
      "execution_count": null,
      "outputs": []
    },
    {
      "cell_type": "code",
      "metadata": {
        "colab": {
          "base_uri": "https://localhost:8080/"
        },
        "id": "eZga0LiqYN7i",
        "outputId": "905a73fc-07a2-430d-8e5f-3fc5ccaa55a9"
      },
      "source": [
        "len(interactionsPerUser)"
      ],
      "execution_count": null,
      "outputs": [
        {
          "output_type": "execute_result",
          "data": {
            "text/plain": [
              "105571"
            ]
          },
          "metadata": {},
          "execution_count": 188
        }
      ]
    },
    {
      "cell_type": "code",
      "metadata": {
        "colab": {
          "base_uri": "https://localhost:8080/"
        },
        "id": "xLj2v9AhYRKR",
        "outputId": "dd90ca1f-848c-48c7-dc48-b403224d891c"
      },
      "source": [
        "interactions[110]"
      ],
      "execution_count": null,
      "outputs": [
        {
          "output_type": "execute_result",
          "data": {
            "text/plain": [
              "(1415577600, '603920', '191514', 10)"
            ]
          },
          "metadata": {},
          "execution_count": 198
        }
      ]
    },
    {
      "cell_type": "code",
      "metadata": {
        "id": "7UUzPoNrYiSZ"
      },
      "source": [
        "## Removing users with less than 2 interactions\n",
        "user_remove = []\n",
        "for i in userIDs:\n",
        "  if len(interactionsPerUser[i]) <=2:\n",
        "    user_remove.append(i)"
      ],
      "execution_count": null,
      "outputs": []
    },
    {
      "cell_type": "code",
      "metadata": {
        "id": "AyzE5B3HaoKF"
      },
      "source": [
        "user_remove[:10]"
      ],
      "execution_count": null,
      "outputs": []
    },
    {
      "cell_type": "code",
      "metadata": {
        "colab": {
          "base_uri": "https://localhost:8080/"
        },
        "id": "TWplT51KYxIw",
        "outputId": "b3fbef92-5eff-4304-efca-3c2dbd42788f"
      },
      "source": [
        "len(user_remove)"
      ],
      "execution_count": null,
      "outputs": [
        {
          "output_type": "execute_result",
          "data": {
            "text/plain": [
              "89719"
            ]
          },
          "metadata": {},
          "execution_count": 212
        }
      ]
    },
    {
      "cell_type": "code",
      "metadata": {
        "id": "ySjMhgVqaXgc"
      },
      "source": [
        "userIDs = {}\n",
        "itemIDs = {}\n",
        "interactions = []\n",
        "interactionsPerUser = defaultdict(list) ## For filtering the interactions.\n",
        "\n",
        "for d in Clean_Data:\n",
        "    u = d['user_id']\n",
        "    if u not in user_remove:\n",
        "      i = d['item_id']\n",
        "      t = d['review_date_ts']\n",
        "      r = d['rating']\n",
        "      if not u in userIDs: userIDs[u] = len(userIDs)\n",
        "      if not i in itemIDs: itemIDs[i] = len(itemIDs)\n",
        "      interactions.append((t,u,i,r))\n",
        "      interactionsPerUser[u].append((t,i,r))"
      ],
      "execution_count": null,
      "outputs": []
    },
    {
      "cell_type": "code",
      "metadata": {
        "colab": {
          "base_uri": "https://localhost:8080/"
        },
        "id": "Dp52jhZzbA_4",
        "outputId": "47433c62-d227-493f-a123-1ea4590995c7"
      },
      "source": [
        "len(interactionsPerUser)"
      ],
      "execution_count": null,
      "outputs": [
        {
          "output_type": "execute_result",
          "data": {
            "text/plain": [
              "15852"
            ]
          },
          "metadata": {},
          "execution_count": 214
        }
      ]
    },
    {
      "cell_type": "code",
      "metadata": {
        "id": "HmaXWAL-l9Ir"
      },
      "source": [
        "interactions.sort()"
      ],
      "execution_count": null,
      "outputs": []
    },
    {
      "cell_type": "code",
      "metadata": {
        "id": "j0B0-5GBmBNu"
      },
      "source": [
        "itemIDs['dummy'] = len(itemIDs)"
      ],
      "execution_count": null,
      "outputs": []
    },
    {
      "cell_type": "code",
      "metadata": {
        "id": "3kg0VA3_mCca"
      },
      "source": [
        "interactionsWithPrevious = []\n",
        "for u in interactionsPerUser:\n",
        "    interactionsPerUser[u].sort()\n",
        "    lastItem = 'dummy'\n",
        "    for (t,i,r) in interactionsPerUser[u]:\n",
        "        interactionsWithPrevious.append((t,u,i,lastItem,r))\n",
        "        lastItem = i"
      ],
      "execution_count": null,
      "outputs": []
    },
    {
      "cell_type": "code",
      "metadata": {
        "id": "M_A3JUKVmEIK"
      },
      "source": [
        "sorted_interactions_prev= sorted(interactionsWithPrevious, key=lambda item: (item[1],item[0]), reverse = True)"
      ],
      "execution_count": null,
      "outputs": []
    },
    {
      "cell_type": "code",
      "metadata": {
        "id": "B1CxW6samFpt"
      },
      "source": [
        "sorted_interactions_prev_pd = pd.DataFrame(sorted_interactions_prev, columns=['Time','User','Item_id','Prev','Rating'])"
      ],
      "execution_count": null,
      "outputs": []
    },
    {
      "cell_type": "code",
      "metadata": {
        "id": "A5Wjjx1JmLwo"
      },
      "source": [
        "testdf_prev = sorted_interactions_prev_pd.sort_values('Time',ascending=False).groupby('User').head(1)"
      ],
      "execution_count": null,
      "outputs": []
    },
    {
      "cell_type": "code",
      "metadata": {
        "colab": {
          "base_uri": "https://localhost:8080/",
          "height": 206
        },
        "id": "dcBau1PsmRCj",
        "outputId": "951d4dc2-40f9-4308-edfe-920aacf01967"
      },
      "source": [
        "testdf_prev.head()"
      ],
      "execution_count": null,
      "outputs": [
        {
          "output_type": "execute_result",
          "data": {
            "text/html": [
              "<div>\n",
              "<style scoped>\n",
              "    .dataframe tbody tr th:only-of-type {\n",
              "        vertical-align: middle;\n",
              "    }\n",
              "\n",
              "    .dataframe tbody tr th {\n",
              "        vertical-align: top;\n",
              "    }\n",
              "\n",
              "    .dataframe thead th {\n",
              "        text-align: right;\n",
              "    }\n",
              "</style>\n",
              "<table border=\"1\" class=\"dataframe\">\n",
              "  <thead>\n",
              "    <tr style=\"text-align: right;\">\n",
              "      <th></th>\n",
              "      <th>Time</th>\n",
              "      <th>User</th>\n",
              "      <th>Item_id</th>\n",
              "      <th>Prev</th>\n",
              "      <th>Rating</th>\n",
              "    </tr>\n",
              "  </thead>\n",
              "  <tbody>\n",
              "    <tr>\n",
              "      <th>16560</th>\n",
              "      <td>1515369600</td>\n",
              "      <td>820575</td>\n",
              "      <td>2616422</td>\n",
              "      <td>307233</td>\n",
              "      <td>10</td>\n",
              "    </tr>\n",
              "    <tr>\n",
              "      <th>39499</th>\n",
              "      <td>1515283200</td>\n",
              "      <td>578131</td>\n",
              "      <td>2526611</td>\n",
              "      <td>1658741</td>\n",
              "      <td>10</td>\n",
              "    </tr>\n",
              "    <tr>\n",
              "      <th>9151</th>\n",
              "      <td>1515196800</td>\n",
              "      <td>900541</td>\n",
              "      <td>2559060</td>\n",
              "      <td>2517143</td>\n",
              "      <td>10</td>\n",
              "    </tr>\n",
              "    <tr>\n",
              "      <th>15415</th>\n",
              "      <td>1515196800</td>\n",
              "      <td>832023</td>\n",
              "      <td>2910961</td>\n",
              "      <td>336097</td>\n",
              "      <td>10</td>\n",
              "    </tr>\n",
              "    <tr>\n",
              "      <th>4747</th>\n",
              "      <td>1515196800</td>\n",
              "      <td>952264</td>\n",
              "      <td>2812364</td>\n",
              "      <td>1785957</td>\n",
              "      <td>10</td>\n",
              "    </tr>\n",
              "  </tbody>\n",
              "</table>\n",
              "</div>"
            ],
            "text/plain": [
              "             Time    User  Item_id     Prev  Rating\n",
              "16560  1515369600  820575  2616422   307233      10\n",
              "39499  1515283200  578131  2526611  1658741      10\n",
              "9151   1515196800  900541  2559060  2517143      10\n",
              "15415  1515196800  832023  2910961   336097      10\n",
              "4747   1515196800  952264  2812364  1785957      10"
            ]
          },
          "metadata": {},
          "execution_count": 223
        }
      ]
    },
    {
      "cell_type": "code",
      "metadata": {
        "id": "BK0g0-xEm0QC"
      },
      "source": [
        "traindf_prev = sorted_interactions_prev_pd[~sorted_interactions_prev_pd.isin(testdf_prev)].dropna()"
      ],
      "execution_count": null,
      "outputs": []
    },
    {
      "cell_type": "code",
      "metadata": {
        "id": "jcbox3J-pSQq"
      },
      "source": [
        "## Converting back to lis of tuples \n",
        "records_test = testdf_prev.to_records(index=False)\n",
        "test = list(records_test)"
      ],
      "execution_count": null,
      "outputs": []
    },
    {
      "cell_type": "code",
      "metadata": {
        "id": "jXpaBJeLpUFH"
      },
      "source": [
        "## Converting back to lis of tuples \n",
        "records_train = traindf_prev.to_records(index=False)\n",
        "train = list(records_train)"
      ],
      "execution_count": null,
      "outputs": []
    },
    {
      "cell_type": "code",
      "metadata": {
        "id": "2QogxZocpVVl"
      },
      "source": [
        "itemsPerUser = defaultdict(set)\n",
        "for _,u,i,_ in interactions:\n",
        "    itemsPerUser[u].add(i)"
      ],
      "execution_count": null,
      "outputs": []
    },
    {
      "cell_type": "code",
      "metadata": {
        "id": "F2B-MNvEpWuV"
      },
      "source": [
        "items = list(itemIDs.keys())"
      ],
      "execution_count": null,
      "outputs": []
    },
    {
      "cell_type": "code",
      "metadata": {
        "id": "pcHLo7XWpYBp"
      },
      "source": [
        "optimizer = tf.keras.optimizers.Adam(0.1)"
      ],
      "execution_count": null,
      "outputs": []
    },
    {
      "cell_type": "code",
      "metadata": {
        "id": "XCg3ywvgpY-Z"
      },
      "source": [
        "class FPMC(tf.keras.Model):\n",
        "    def __init__(self, K, lamb, UI = 1, IJ = 1):\n",
        "        super(FPMC, self).__init__()\n",
        "        # Initialize variables\n",
        "        self.betaI = tf.Variable(tf.random.normal([len(itemIDs)],stddev=0.001))\n",
        "        self.gammaUI = tf.Variable(tf.random.normal([len(userIDs),K],stddev=0.001))\n",
        "        self.gammaIU = tf.Variable(tf.random.normal([len(itemIDs),K],stddev=0.001))\n",
        "        self.gammaIJ = tf.Variable(tf.random.normal([len(itemIDs),K],stddev=0.001))\n",
        "        self.gammaJI = tf.Variable(tf.random.normal([len(itemIDs),K],stddev=0.001))\n",
        "        # Regularization coefficient\n",
        "        self.lamb = lamb\n",
        "        # Which terms to include\n",
        "        self.UI = UI\n",
        "        self.IJ = IJ\n",
        "\n",
        "    # Prediction for a single instance\n",
        "    def predict(self, u, i, j):\n",
        "        p = self.betaI[i] + self.UI * tf.tensordot(self.gammaUI[u], self.gammaIU[i], 1) +\\\n",
        "                            self.IJ * tf.tensordot(self.gammaIJ[i], self.gammaJI[j], 1)\n",
        "        return p\n",
        "\n",
        "    # Regularizer\n",
        "    def reg(self):\n",
        "        return self.lamb * (tf.nn.l2_loss(self.betaI) +\\\n",
        "                            tf.nn.l2_loss(self.gammaUI) +\\\n",
        "                            tf.nn.l2_loss(self.gammaIU) +\\\n",
        "                            tf.nn.l2_loss(self.gammaIJ) +\\\n",
        "                            tf.nn.l2_loss(self.gammaJI))\n",
        "\n",
        "    def call(self, sampleU, # user\n",
        "                   sampleI, # item\n",
        "                   sampleJ, # previous item\n",
        "                   sampleK): # negative item\n",
        "        u = tf.convert_to_tensor(sampleU, dtype=tf.int32)\n",
        "        i = tf.convert_to_tensor(sampleI, dtype=tf.int32)\n",
        "        j = tf.convert_to_tensor(sampleJ, dtype=tf.int32)\n",
        "        k = tf.convert_to_tensor(sampleK, dtype=tf.int32)\n",
        "        gamma_ui = tf.nn.embedding_lookup(self.gammaUI, u)\n",
        "        gamma_iu = tf.nn.embedding_lookup(self.gammaIU, i)\n",
        "        gamma_ij = tf.nn.embedding_lookup(self.gammaIJ, i)\n",
        "        gamma_ji = tf.nn.embedding_lookup(self.gammaJI, j)\n",
        "        beta_i = tf.nn.embedding_lookup(self.betaI, i)\n",
        "        x_uij = beta_i + self.UI * tf.reduce_sum(tf.multiply(gamma_ui, gamma_iu), 1) +\\\n",
        "                         self.IJ * tf.reduce_sum(tf.multiply(gamma_ij, gamma_ji), 1)\n",
        "        gamma_uk = tf.nn.embedding_lookup(self.gammaUI, u)\n",
        "        gamma_ku = tf.nn.embedding_lookup(self.gammaIU, k)\n",
        "        gamma_kj = tf.nn.embedding_lookup(self.gammaIJ, k)\n",
        "        gamma_jk = tf.nn.embedding_lookup(self.gammaJI, j)\n",
        "        beta_k = tf.nn.embedding_lookup(self.betaI, k)\n",
        "        x_ukj = beta_k + self.UI * tf.reduce_sum(tf.multiply(gamma_uk, gamma_ku), 1) +\\\n",
        "                         self.IJ * tf.reduce_sum(tf.multiply(gamma_kj, gamma_jk), 1)\n",
        "        return -tf.reduce_mean(tf.math.log(tf.math.sigmoid(x_uij - x_ukj)))"
      ],
      "execution_count": null,
      "outputs": []
    },
    {
      "cell_type": "code",
      "metadata": {
        "id": "WFPzFch3pnTh"
      },
      "source": [
        "def trainingStep(model, interactions):\n",
        "    with tf.GradientTape() as tape:\n",
        "        sampleU, sampleI, sampleJ, sampleK = [], [], [], []\n",
        "        for _ in range(100000):\n",
        "            _,u,i,j,_ = random.choice(interactions) # positive sample\n",
        "            k = random.choice(items) # negative sample\n",
        "            while k in itemsPerUser[u]:\n",
        "                k = random.choice(items)\n",
        "            sampleU.append(userIDs[u])\n",
        "            sampleI.append(itemIDs[i])\n",
        "            sampleJ.append(itemIDs[j])\n",
        "            sampleK.append(itemIDs[k])\n",
        "\n",
        "        loss = model(sampleU,sampleI,sampleJ,sampleK)\n",
        "        loss += model.reg()\n",
        "    gradients = tape.gradient(loss, model.trainable_variables)\n",
        "    optimizer.apply_gradients((grad, var) for\n",
        "                              (grad, var) in zip(gradients, model.trainable_variables)\n",
        "                              if grad is not None)\n",
        "    return loss.numpy()"
      ],
      "execution_count": null,
      "outputs": []
    },
    {
      "cell_type": "code",
      "metadata": {
        "id": "5TGfCJq8po80"
      },
      "source": [
        "modelFPMC = FPMC(5, 0.001, 1, 1)\n",
        "modelMF = FPMC(5, 0.001, 1, 0)\n",
        "modelFMC = FPMC(5, 0.001, 0, 1)"
      ],
      "execution_count": null,
      "outputs": []
    },
    {
      "cell_type": "code",
      "metadata": {
        "id": "G56PQLrJpqdq"
      },
      "source": [
        "interactionsTestPerUser = defaultdict(set)\n",
        "itemSet = set()\n",
        "for _,u,i,j,_ in test:\n",
        "    interactionsTestPerUser[u].add((i,j))\n",
        "    itemSet.add(i)\n",
        "    itemSet.add(j)"
      ],
      "execution_count": null,
      "outputs": []
    },
    {
      "cell_type": "code",
      "metadata": {
        "id": "RDqNHMZUptWc"
      },
      "source": [
        "def AUCu(model, u, N):\n",
        "    win = 0\n",
        "    if N > len(interactionsTestPerUser[u]):\n",
        "        N = len(interactionsTestPerUser[u])\n",
        "    positive = random.sample(interactionsTestPerUser[u],N)\n",
        "    negative = random.sample(itemSet,N)\n",
        "    for (i,j),k in zip(positive,negative):\n",
        "        sp = model.predict(userIDs[u], itemIDs[i], itemIDs[j]).numpy()\n",
        "        sn = model.predict(userIDs[u], itemIDs[k], itemIDs[j]).numpy()\n",
        "        if sp > sn:\n",
        "            win += 1\n",
        "    return win/N"
      ],
      "execution_count": null,
      "outputs": []
    },
    {
      "cell_type": "code",
      "metadata": {
        "id": "D4ZSZLaEpuuy"
      },
      "source": [
        "def AUC(model):\n",
        "    av = []\n",
        "    for u in interactionsTestPerUser:\n",
        "        av.append(AUCu(model, u, 10))\n",
        "    return sum(av) / len(av)"
      ],
      "execution_count": null,
      "outputs": []
    },
    {
      "cell_type": "code",
      "metadata": {
        "colab": {
          "base_uri": "https://localhost:8080/"
        },
        "id": "ywtHVW-zpv1z",
        "outputId": "8135a0df-4904-4bae-833f-4d3a196d8901"
      },
      "source": [
        "for model,name in [(modelFPMC,\"FPMC\"), (modelMF,\"MF\"), (modelFMC,\"FMC\")]:\n",
        "    for i in range(100):\n",
        "        obj = trainingStep(model, train)\n",
        "        if (i % 10 == 9): print(\"iteration \" + str(i+1) + \", objective = \" + str(obj))\n",
        "    print(name + \" AUC = \" + str(AUC(model)))"
      ],
      "execution_count": null,
      "outputs": [
        {
          "output_type": "stream",
          "name": "stdout",
          "text": [
            "iteration 10, objective = 0.67854786\n",
            "iteration 20, objective = 0.66019565\n",
            "iteration 30, objective = 0.6493586\n",
            "iteration 40, objective = 0.650917\n",
            "iteration 50, objective = 0.650144\n",
            "iteration 60, objective = 0.64814615\n",
            "iteration 70, objective = 0.64725626\n",
            "iteration 80, objective = 0.64855945\n",
            "iteration 90, objective = 0.647459\n",
            "iteration 100, objective = 0.6471898\n",
            "FPMC AUC = 0.6724072672218017\n",
            "iteration 10, objective = 0.71560854\n",
            "iteration 20, objective = 0.6892946\n",
            "iteration 30, objective = 0.6695754\n",
            "iteration 40, objective = 0.6639319\n",
            "iteration 50, objective = 0.6622577\n",
            "iteration 60, objective = 0.66142213\n",
            "iteration 70, objective = 0.66096777\n",
            "iteration 80, objective = 0.6613946\n",
            "iteration 90, objective = 0.66157633\n",
            "iteration 100, objective = 0.66115785\n",
            "MF AUC = 0.6666666666666666\n",
            "iteration 10, objective = 0.7078889\n",
            "iteration 20, objective = 0.6874008\n",
            "iteration 30, objective = 0.6794353\n",
            "iteration 40, objective = 0.66048825\n",
            "iteration 50, objective = 0.65308744\n",
            "iteration 60, objective = 0.6530785\n",
            "iteration 70, objective = 0.65102136\n",
            "iteration 80, objective = 0.64865494\n",
            "iteration 90, objective = 0.64865375\n",
            "iteration 100, objective = 0.64894307\n",
            "FMC AUC = 0.6633863234923039\n"
          ]
        }
      ]
    },
    {
      "cell_type": "code",
      "metadata": {
        "id": "iIb0jOtlpw78"
      },
      "source": [
        " "
      ],
      "execution_count": null,
      "outputs": []
    }
  ]
}